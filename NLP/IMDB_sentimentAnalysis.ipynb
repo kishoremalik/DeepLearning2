{
 "cells": [
  {
   "cell_type": "code",
   "execution_count": 1,
   "id": "4077dfaa",
   "metadata": {},
   "outputs": [],
   "source": [
    "import numpy as np\n",
    "import pandas as pd"
   ]
  },
  {
   "cell_type": "code",
   "execution_count": null,
   "id": "9c41c0f3",
   "metadata": {},
   "outputs": [],
   "source": [
    "import re\n",
    "import nltk\n",
    "nltk.download('punkt')\n",
    "from nltk.corpus import stopwords\n",
    "nltk.download('stopwords')\n",
    "stop_words=set(stopwords.words(\"english\"))\n",
    "from nltk.stem import PorterStemmer\n",
    "from sklearn.feature_extraction.text import CountVectorizer\n",
    "from sklearn.preprocessing import LabelEncoder\n",
    "from sklearn.model_selection import train_test_split\n",
    "from xgboost import XGBClassifier \n",
    "from sklearn.metrics import classification_report,accuracy_score,confusion_matrix"
   ]
  },
  {
   "cell_type": "code",
   "execution_count": 2,
   "id": "955e6fc1",
   "metadata": {},
   "outputs": [],
   "source": [
    "def rem_stopwords(text):\n",
    "    stop_wordsx =set(stopwords.words('english'))\n",
    "    rs=\" \"\n",
    "    for words in text.split():\n",
    "        if words not in stop_wordsx:\n",
    "            rs=rs +\" \"+ words\n",
    "    return rs \n",
    "\n",
    "def remove_word(text):\n",
    "    dat=\" \"\n",
    "    for word in text.split():\n",
    "        if word.isalnum() and len(word)>3:\n",
    "            dat=dat+\" \"+word\n",
    "    return dat \n",
    "\n",
    "def stem_Data(text):\n",
    "    ps = PorterStemmer()\n",
    "    stm=\"\"\n",
    "    for word in text:\n",
    "        stm=stm+ ps.stem(word)\n",
    "    return stm "
   ]
  },
  {
   "cell_type": "code",
   "execution_count": null,
   "id": "774c0900",
   "metadata": {},
   "outputs": [],
   "source": [
    "def preProcess(data):\n",
    "    data['review'] = data['review'].str.lower()\n",
    "    data['review'] = data['review'].apply((lambda x: re.sub('[^a-zA-z\\s]','',x)))\n",
    "    data['review'] = data['review'].apply(rem_stopwords)\n",
    "    data['review'] = data['review'].apply(remove_word)\n",
    "    data['review'] = data['review'].apply(stem_Data)\n",
    "    return data\n",
    "def vectorize(data):\n",
    "    cv = CountVectorizer(max_features = 1000)\n",
    "    X = cv.fit_transform(data.review).toarray()\n",
    "    return X"
   ]
  },
  {
   "cell_type": "code",
   "execution_count": null,
   "id": "5aea4a7c",
   "metadata": {},
   "outputs": [],
   "source": [
    "def sampling(text):\n",
    "    lbl=LabelEncoder()\n",
    "    lbl.fit(data['sentiment'])\n",
    "    Target=lbl.transform(data['sentiment'])\n",
    "    feature=vectorize(text)\n",
    "    print(feature[1].shape)\n",
    "    x_train,x_test,y_train,y_test=train_test_split(feature,Target,test_size=0.3)\n",
    "    return x_train,x_test,y_train,y_test"
   ]
  },
  {
   "cell_type": "code",
   "execution_count": null,
   "id": "0c59cc61",
   "metadata": {},
   "outputs": [],
   "source": [
    "def model_build():\n",
    "    model=XGBClassifier()\n",
    "    return model"
   ]
  },
  {
   "cell_type": "code",
   "execution_count": null,
   "id": "134fe6b7",
   "metadata": {},
   "outputs": [],
   "source": [
    "data=pd.read_csv(\"E:\\Datasets\\classification\\IMDB Dataset.csv\") \n",
    "preProcess_data=preProcess(data)\n",
    "x_train,x_test,y_train,y_test=sampling(preProcess_data)"
   ]
  },
  {
   "cell_type": "code",
   "execution_count": null,
   "id": "0b48d2a1",
   "metadata": {},
   "outputs": [],
   "source": [
    "x_train.shape"
   ]
  },
  {
   "cell_type": "code",
   "execution_count": null,
   "id": "76aee9dd",
   "metadata": {},
   "outputs": [],
   "source": [
    "model=model_build()\n",
    "model.fit(x_train,y_train)"
   ]
  },
  {
   "cell_type": "code",
   "execution_count": null,
   "id": "5894a2c9",
   "metadata": {},
   "outputs": [],
   "source": [
    "xgBoost_pred=model.predict(x_test)"
   ]
  },
  {
   "cell_type": "code",
   "execution_count": null,
   "id": "37dc4016",
   "metadata": {},
   "outputs": [],
   "source": [
    "print(classification_report(y_test,xgBoost_pred))\n",
    "print(accuracy_score(y_test,xgBoost_pred))"
   ]
  },
  {
   "cell_type": "code",
   "execution_count": null,
   "id": "73f98229",
   "metadata": {},
   "outputs": [],
   "source": [
    "rev =  \"\"\"Terrible. Complete trash. Brainless tripe. Insulting to anyone who isn't an 8 year old fan boy. Im actually pretty disgusted that this movie is making the money it is - what does it say about the people who brainlessly hand over the hard earned cash to be 'entertained' in this fashion and then come here to leave a positive 8.8 review?? Oh yes, they are morons. Its the only sensible conclusion to draw. How anyone can rate this movie amongst the pantheon of great titles is beyond me.\n",
    "\n",
    "So trying to find something constructive to say about this title is hard...I enjoyed Iron Man? Tony Stark is an inspirational character in his own movies but here he is a pale shadow of that...About the only 'hook' this movie had into me was wondering when and if Iron Man would knock Captain America out...Oh how I wished he had :( What were these other characters anyways? Useless, bickering idiots who really couldn't organise happy times in a brewery. The film was a chaotic mish mash of action elements and failed 'set pieces'...\n",
    "\n",
    "I found the villain to be quite amusing.\n",
    "\n",
    "And now I give up. This movie is not robbing any more of my time but I felt I ought to contribute to restoring the obvious fake rating and reviews this movie has been getting on IMDb.\"\"\""
   ]
  },
  {
   "cell_type": "code",
   "execution_count": null,
   "id": "a95e60f9",
   "metadata": {},
   "outputs": [],
   "source": [
    "dt={\"review\":rev}\n",
    "custom_data=pd.DataFrame(dt,index=[0])"
   ]
  },
  {
   "cell_type": "code",
   "execution_count": null,
   "id": "957809a8",
   "metadata": {},
   "outputs": [],
   "source": [
    "x_data=preProcess(custom_data)"
   ]
  },
  {
   "cell_type": "code",
   "execution_count": null,
   "id": "df5d5901",
   "metadata": {},
   "outputs": [],
   "source": [
    "vectr_data=vectorize(x_data)"
   ]
  },
  {
   "cell_type": "code",
   "execution_count": null,
   "id": "3c8ce22d",
   "metadata": {},
   "outputs": [],
   "source": [
    "vectr_data.shape"
   ]
  },
  {
   "cell_type": "code",
   "execution_count": null,
   "id": "51047562",
   "metadata": {},
   "outputs": [],
   "source": [
    "lstf=[]\n",
    "for i in range(903):\n",
    "    lstf.append(0)\n"
   ]
  },
  {
   "cell_type": "code",
   "execution_count": null,
   "id": "2570e7e4",
   "metadata": {},
   "outputs": [],
   "source": [
    "p_data=np.array(lstf)\n",
    "dtt=p_data.reshape(1,903)\n",
    "dtt=dtt.as"
   ]
  },
  {
   "cell_type": "code",
   "execution_count": null,
   "id": "64d1f7f6",
   "metadata": {},
   "outputs": [],
   "source": [
    "c_data=np.hstack((vectr_data,dtt))"
   ]
  },
  {
   "cell_type": "code",
   "execution_count": null,
   "id": "83356571",
   "metadata": {},
   "outputs": [],
   "source": [
    "y_predx = model.predict(c_data)\n"
   ]
  },
  {
   "cell_type": "code",
   "execution_count": null,
   "id": "3b1ba1cb",
   "metadata": {},
   "outputs": [],
   "source": [
    "res=\"\"\n",
    "if y_predx==0:\n",
    "    res=\"negative\"\n",
    "else:\n",
    "    res=\"positive\""
   ]
  },
  {
   "cell_type": "code",
   "execution_count": null,
   "id": "ed0f3ccc",
   "metadata": {},
   "outputs": [],
   "source": [
    "print(\"the review is =\",res)"
   ]
  },
  {
   "cell_type": "code",
   "execution_count": null,
   "id": "426ab3bd",
   "metadata": {},
   "outputs": [],
   "source": []
  }
 ],
 "metadata": {
  "kernelspec": {
   "display_name": "Python 3",
   "language": "python",
   "name": "python3"
  },
  "language_info": {
   "codemirror_mode": {
    "name": "ipython",
    "version": 3
   },
   "file_extension": ".py",
   "mimetype": "text/x-python",
   "name": "python",
   "nbconvert_exporter": "python",
   "pygments_lexer": "ipython3",
   "version": "3.7.10"
  }
 },
 "nbformat": 4,
 "nbformat_minor": 5
}
