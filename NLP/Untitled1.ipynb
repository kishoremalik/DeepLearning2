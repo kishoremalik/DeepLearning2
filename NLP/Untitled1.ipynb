{
 "cells": [
  {
   "cell_type": "code",
   "execution_count": 1,
   "id": "c0089faa",
   "metadata": {},
   "outputs": [],
   "source": [
    "import numpy as np\n",
    "import pandas as pd\n",
    "import re"
   ]
  },
  {
   "cell_type": "code",
   "execution_count": 2,
   "id": "bf497410",
   "metadata": {},
   "outputs": [],
   "source": [
    "first_sentence = \"Data Science is the sexiest job# of the 21st century\"\n",
    "second_sentence = \"machine learning is the key for data science\""
   ]
  },
  {
   "cell_type": "code",
   "execution_count": 3,
   "id": "d37c7e9b",
   "metadata": {},
   "outputs": [],
   "source": [
    "cleaning=re.sub('[^A-Za-z\\s]','',first_sentence)"
   ]
  },
  {
   "cell_type": "code",
   "execution_count": 4,
   "id": "fe817070",
   "metadata": {},
   "outputs": [
    {
     "data": {
      "text/plain": [
       "'Data Science is the sexiest job of the st century'"
      ]
     },
     "execution_count": 4,
     "metadata": {},
     "output_type": "execute_result"
    }
   ],
   "source": [
    "cleaning"
   ]
  },
  {
   "cell_type": "code",
   "execution_count": 5,
   "id": "1385dafa",
   "metadata": {},
   "outputs": [
    {
     "data": {
      "text/plain": [
       "'data science is the sexiest job of the st century'"
      ]
     },
     "execution_count": 5,
     "metadata": {},
     "output_type": "execute_result"
    }
   ],
   "source": [
    "data=cleaning.lower()\n",
    "data"
   ]
  },
  {
   "cell_type": "markdown",
   "id": "deb6a1b6",
   "metadata": {},
   "source": [
    "## Stemming"
   ]
  },
  {
   "cell_type": "code",
   "execution_count": null,
   "id": "e4411240",
   "metadata": {},
   "outputs": [],
   "source": []
  }
 ],
 "metadata": {
  "kernelspec": {
   "display_name": "Python 3",
   "language": "python",
   "name": "python3"
  },
  "language_info": {
   "codemirror_mode": {
    "name": "ipython",
    "version": 3
   },
   "file_extension": ".py",
   "mimetype": "text/x-python",
   "name": "python",
   "nbconvert_exporter": "python",
   "pygments_lexer": "ipython3",
   "version": "3.7.10"
  }
 },
 "nbformat": 4,
 "nbformat_minor": 5
}
