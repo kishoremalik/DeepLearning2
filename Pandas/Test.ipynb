{
 "cells": [
  {
   "cell_type": "code",
   "execution_count": 1,
   "id": "282d670a",
   "metadata": {},
   "outputs": [],
   "source": [
    "import numpy as np\n",
    "import pandas as pd"
   ]
  },
  {
   "cell_type": "code",
   "execution_count": null,
   "id": "1d33deed",
   "metadata": {},
   "outputs": [],
   "source": [
    "data=pd.read_csv('insurance.csv')"
   ]
  },
  {
   "cell_type": "code",
   "execution_count": null,
   "id": "0d14c407",
   "metadata": {},
   "outputs": [],
   "source": [
    "data.head()"
   ]
  },
  {
   "cell_type": "code",
   "execution_count": 5,
   "id": "74f166bb",
   "metadata": {},
   "outputs": [],
   "source": [
    "df1=pd.DataFrame({\"name\":[\"A\",\"B\",\"C\"],\"addrs\":[\"AD1\",\"AD2\",\"AD3\"],\"ID\":[1,23,3]})\n",
    "df2=pd.DataFrame({\"sal\":[12,23,45],\"grade\":[\"GA\",\"GB\",\"GC\"],\"ID\":[11,2,3]})"
   ]
  },
  {
   "cell_type": "code",
   "execution_count": 6,
   "id": "e1fe03a2",
   "metadata": {},
   "outputs": [],
   "source": [
    "concatA=pd.concat([df1,df2], join='inner',axis=1)\n"
   ]
  },
  {
   "cell_type": "code",
   "execution_count": 7,
   "id": "bbf1e54e",
   "metadata": {},
   "outputs": [
    {
     "data": {
      "text/html": [
       "<div>\n",
       "<style scoped>\n",
       "    .dataframe tbody tr th:only-of-type {\n",
       "        vertical-align: middle;\n",
       "    }\n",
       "\n",
       "    .dataframe tbody tr th {\n",
       "        vertical-align: top;\n",
       "    }\n",
       "\n",
       "    .dataframe thead th {\n",
       "        text-align: right;\n",
       "    }\n",
       "</style>\n",
       "<table border=\"1\" class=\"dataframe\">\n",
       "  <thead>\n",
       "    <tr style=\"text-align: right;\">\n",
       "      <th></th>\n",
       "      <th>name</th>\n",
       "      <th>addrs</th>\n",
       "      <th>ID</th>\n",
       "      <th>sal</th>\n",
       "      <th>grade</th>\n",
       "      <th>ID</th>\n",
       "    </tr>\n",
       "  </thead>\n",
       "  <tbody>\n",
       "    <tr>\n",
       "      <th>0</th>\n",
       "      <td>A</td>\n",
       "      <td>AD1</td>\n",
       "      <td>1</td>\n",
       "      <td>12</td>\n",
       "      <td>GA</td>\n",
       "      <td>11</td>\n",
       "    </tr>\n",
       "    <tr>\n",
       "      <th>1</th>\n",
       "      <td>B</td>\n",
       "      <td>AD2</td>\n",
       "      <td>23</td>\n",
       "      <td>23</td>\n",
       "      <td>GB</td>\n",
       "      <td>2</td>\n",
       "    </tr>\n",
       "    <tr>\n",
       "      <th>2</th>\n",
       "      <td>C</td>\n",
       "      <td>AD3</td>\n",
       "      <td>3</td>\n",
       "      <td>45</td>\n",
       "      <td>GC</td>\n",
       "      <td>3</td>\n",
       "    </tr>\n",
       "  </tbody>\n",
       "</table>\n",
       "</div>"
      ],
      "text/plain": [
       "  name addrs  ID  sal grade  ID\n",
       "0    A   AD1   1   12    GA  11\n",
       "1    B   AD2  23   23    GB   2\n",
       "2    C   AD3   3   45    GC   3"
      ]
     },
     "execution_count": 7,
     "metadata": {},
     "output_type": "execute_result"
    }
   ],
   "source": [
    "concatA"
   ]
  },
  {
   "cell_type": "code",
   "execution_count": 23,
   "id": "1421f932",
   "metadata": {},
   "outputs": [],
   "source": [
    "mergeD=pd.merge(df1,df2,on='ID')"
   ]
  },
  {
   "cell_type": "code",
   "execution_count": 24,
   "id": "0630956c",
   "metadata": {},
   "outputs": [
    {
     "data": {
      "text/html": [
       "<div>\n",
       "<style scoped>\n",
       "    .dataframe tbody tr th:only-of-type {\n",
       "        vertical-align: middle;\n",
       "    }\n",
       "\n",
       "    .dataframe tbody tr th {\n",
       "        vertical-align: top;\n",
       "    }\n",
       "\n",
       "    .dataframe thead th {\n",
       "        text-align: right;\n",
       "    }\n",
       "</style>\n",
       "<table border=\"1\" class=\"dataframe\">\n",
       "  <thead>\n",
       "    <tr style=\"text-align: right;\">\n",
       "      <th></th>\n",
       "      <th>name</th>\n",
       "      <th>addrs</th>\n",
       "      <th>ID</th>\n",
       "      <th>sal</th>\n",
       "      <th>grade</th>\n",
       "    </tr>\n",
       "  </thead>\n",
       "  <tbody>\n",
       "    <tr>\n",
       "      <th>0</th>\n",
       "      <td>C</td>\n",
       "      <td>AD3</td>\n",
       "      <td>3</td>\n",
       "      <td>45</td>\n",
       "      <td>GC</td>\n",
       "    </tr>\n",
       "  </tbody>\n",
       "</table>\n",
       "</div>"
      ],
      "text/plain": [
       "  name addrs  ID  sal grade\n",
       "0    C   AD3   3   45    GC"
      ]
     },
     "execution_count": 24,
     "metadata": {},
     "output_type": "execute_result"
    }
   ],
   "source": [
    "mergeD"
   ]
  },
  {
   "cell_type": "code",
   "execution_count": 20,
   "id": "c7cd5b73",
   "metadata": {},
   "outputs": [
    {
     "data": {
      "text/plain": [
       "[0    A\n",
       " 1    B\n",
       " 2    C\n",
       " Name: name, dtype: object,\n",
       " 0    12\n",
       " 1    23\n",
       " 2    45\n",
       " Name: sal, dtype: int64]"
      ]
     },
     "execution_count": 20,
     "metadata": {},
     "output_type": "execute_result"
    }
   ],
   "source": [
    "mergD[mergd['ID']]"
   ]
  },
  {
   "cell_type": "code",
   "execution_count": null,
   "id": "61eeaae1",
   "metadata": {},
   "outputs": [],
   "source": []
  }
 ],
 "metadata": {
  "kernelspec": {
   "display_name": "Python 3",
   "language": "python",
   "name": "python3"
  },
  "language_info": {
   "codemirror_mode": {
    "name": "ipython",
    "version": 3
   },
   "file_extension": ".py",
   "mimetype": "text/x-python",
   "name": "python",
   "nbconvert_exporter": "python",
   "pygments_lexer": "ipython3",
   "version": "3.7.10"
  }
 },
 "nbformat": 4,
 "nbformat_minor": 5
}
