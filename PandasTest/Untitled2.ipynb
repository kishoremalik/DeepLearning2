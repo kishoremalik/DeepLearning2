{
 "cells": [
  {
   "cell_type": "code",
   "execution_count": 1,
   "id": "51ec2965",
   "metadata": {},
   "outputs": [
    {
     "data": {
      "text/plain": [
       "False"
      ]
     },
     "execution_count": 1,
     "metadata": {},
     "output_type": "execute_result"
    }
   ],
   "source": [
    "from exif import Image\n",
    "with open('E:\\\\Datasets\\\\opencvImage\\\\til3.jpg', 'rb') as image_file:\n",
    "    my_image = Image(image_file)\n",
    "my_image.has_exif"
   ]
  },
  {
   "cell_type": "code",
   "execution_count": null,
   "id": "f42782ef",
   "metadata": {},
   "outputs": [],
   "source": [
    "list_all()"
   ]
  }
 ],
 "metadata": {
  "kernelspec": {
   "display_name": "Python 3",
   "language": "python",
   "name": "python3"
  },
  "language_info": {
   "codemirror_mode": {
    "name": "ipython",
    "version": 3
   },
   "file_extension": ".py",
   "mimetype": "text/x-python",
   "name": "python",
   "nbconvert_exporter": "python",
   "pygments_lexer": "ipython3",
   "version": "3.7.10"
  }
 },
 "nbformat": 4,
 "nbformat_minor": 5
}
