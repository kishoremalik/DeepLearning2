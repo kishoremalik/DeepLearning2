{
 "cells": [
  {
   "cell_type": "code",
   "execution_count": 1,
   "id": "20f8e8b5",
   "metadata": {},
   "outputs": [],
   "source": [
    "import pandas as pd\n",
    "import numpy as np\n",
    "\n",
    "import matplotlib.pyplot as plt\n",
    "from matplotlib.patches import Patch\n",
    "from matplotlib.lines import Line2D\n",
    "import seaborn as sns\n",
    "%matplotlib inline"
   ]
  },
  {
   "cell_type": "code",
   "execution_count": 2,
   "id": "2ce401cf",
   "metadata": {},
   "outputs": [],
   "source": [
    "df = pd.read_csv(\"https://raw.githubusercontent.com/agconti/kaggle-titanic/master/data/train.csv\")\n",
    "\n",
    "# PassengerId is a dataset artifact, not something useful for analysis\n",
    "df.drop(\"PassengerId\", axis=1, inplace=True)\n",
    "\n",
    "# We want to use Age as one of the main examples, drop rows that are missing Age values\n",
    "df.dropna(subset=[\"Age\"], inplace=True)"
   ]
  },
  {
   "cell_type": "code",
   "execution_count": 3,
   "id": "f8df6938",
   "metadata": {},
   "outputs": [
    {
     "name": "stderr",
     "output_type": "stream",
     "text": [
      "c:\\users\\user\\anaconda3\\envs\\myenv\\lib\\site-packages\\seaborn\\_decorators.py:43: FutureWarning: Pass the following variable as a keyword arg: x. From version 0.12, the only valid positional argument will be `data`, and passing other arguments without an explicit keyword will result in an error or misinterpretation.\n",
      "  FutureWarning\n",
      "c:\\users\\user\\anaconda3\\envs\\myenv\\lib\\site-packages\\seaborn\\categorical.py:3772: UserWarning: catplot is a figure-level function and does not accept target axes. You may wish to try countplot\n",
      "  warnings.warn(msg, UserWarning)\n"
     ]
    },
    {
     "data": {
      "image/png": "[encoded data removed]",
      "text/plain": [
       "<Figure size 432x288 with 1 Axes>"
      ]
     },
     "metadata": {
      "needs_background": "light"
     },
     "output_type": "display_data"
    }
   ],
   "source": [
    "fig, ax = plt.subplots()\n",
    "\n",
    "sns.catplot(\"Pclass\", hue=\"Survived\", data=df, kind=\"count\", \n",
    "            palette={1:\"blue\", 0:\"green\"}, ax=ax)\n",
    "\n",
    "plt.close(2) # catplot creates an extra figure we don't need\n",
    "\n",
    "ax.set_xlabel(\"Passenger Class\")\n",
    "\n",
    "color_patches = [\n",
    "    Patch(facecolor=\"blue\", label=\"survived\"),\n",
    "    Patch(facecolor=\"green\", label=\"did not survive\")\n",
    "]\n",
    "ax.legend(handles=color_patches)\n",
    "\n",
    "fig.suptitle(\"Passenger Class vs. Survival for Titanic Passengers\");"
   ]
  },
  {
   "cell_type": "code",
   "execution_count": 4,
   "id": "56ead7f7",
   "metadata": {},
   "outputs": [
    {
     "name": "stderr",
     "output_type": "stream",
     "text": [
      "c:\\users\\user\\anaconda3\\envs\\myenv\\lib\\site-packages\\seaborn\\_decorators.py:43: FutureWarning: Pass the following variable as a keyword arg: x. From version 0.12, the only valid positional argument will be `data`, and passing other arguments without an explicit keyword will result in an error or misinterpretation.\n",
      "  FutureWarning\n",
      "c:\\users\\user\\anaconda3\\envs\\myenv\\lib\\site-packages\\seaborn\\categorical.py:3772: UserWarning: catplot is a figure-level function and does not accept target axes. You may wish to try countplot\n",
      "  warnings.warn(msg, UserWarning)\n",
      "No handles with labels found to put in legend.\n",
      "c:\\users\\user\\anaconda3\\envs\\myenv\\lib\\site-packages\\ipykernel_launcher.py:9: UserWarning: FixedFormatter should only be used together with FixedLocator\n",
      "  if __name__ == '__main__':\n"
     ]
    },
    {
     "data": {
      "image/png": "[encoded data removed]",
      "text/plain": [
       "<Figure size 432x288 with 1 Axes>"
      ]
     },
     "metadata": {
      "needs_background": "light"
     },
     "output_type": "display_data"
    }
   ],
   "source": [
    "fig, ax = plt.subplots()\n",
    "\n",
    "sns.catplot(\"Survived\", hue=\"Pclass\", data=df, kind=\"count\", \n",
    "            palette={1:\"yellow\", 2:\"orange\", 3:\"red\"}, ax=ax)\n",
    "\n",
    "plt.close(2) # catplot creates an extra figure we don't need\n",
    "\n",
    "ax.legend(title=\"Passenger Class\")\n",
    "ax.set_xticklabels([\"did not survive\", \"survived\"])\n",
    "ax.set_xlabel(\"\")\n",
    "\n",
    "fig.suptitle(\"Passenger Class vs. Survival for Titanic Passengers\");\n"
   ]
  },
  {
   "cell_type": "code",
   "execution_count": 5,
   "id": "58251ebf",
   "metadata": {},
   "outputs": [],
   "source": [
    "from sklearn.feature_selection import SelectKBest\n",
    "from sklearn.feature_selection import chi2"
   ]
  },
  {
   "cell_type": "code",
   "execution_count": null,
   "id": "5e2b09e2",
   "metadata": {},
   "outputs": [],
   "source": [
    "target="
   ]
  }
 ],
 "metadata": {
  "kernelspec": {
   "display_name": "Python 3",
   "language": "python",
   "name": "python3"
  },
  "language_info": {
   "codemirror_mode": {
    "name": "ipython",
    "version": 3
   },
   "file_extension": ".py",
   "mimetype": "text/x-python",
   "name": "python",
   "nbconvert_exporter": "python",
   "pygments_lexer": "ipython3",
   "version": "3.7.10"
  }
 },
 "nbformat": 4,
 "nbformat_minor": 5
}
