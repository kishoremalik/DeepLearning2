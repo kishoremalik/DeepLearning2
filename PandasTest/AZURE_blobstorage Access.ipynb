{
 "cells": [
  {
   "cell_type": "code",
   "execution_count": 8,
   "metadata": {},
   "outputs": [],
   "source": [
    "from datetime import datetime, timedelta\n",
    "from azure.storage.blob import BlobServiceClient, generate_account_sas, ResourceTypes, AccountSasPermissions\n",
    "\n",
    "sas_token = generate_account_sas(\n",
    "    account_name=\"storagex22\",\n",
    "    account_key=\"2SifpLD9E2EzLEbxDf7qA2ZTIuanHFnX4EHbwvcBIn55Yxw+U7VvUBh/RkhDo+3TxDczfv8DZsJqVcMa0Eludg==\",\n",
    "    resource_types=ResourceTypes(service=True),\n",
    "    permission=AccountSasPermissions(read=True),\n",
    "    expiry=datetime.utcnow() + timedelta(hours=1)\n",
    ")\n",
    "\n",
    "blob_service_client = BlobServiceClient(account_url=\"https://storagex22.blob.core.windows.net/containerx22/im7.jpg\", credential=sas_token)"
   ]
  },
  {
   "cell_type": "code",
   "execution_count": 9,
   "metadata": {},
   "outputs": [
    {
     "data": {
      "text/plain": [
       "<azure.storage.blob._blob_service_client.BlobServiceClient at 0x1dbc7374f48>"
      ]
     },
     "execution_count": 9,
     "metadata": {},
     "output_type": "execute_result"
    }
   ],
   "source": [
    "blob_service_client"
   ]
  },
  {
   "cell_type": "code",
   "execution_count": null,
   "metadata": {},
   "outputs": [],
   "source": [
    "import pandas as pd\n",
    "import cv2\n"
   ]
  }
 ],
 "metadata": {
  "kernelspec": {
   "display_name": "Python 3",
   "language": "python",
   "name": "python3"
  },
  "language_info": {
   "codemirror_mode": {
    "name": "ipython",
    "version": 3
   },
   "file_extension": ".py",
   "mimetype": "text/x-python",
   "name": "python",
   "nbconvert_exporter": "python",
   "pygments_lexer": "ipython3",
   "version": "3.7.10"
  }
 },
 "nbformat": 4,
 "nbformat_minor": 4
}
