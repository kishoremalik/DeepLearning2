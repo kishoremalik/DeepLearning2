{
 "cells": [
  {
   "cell_type": "code",
   "execution_count": 6,
   "metadata": {},
   "outputs": [],
   "source": [
    "from azureml.core import Workspace,Dataset,Experiment\n",
    "from azureml.train.automl import AutoMLConfig\n",
    "from azureml.widgets import RunDetails \n",
    "from sklearn.model_selection import train_test_split\n",
    "from sklearn.metrics import accuracy_score,confusion_matrix"
   ]
  },
  {
   "cell_type": "code",
   "execution_count": 7,
   "metadata": {},
   "outputs": [],
   "source": [
    "ws=Workspace.from_config()"
   ]
  },
  {
   "cell_type": "code",
   "execution_count": 8,
   "metadata": {},
   "outputs": [
    {
     "data": {
      "text/plain": [
       "Workspace.create(name='windia', subscription_id='cfa28f36-8345-475f-aa77-126e68d22b1e', resource_group='mam')"
      ]
     },
     "execution_count": 8,
     "metadata": {},
     "output_type": "execute_result"
    }
   ],
   "source": [
    "ws"
   ]
  },
  {
   "cell_type": "code",
   "execution_count": 9,
   "metadata": {},
   "outputs": [],
   "source": [
    "dataset=Dataset.get_by_name(workspace=ws,name='mydataz')"
   ]
  },
  {
   "cell_type": "code",
   "execution_count": 10,
   "metadata": {},
   "outputs": [
    {
     "data": {
      "text/plain": [
       "{\n",
       "  \"source\": [\n",
       "    \"('workspaceblobstore', 'UI/05-22-2021_101317_UTC/diabetes.csv')\"\n",
       "  ],\n",
       "  \"definition\": [\n",
       "    \"GetDatastoreFiles\",\n",
       "    \"ParseDelimited\",\n",
       "    \"DropColumns\",\n",
       "    \"SetColumnTypes\"\n",
       "  ],\n",
       "  \"registration\": {\n",
       "    \"id\": \"3a1aa232-c507-450b-a6c8-07df8032e409\",\n",
       "    \"name\": \"mydataz\",\n",
       "    \"version\": 1,\n",
       "    \"workspace\": \"Workspace.create(name='windia', subscription_id='cfa28f36-8345-475f-aa77-126e68d22b1e', resource_group='mam')\"\n",
       "  }\n",
       "}"
      ]
     },
     "execution_count": 10,
     "metadata": {},
     "output_type": "execute_result"
    }
   ],
   "source": [
    "dataset"
   ]
  },
  {
   "cell_type": "code",
   "execution_count": 11,
   "metadata": {},
   "outputs": [],
   "source": [
    "diabetes_df=dataset.to_pandas_dataframe()"
   ]
  },
  {
   "cell_type": "code",
   "execution_count": 12,
   "metadata": {},
   "outputs": [
    {
     "data": {
      "text/html": [
       "<div>\n",
       "<style scoped>\n",
       "    .dataframe tbody tr th:only-of-type {\n",
       "        vertical-align: middle;\n",
       "    }\n",
       "\n",
       "    .dataframe tbody tr th {\n",
       "        vertical-align: top;\n",
       "    }\n",
       "\n",
       "    .dataframe thead th {\n",
       "        text-align: right;\n",
       "    }\n",
       "</style>\n",
       "<table border=\"1\" class=\"dataframe\">\n",
       "  <thead>\n",
       "    <tr style=\"text-align: right;\">\n",
       "      <th></th>\n",
       "      <th>Pregnancies</th>\n",
       "      <th>Glucose</th>\n",
       "      <th>BloodPressure</th>\n",
       "      <th>SkinThickness</th>\n",
       "      <th>Insulin</th>\n",
       "      <th>BMI</th>\n",
       "      <th>DiabetesPedigreeFunction</th>\n",
       "      <th>Age</th>\n",
       "      <th>Outcome</th>\n",
       "    </tr>\n",
       "  </thead>\n",
       "  <tbody>\n",
       "    <tr>\n",
       "      <th>0</th>\n",
       "      <td>6</td>\n",
       "      <td>148</td>\n",
       "      <td>72</td>\n",
       "      <td>35</td>\n",
       "      <td>0</td>\n",
       "      <td>33.6</td>\n",
       "      <td>0.627</td>\n",
       "      <td>50</td>\n",
       "      <td>1</td>\n",
       "    </tr>\n",
       "    <tr>\n",
       "      <th>1</th>\n",
       "      <td>1</td>\n",
       "      <td>85</td>\n",
       "      <td>66</td>\n",
       "      <td>29</td>\n",
       "      <td>0</td>\n",
       "      <td>26.6</td>\n",
       "      <td>0.351</td>\n",
       "      <td>31</td>\n",
       "      <td>0</td>\n",
       "    </tr>\n",
       "    <tr>\n",
       "      <th>2</th>\n",
       "      <td>8</td>\n",
       "      <td>183</td>\n",
       "      <td>64</td>\n",
       "      <td>0</td>\n",
       "      <td>0</td>\n",
       "      <td>23.3</td>\n",
       "      <td>0.672</td>\n",
       "      <td>32</td>\n",
       "      <td>1</td>\n",
       "    </tr>\n",
       "    <tr>\n",
       "      <th>3</th>\n",
       "      <td>1</td>\n",
       "      <td>89</td>\n",
       "      <td>66</td>\n",
       "      <td>23</td>\n",
       "      <td>94</td>\n",
       "      <td>28.1</td>\n",
       "      <td>0.167</td>\n",
       "      <td>21</td>\n",
       "      <td>0</td>\n",
       "    </tr>\n",
       "    <tr>\n",
       "      <th>4</th>\n",
       "      <td>0</td>\n",
       "      <td>137</td>\n",
       "      <td>40</td>\n",
       "      <td>35</td>\n",
       "      <td>168</td>\n",
       "      <td>43.1</td>\n",
       "      <td>2.288</td>\n",
       "      <td>33</td>\n",
       "      <td>1</td>\n",
       "    </tr>\n",
       "  </tbody>\n",
       "</table>\n",
       "</div>"
      ],
      "text/plain": [
       "   Pregnancies  Glucose  BloodPressure  SkinThickness  Insulin   BMI  \\\n",
       "0            6      148             72             35        0  33.6   \n",
       "1            1       85             66             29        0  26.6   \n",
       "2            8      183             64              0        0  23.3   \n",
       "3            1       89             66             23       94  28.1   \n",
       "4            0      137             40             35      168  43.1   \n",
       "\n",
       "   DiabetesPedigreeFunction  Age  Outcome  \n",
       "0                     0.627   50        1  \n",
       "1                     0.351   31        0  \n",
       "2                     0.672   32        1  \n",
       "3                     0.167   21        0  \n",
       "4                     2.288   33        1  "
      ]
     },
     "execution_count": 12,
     "metadata": {},
     "output_type": "execute_result"
    }
   ],
   "source": [
    "diabetes_df.head()"
   ]
  },
  {
   "cell_type": "code",
   "execution_count": 13,
   "metadata": {},
   "outputs": [],
   "source": [
    "x_train,x_test=train_test_split(diabetes_df,test_size=0.1)"
   ]
  },
  {
   "cell_type": "code",
   "execution_count": 23,
   "metadata": {},
   "outputs": [],
   "source": [
    "automl_settings={\n",
    "    \"iteration_timeout_minutes\":2,\n",
    "    \"experiment_timeout_minutes\":15,\n",
    "    \"enable_early_stopping\":True,\n",
    "    \"primary_metric\":\"accuracy\",\n",
    "    \"featurization\":\"auto\",\n",
    "    \"n_cross_validation\":5\n",
    "}"
   ]
  },
  {
   "cell_type": "code",
   "execution_count": 24,
   "metadata": {},
   "outputs": [],
   "source": [
    "automl_config=AutoMLConfig(task=\"classification\",debug_log=\"automl_errors.log\",training_data=x_train,label_column_name=\"Outcome\",**automl_settings)"
   ]
  },
  {
   "cell_type": "code",
   "execution_count": 25,
   "metadata": {},
   "outputs": [],
   "source": [
    "experiment=Experiment(ws,\"diabetec_experiment\")"
   ]
  },
  {
   "cell_type": "code",
   "execution_count": 26,
   "metadata": {},
   "outputs": [
    {
     "name": "stderr",
     "output_type": "stream",
     "text": [
      "WARNING:root:Received unrecognized parameter n_cross_validation\n"
     ]
    },
    {
     "name": "stdout",
     "output_type": "stream",
     "text": [
      "No run_configuration provided, running on local with default configuration\n",
      "Running in the active local environment.\n"
     ]
    },
    {
     "data": {
      "text/html": [
       "<table style=\"width:100%\"><tr><th>Experiment</th><th>Id</th><th>Type</th><th>Status</th><th>Details Page</th><th>Docs Page</th></tr><tr><td>diabetec_experiment</td><td>AutoML_956c9abb-d368-4842-823b-1b9394d7303c</td><td>automl</td><td>Preparing</td><td><a href=\"https://ml.azure.com/runs/AutoML_956c9abb-d368-4842-823b-1b9394d7303c?wsid=/subscriptions/cfa28f36-8345-475f-aa77-126e68d22b1e/resourcegroups/mam/workspaces/windia&amp;tid=d111d868-2fd8-4e83-84da-a0a08e75210b\" target=\"_blank\" rel=\"noopener\">Link to Azure Machine Learning studio</a></td><td><a href=\"https://docs.microsoft.com/en-us/python/api/overview/azure/ml/intro?view=azure-ml-py\" target=\"_blank\" rel=\"noopener\">Link to Documentation</a></td></tr></table>"
      ],
      "text/plain": [
       "<IPython.core.display.HTML object>"
      ]
     },
     "metadata": {},
     "output_type": "display_data"
    },
    {
     "name": "stdout",
     "output_type": "stream",
     "text": [
      "Current status: DatasetEvaluation. Gathering dataset statistics.\n",
      "Current status: FeaturesGeneration. Generating features for the dataset.\n",
      "Current status: DatasetFeaturization. Beginning to fit featurizers and featurize the dataset.\n",
      "Current status: DatasetFeaturizationCompleted. Completed fit featurizers and featurizing the dataset.\n",
      "Current status: DatasetCrossValidationSplit. Generating individually featurized CV splits.\n",
      "\n",
      "****************************************************************************************************\n",
      "DATA GUARDRAILS: \n",
      "\n",
      "TYPE:         Class balancing detection\n",
      "STATUS:       PASSED\n",
      "DESCRIPTION:  Your inputs were analyzed, and all classes are balanced in your training data.\n",
      "              Learn more about imbalanced data: https://aka.ms/AutomatedMLImbalancedData\n",
      "\n",
      "****************************************************************************************************\n",
      "\n",
      "TYPE:         Missing feature values imputation\n",
      "STATUS:       PASSED\n",
      "DESCRIPTION:  No feature missing values were detected in the training data.\n",
      "              Learn more about missing value imputation: https://aka.ms/AutomatedMLFeaturization\n",
      "\n",
      "****************************************************************************************************\n",
      "\n",
      "TYPE:         High cardinality feature detection\n",
      "STATUS:       PASSED\n",
      "DESCRIPTION:  Your inputs were analyzed, and no high cardinality features were detected.\n",
      "              Learn more about high cardinality feature handling: https://aka.ms/AutomatedMLFeaturization\n",
      "\n",
      "****************************************************************************************************\n",
      "Current status: ModelSelection. Beginning model selection.\n",
      "\n",
      "****************************************************************************************************\n",
      "ITERATION: The iteration being evaluated.\n",
      "PIPELINE: A summary description of the pipeline being evaluated.\n",
      "DURATION: Time taken for the current iteration.\n",
      "METRIC: The result of computing score on the fitted pipeline.\n",
      "BEST: The best observed score thus far.\n",
      "****************************************************************************************************\n",
      "\n",
      " ITERATION   PIPELINE                                       DURATION      METRIC      BEST\n",
      "         0   MaxAbsScaler LightGBM                          0:00:23       0.7424    0.7424\n",
      "         1   MaxAbsScaler XGBoostClassifier                 0:00:22       0.7641    0.7641\n",
      "         2   MaxAbsScaler RandomForest                      0:00:22       0.7452    0.7641\n",
      "         3   MaxAbsScaler RandomForest                      0:00:21       0.7351    0.7641\n",
      "         4   MaxAbsScaler RandomForest                      0:00:22       0.7423    0.7641\n",
      "         5   MaxAbsScaler RandomForest                      0:00:21       0.7061    0.7641\n",
      "         6   SparseNormalizer XGBoostClassifier             0:00:22       0.6860    0.7641\n",
      "         7   MaxAbsScaler RandomForest                      0:00:36       0.6816    0.7641\n",
      "         8   SparseNormalizer LightGBM                      0:00:22       0.6715    0.7641\n",
      "         9   MaxAbsScaler LogisticRegression                0:00:21       0.7597    0.7641\n",
      "        10   SparseNormalizer XGBoostClassifier             0:00:23       0.6700    0.7641\n",
      "        11   MaxAbsScaler LightGBM                          0:00:23       0.7510    0.7641\n",
      "        12   StandardScalerWrapper LightGBM                 0:00:22       0.7524    0.7641\n",
      "        13   MaxAbsScaler ExtremeRandomTrees                0:00:26       0.7395    0.7641\n",
      "        14   MaxAbsScaler LogisticRegression                0:00:22       0.7683    0.7683\n",
      "        15   MaxAbsScaler LightGBM                          0:00:22       0.7568    0.7683\n",
      "        16   MaxAbsScaler LightGBM                          0:00:21       0.7236    0.7683\n",
      "        17   StandardScalerWrapper ExtremeRandomTrees       0:00:22       0.7380    0.7683\n",
      "        18   StandardScalerWrapper LightGBM                 0:00:21       0.7467    0.7683\n",
      "        19   SparseNormalizer LightGBM                      0:00:22       0.6787    0.7683\n",
      "        20   MaxAbsScaler LightGBM                          0:00:22       0.7077    0.7683\n",
      "        21   StandardScalerWrapper LightGBM                 0:00:22       0.7481    0.7683\n",
      "        22   SparseNormalizer LightGBM                      0:00:21       0.6670    0.7683\n",
      "        23   MaxAbsScaler ExtremeRandomTrees                0:00:23       0.7336    0.7683\n",
      "        24   MaxAbsScaler ExtremeRandomTrees                0:00:26       0.7279    0.7683\n",
      "        25   StandardScalerWrapper LogisticRegression       0:00:23       0.6700    0.7683\n",
      "        26   StandardScalerWrapper XGBoostClassifier        0:00:21       0.7539    0.7683\n",
      "        27   MaxAbsScaler RandomForest                      0:00:33       0.7684    0.7684\n",
      "        28   SparseNormalizer LightGBM                      0:00:21       0.6469    0.7684\n",
      "        29   MaxAbsScaler ExtremeRandomTrees                0:00:33       0.7119    0.7684\n",
      "        30   StandardScalerWrapper RandomForest             0:00:23       0.5730    0.7684\n",
      "        31   MaxAbsScaler LightGBM                          0:00:21       0.7670    0.7684\n",
      "        32   SparseNormalizer LightGBM                      0:00:22       0.6960    0.7684\n",
      "        33   MaxAbsScaler LightGBM                          0:00:22       0.7524    0.7684\n",
      "        34   MaxAbsScaler LightGBM                          0:00:21       0.7597    0.7684\n",
      "        35   MaxAbsScaler RandomForest                      0:00:22       0.6527    0.7684\n",
      "        36   VotingEnsemble                                 0:00:40       0.7785    0.7785\n",
      "        37   StackEnsemble                                  0:00:49       0.7626    0.7785\n",
      "Stopping criteria reached at iteration 38. Ending experiment.\n"
     ]
    },
    {
     "name": "stderr",
     "output_type": "stream",
     "text": [
      "WARNING:root:Received unrecognized parameter n_cross_validation\n",
      "WARNING:root:Received unrecognized parameter n_cross_validation\n"
     ]
    },
    {
     "name": "stdout",
     "output_type": "stream",
     "text": [
      "****************************************************************************************************\n",
      "Current status: BestRunExplainModel. Best run model explanations started\n",
      "Current status: ModelExplanationDataSetSetup. Model explanations data setup completed\n",
      "Current status: PickSurrogateModel. Choosing LightGBM as the surrogate model for explanations\n",
      "Current status: EngineeredFeatureExplanations. Computation of engineered features started\n",
      "Current status: EngineeredFeatureExplanations. Computation of engineered features completed\n",
      "Current status: RawFeaturesExplanations. Computation of raw features started\n",
      "Current status: RawFeaturesExplanations. Computation of raw features completed\n",
      "Current status: BestRunExplainModel. Best run model explanations completed\n",
      "****************************************************************************************************\n"
     ]
    }
   ],
   "source": [
    "run=experiment.submit(automl_config,show_output=True)"
   ]
  },
  {
   "cell_type": "code",
   "execution_count": 27,
   "metadata": {},
   "outputs": [
    {
     "data": {
      "application/vnd.jupyter.widget-view+json": {
       "model_id": "80f32a018dc3471b9126d561254778d7",
       "version_major": 2,
       "version_minor": 0
      },
      "text/plain": [
       "_AutoMLWidget(widget_settings={'childWidgetDisplay': 'popup', 'send_telemetry': False, 'log_level': 'INFO', 's…"
      ]
     },
     "metadata": {},
     "output_type": "display_data"
    },
    {
     "data": {
      "application/aml.mini.widget.v1": "{\"status\": \"Completed\", \"workbench_run_details_uri\": \"https://ml.azure.com/runs/AutoML_956c9abb-d368-4842-823b-1b9394d7303c?wsid=/subscriptions/cfa28f36-8345-475f-aa77-126e68d22b1e/resourcegroups/mam/workspaces/windia&tid=d111d868-2fd8-4e83-84da-a0a08e75210b\", \"run_id\": \"AutoML_956c9abb-d368-4842-823b-1b9394d7303c\", \"run_properties\": {\"run_id\": \"AutoML_956c9abb-d368-4842-823b-1b9394d7303c\", \"created_utc\": \"2021-05-22T11:06:23.284744Z\", \"properties\": {\"num_iterations\": \"1000\", \"training_type\": \"TrainFull\", \"acquisition_function\": \"EI\", \"primary_metric\": \"accuracy\", \"train_split\": \"0\", \"acquisition_parameter\": \"0\", \"num_cross_validation\": null, \"target\": \"local\", \"AMLSettingsJsonString\": \"{\\\"path\\\":null,\\\"name\\\":\\\"diabetec_experiment\\\",\\\"subscription_id\\\":\\\"cfa28f36-8345-475f-aa77-126e68d22b1e\\\",\\\"resource_group\\\":\\\"mam\\\",\\\"workspace_name\\\":\\\"windia\\\",\\\"region\\\":\\\"centralus\\\",\\\"compute_target\\\":\\\"local\\\",\\\"spark_service\\\":null,\\\"azure_service\\\":\\\"Microsoft.AzureNotebookVM\\\",\\\"many_models\\\":false,\\\"pipeline_fetch_max_batch_size\\\":1,\\\"enable_batch_run\\\":false,\\\"enable_run_restructure\\\":false,\\\"start_auxiliary_runs_before_parent_complete\\\":false,\\\"iterations\\\":1000,\\\"primary_metric\\\":\\\"accuracy\\\",\\\"task_type\\\":\\\"classification\\\",\\\"data_script\\\":null,\\\"test_size\\\":0.0,\\\"validation_size\\\":0.0,\\\"n_cross_validations\\\":null,\\\"y_min\\\":null,\\\"y_max\\\":null,\\\"num_classes\\\":null,\\\"featurization\\\":\\\"auto\\\",\\\"_ignore_package_version_incompatibilities\\\":false,\\\"is_timeseries\\\":false,\\\"max_cores_per_iteration\\\":1,\\\"max_concurrent_iterations\\\":1,\\\"iteration_timeout_minutes\\\":2,\\\"mem_in_mb\\\":null,\\\"enforce_time_on_windows\\\":false,\\\"experiment_timeout_minutes\\\":15,\\\"experiment_exit_score\\\":null,\\\"whitelist_models\\\":null,\\\"blacklist_algos\\\":[\\\"TensorFlowLinearClassifier\\\",\\\"TensorFlowDNN\\\"],\\\"supported_models\\\":[\\\"ExtremeRandomTrees\\\",\\\"DecisionTree\\\",\\\"MultinomialNaiveBayes\\\",\\\"TensorFlowDNN\\\",\\\"GradientBoosting\\\",\\\"BernoulliNaiveBayes\\\",\\\"LogisticRegression\\\",\\\"KNN\\\",\\\"LightGBM\\\",\\\"AveragedPerceptronClassifier\\\",\\\"TensorFlowLinearClassifier\\\",\\\"LinearSVM\\\",\\\"RandomForest\\\",\\\"XGBoostClassifier\\\",\\\"SVM\\\",\\\"SGD\\\"],\\\"private_models\\\":[],\\\"auto_blacklist\\\":true,\\\"blacklist_samples_reached\\\":false,\\\"exclude_nan_labels\\\":true,\\\"verbosity\\\":20,\\\"_debug_log\\\":\\\"automl_errors.log\\\",\\\"show_warnings\\\":false,\\\"model_explainability\\\":true,\\\"service_url\\\":null,\\\"sdk_url\\\":null,\\\"sdk_packages\\\":null,\\\"enable_onnx_compatible_models\\\":false,\\\"enable_split_onnx_featurizer_estimator_models\\\":false,\\\"vm_type\\\":null,\\\"telemetry_verbosity\\\":20,\\\"send_telemetry\\\":true,\\\"enable_dnn\\\":false,\\\"scenario\\\":\\\"SDK-1.13.0\\\",\\\"environment_label\\\":null,\\\"save_mlflow\\\":false,\\\"force_text_dnn\\\":false,\\\"enable_feature_sweeping\\\":true,\\\"enable_early_stopping\\\":true,\\\"early_stopping_n_iters\\\":10,\\\"metrics\\\":null,\\\"enable_metric_confidence\\\":false,\\\"enable_ensembling\\\":true,\\\"enable_stack_ensembling\\\":true,\\\"ensemble_iterations\\\":15,\\\"enable_tf\\\":false,\\\"enable_subsampling\\\":null,\\\"subsample_seed\\\":null,\\\"enable_nimbusml\\\":false,\\\"enable_streaming\\\":false,\\\"force_streaming\\\":false,\\\"track_child_runs\\\":true,\\\"allowed_private_models\\\":[],\\\"label_column_name\\\":\\\"Outcome\\\",\\\"weight_column_name\\\":null,\\\"cv_split_column_names\\\":null,\\\"enable_local_managed\\\":false,\\\"_local_managed_run_id\\\":null,\\\"cost_mode\\\":1,\\\"lag_length\\\":0,\\\"metric_operation\\\":\\\"maximize\\\",\\\"preprocess\\\":true,\\\"n_cross_validation\\\":5}\", \"DataPrepJsonString\": null, \"EnableSubsampling\": null, \"runTemplate\": \"AutoML\", \"azureml.runsource\": \"automl\", \"display_task_type\": \"classification\", \"dependencies_versions\": \"{\\\"azureml-widgets\\\": \\\"1.27.0\\\", \\\"azureml-train\\\": \\\"1.27.0\\\", \\\"azureml-train-restclients-hyperdrive\\\": \\\"1.27.0\\\", \\\"azureml-train-core\\\": \\\"1.27.0\\\", \\\"azureml-train-automl\\\": \\\"1.27.0\\\", \\\"azureml-train-automl-runtime\\\": \\\"1.27.0\\\", \\\"azureml-train-automl-client\\\": \\\"1.27.0\\\", \\\"azureml-tensorboard\\\": \\\"1.27.0\\\", \\\"azureml-telemetry\\\": \\\"1.27.0\\\", \\\"azureml-sdk\\\": \\\"1.27.0\\\", \\\"azureml-samples\\\": \\\"0+unknown\\\", \\\"azureml-pipeline\\\": \\\"1.27.0\\\", \\\"azureml-pipeline-steps\\\": \\\"1.27.0\\\", \\\"azureml-pipeline-core\\\": \\\"1.27.0\\\", \\\"azureml-opendatasets\\\": \\\"1.27.0\\\", \\\"azureml-model-management-sdk\\\": \\\"1.0.1b6.post1\\\", \\\"azureml-mlflow\\\": \\\"1.27.0\\\", \\\"azureml-interpret\\\": \\\"1.27.0\\\", \\\"azureml-explain-model\\\": \\\"1.27.0\\\", \\\"azureml-defaults\\\": \\\"1.27.0\\\", \\\"azureml-dataset-runtime\\\": \\\"1.27.0\\\", \\\"azureml-dataprep\\\": \\\"2.14.2\\\", \\\"azureml-dataprep-rslex\\\": \\\"1.12.1\\\", \\\"azureml-dataprep-native\\\": \\\"33.0.0\\\", \\\"azureml-datadrift\\\": \\\"1.27.0\\\", \\\"azureml-core\\\": \\\"1.27.0\\\", \\\"azureml-contrib-services\\\": \\\"1.27.0\\\", \\\"azureml-contrib-server\\\": \\\"1.27.0\\\", \\\"azureml-contrib-reinforcementlearning\\\": \\\"1.27.0\\\", \\\"azureml-contrib-pipeline-steps\\\": \\\"1.27.0\\\", \\\"azureml-contrib-notebook\\\": \\\"1.27.0\\\", \\\"azureml-contrib-gbdt\\\": \\\"1.27.0\\\", \\\"azureml-contrib-fairness\\\": \\\"1.27.0\\\", \\\"azureml-contrib-dataset\\\": \\\"1.27.0\\\", \\\"azureml-cli-common\\\": \\\"1.27.0\\\", \\\"azureml-automl-runtime\\\": \\\"1.27.0\\\", \\\"azureml-automl-dnn-nlp\\\": \\\"1.27.0\\\", \\\"azureml-automl-core\\\": \\\"1.27.0\\\", \\\"azureml-accel-models\\\": \\\"1.27.0\\\"}\", \"_aml_system_scenario_identification\": \"Local.Parent\", \"ClientSdkVersion\": \"1.27.0\", \"ClientType\": \"SDK\", \"environment_cpu_name\": \"AzureML-AutoML\", \"environment_cpu_label\": \"prod\", \"environment_gpu_name\": \"AzureML-AutoML-GPU\", \"environment_gpu_label\": \"prod\", \"root_attribution\": \"automl\", \"attribution\": \"AutoML\", \"Orchestrator\": \"AutoML\", \"_azureml.ComputeTargetType\": \"local\", \"ProblemInfoJsonString\": \"{\\\"dataset_num_categorical\\\": 0, \\\"is_sparse\\\": true, \\\"subsampling\\\": false, \\\"dataset_classes\\\": 2, \\\"dataset_features\\\": 22, \\\"dataset_samples\\\": 691, \\\"single_frequency_class_detected\\\": false}\"}, \"tags\": {\"model_explain_run\": \"best_run\", \"best_score\": \"0.7785093167701864\", \"best_pipeline\": \"VotingEnsemble\", \"automl_best_child_run_id\": \"AutoML_956c9abb-d368-4842-823b-1b9394d7303c_36\", \"model_explain_best_run_child_id\": \"AutoML_956c9abb-d368-4842-823b-1b9394d7303c_36\"}, \"end_time_utc\": \"2021-05-22T11:23:06.268528Z\", \"status\": \"Completed\", \"log_files\": {}, \"log_groups\": [], \"run_duration\": \"0:16:42\", \"run_number\": \"1621681583\", \"run_queued_details\": {\"status\": \"Completed\", \"details\": null}}, \"child_runs\": [{\"run_id\": \"AutoML_956c9abb-d368-4842-823b-1b9394d7303c_0\", \"run_number\": 1621681595, \"metric\": null, \"status\": \"Completed\", \"run_type\": null, \"training_percent\": \"100\", \"start_time\": \"2021-05-22T11:06:35.990341Z\", \"end_time\": \"2021-05-22T11:06:59.334244Z\", \"created_time\": \"2021-05-22T11:06:35.83327Z\", \"created_time_dt\": \"2021-05-22T11:06:35.83327Z\", \"duration\": \"0:00:23\", \"iteration\": \"0\", \"goal\": \"accuracy_max\", \"run_name\": \"MaxAbsScaler, LightGBM\", \"run_properties\": \"copy=True\", \"primary_metric\": 0.74236025, \"best_metric\": 0.74236025}, {\"run_id\": \"AutoML_956c9abb-d368-4842-823b-1b9394d7303c_1\", \"run_number\": 1621681619, \"metric\": null, \"status\": \"Completed\", \"run_type\": null, \"training_percent\": \"100\", \"start_time\": \"2021-05-22T11:06:59.754271Z\", \"end_time\": \"2021-05-22T11:07:21.857586Z\", \"created_time\": \"2021-05-22T11:06:59.623443Z\", \"created_time_dt\": \"2021-05-22T11:06:59.623443Z\", \"duration\": \"0:00:22\", \"iteration\": \"1\", \"goal\": \"accuracy_max\", \"run_name\": \"MaxAbsScaler, XGBoostClassifier\", \"run_properties\": \"copy=True\", \"primary_metric\": 0.76407867, \"best_metric\": 0.76407867}, {\"run_id\": \"AutoML_956c9abb-d368-4842-823b-1b9394d7303c_2\", \"run_number\": 1621681642, \"metric\": null, \"status\": \"Completed\", \"run_type\": null, \"training_percent\": \"100\", \"start_time\": \"2021-05-22T11:07:22.637995Z\", \"end_time\": \"2021-05-22T11:07:44.683645Z\", \"created_time\": \"2021-05-22T11:07:22.488201Z\", \"created_time_dt\": \"2021-05-22T11:07:22.488201Z\", \"duration\": \"0:00:22\", \"iteration\": \"2\", \"goal\": \"accuracy_max\", \"run_name\": \"MaxAbsScaler, RandomForest\", \"run_properties\": \"copy=True\", \"primary_metric\": 0.74517598, \"best_metric\": 0.76407867}, {\"run_id\": \"AutoML_956c9abb-d368-4842-823b-1b9394d7303c_3\", \"run_number\": 1621681666, \"metric\": null, \"status\": \"Completed\", \"run_type\": null, \"training_percent\": \"100\", \"start_time\": \"2021-05-22T11:07:46.204096Z\", \"end_time\": \"2021-05-22T11:08:07.848861Z\", \"created_time\": \"2021-05-22T11:07:46.060884Z\", \"created_time_dt\": \"2021-05-22T11:07:46.060884Z\", \"duration\": \"0:00:21\", \"iteration\": \"3\", \"goal\": \"accuracy_max\", \"run_name\": \"MaxAbsScaler, RandomForest\", \"run_properties\": \"copy=True\", \"primary_metric\": 0.73507246, \"best_metric\": 0.76407867}, {\"run_id\": \"AutoML_956c9abb-d368-4842-823b-1b9394d7303c_4\", \"run_number\": 1621681689, \"metric\": null, \"status\": \"Completed\", \"run_type\": null, \"training_percent\": \"100\", \"start_time\": \"2021-05-22T11:08:09.657599Z\", \"end_time\": \"2021-05-22T11:08:31.99996Z\", \"created_time\": \"2021-05-22T11:08:09.524255Z\", \"created_time_dt\": \"2021-05-22T11:08:09.524255Z\", \"duration\": \"0:00:22\", \"iteration\": \"4\", \"goal\": \"accuracy_max\", \"run_name\": \"MaxAbsScaler, RandomForest\", \"run_properties\": \"copy=True\", \"primary_metric\": 0.74233954, \"best_metric\": 0.76407867}, {\"run_id\": \"AutoML_956c9abb-d368-4842-823b-1b9394d7303c_5\", \"run_number\": 1621681713, \"metric\": null, \"status\": \"Completed\", \"run_type\": null, \"training_percent\": \"100\", \"start_time\": \"2021-05-22T11:08:33.817178Z\", \"end_time\": \"2021-05-22T11:08:55.156994Z\", \"created_time\": \"2021-05-22T11:08:33.646722Z\", \"created_time_dt\": \"2021-05-22T11:08:33.646722Z\", \"duration\": \"0:00:21\", \"iteration\": \"5\", \"goal\": \"accuracy_max\", \"run_name\": \"MaxAbsScaler, RandomForest\", \"run_properties\": \"copy=True\", \"primary_metric\": 0.70612836, \"best_metric\": 0.76407867}, {\"run_id\": \"AutoML_956c9abb-d368-4842-823b-1b9394d7303c_6\", \"run_number\": 1621681736, \"metric\": null, \"status\": \"Completed\", \"run_type\": null, \"training_percent\": \"100\", \"start_time\": \"2021-05-22T11:08:56.702291Z\", \"end_time\": \"2021-05-22T11:09:18.715622Z\", \"created_time\": \"2021-05-22T11:08:56.55047Z\", \"created_time_dt\": \"2021-05-22T11:08:56.55047Z\", \"duration\": \"0:00:22\", \"iteration\": \"6\", \"goal\": \"accuracy_max\", \"run_name\": \"SparseNormalizer, XGBoostClassifier\", \"run_properties\": \"<azureml.automl.runtime.shared.model_wrappers.SparseNormalizer object at 0x7efea50d02e8\", \"primary_metric\": 0.68596273, \"best_metric\": 0.76407867}, {\"run_id\": \"AutoML_956c9abb-d368-4842-823b-1b9394d7303c_7\", \"run_number\": 1621681760, \"metric\": null, \"status\": \"Completed\", \"run_type\": null, \"training_percent\": \"100\", \"start_time\": \"2021-05-22T11:09:20.39652Z\", \"end_time\": \"2021-05-22T11:09:56.662005Z\", \"created_time\": \"2021-05-22T11:09:20.245507Z\", \"created_time_dt\": \"2021-05-22T11:09:20.245507Z\", \"duration\": \"0:00:36\", \"iteration\": \"7\", \"goal\": \"accuracy_max\", \"run_name\": \"MaxAbsScaler, RandomForest\", \"run_properties\": \"copy=True\", \"primary_metric\": 0.68161491, \"best_metric\": 0.76407867}, {\"run_id\": \"AutoML_956c9abb-d368-4842-823b-1b9394d7303c_8\", \"run_number\": 1621681797, \"metric\": null, \"status\": \"Completed\", \"run_type\": null, \"training_percent\": \"100\", \"start_time\": \"2021-05-22T11:09:57.948894Z\", \"end_time\": \"2021-05-22T11:10:20.032302Z\", \"created_time\": \"2021-05-22T11:09:57.817491Z\", \"created_time_dt\": \"2021-05-22T11:09:57.817491Z\", \"duration\": \"0:00:22\", \"iteration\": \"8\", \"goal\": \"accuracy_max\", \"run_name\": \"SparseNormalizer, LightGBM\", \"run_properties\": \"<azureml.automl.runtime.shared.model_wrappers.SparseNormalizer object at 0x7efde4c02e80\", \"primary_metric\": 0.67149068, \"best_metric\": 0.76407867}, {\"run_id\": \"AutoML_956c9abb-d368-4842-823b-1b9394d7303c_9\", \"run_number\": 1621681821, \"metric\": null, \"status\": \"Completed\", \"run_type\": null, \"training_percent\": \"100\", \"start_time\": \"2021-05-22T11:10:21.579821Z\", \"end_time\": \"2021-05-22T11:10:43.000718Z\", \"created_time\": \"2021-05-22T11:10:21.416803Z\", \"created_time_dt\": \"2021-05-22T11:10:21.416803Z\", \"duration\": \"0:00:21\", \"iteration\": \"9\", \"goal\": \"accuracy_max\", \"run_name\": \"MaxAbsScaler, LogisticRegression\", \"run_properties\": \"copy=True\", \"primary_metric\": 0.75966874, \"best_metric\": 0.76407867}, {\"run_id\": \"AutoML_956c9abb-d368-4842-823b-1b9394d7303c_10\", \"run_number\": 1621681844, \"metric\": null, \"status\": \"Completed\", \"run_type\": null, \"training_percent\": \"100\", \"start_time\": \"2021-05-22T11:10:44.392772Z\", \"end_time\": \"2021-05-22T11:11:07.702967Z\", \"created_time\": \"2021-05-22T11:10:44.251678Z\", \"created_time_dt\": \"2021-05-22T11:10:44.251678Z\", \"duration\": \"0:00:23\", \"iteration\": \"10\", \"goal\": \"accuracy_max\", \"run_name\": \"SparseNormalizer, XGBoostClassifier\", \"run_properties\": \"<azureml.automl.runtime.shared.model_wrappers.SparseNormalizer object at 0x7efdec08d160\", \"primary_metric\": 0.6700207, \"best_metric\": 0.76407867}, {\"run_id\": \"AutoML_956c9abb-d368-4842-823b-1b9394d7303c_11\", \"run_number\": 1621681868, \"metric\": null, \"status\": \"Completed\", \"run_type\": null, \"training_percent\": \"100\", \"start_time\": \"2021-05-22T11:11:09.025104Z\", \"end_time\": \"2021-05-22T11:11:32.794314Z\", \"created_time\": \"2021-05-22T11:11:08.891702Z\", \"created_time_dt\": \"2021-05-22T11:11:08.891702Z\", \"duration\": \"0:00:23\", \"iteration\": \"11\", \"goal\": \"accuracy_max\", \"run_name\": \"MaxAbsScaler, LightGBM\", \"run_properties\": \"copy=True\", \"primary_metric\": 0.75101449, \"best_metric\": 0.76407867}, {\"run_id\": \"AutoML_956c9abb-d368-4842-823b-1b9394d7303c_12\", \"run_number\": 1621681894, \"metric\": null, \"status\": \"Completed\", \"run_type\": null, \"training_percent\": \"100\", \"start_time\": \"2021-05-22T11:11:34.128543Z\", \"end_time\": \"2021-05-22T11:11:56.299287Z\", \"created_time\": \"2021-05-22T11:11:33.976851Z\", \"created_time_dt\": \"2021-05-22T11:11:33.976851Z\", \"duration\": \"0:00:22\", \"iteration\": \"12\", \"goal\": \"accuracy_max\", \"run_name\": \"StandardScalerWrapper, LightGBM\", \"run_properties\": \"<azureml.automl.runtime.shared.model_wrappers.StandardScalerWrapper object at 0x7efde4915940\", \"primary_metric\": 0.75240166, \"best_metric\": 0.76407867}, {\"run_id\": \"AutoML_956c9abb-d368-4842-823b-1b9394d7303c_13\", \"run_number\": 1621681917, \"metric\": null, \"status\": \"Completed\", \"run_type\": null, \"training_percent\": \"100\", \"start_time\": \"2021-05-22T11:11:57.694017Z\", \"end_time\": \"2021-05-22T11:12:24.097362Z\", \"created_time\": \"2021-05-22T11:11:57.553981Z\", \"created_time_dt\": \"2021-05-22T11:11:57.553981Z\", \"duration\": \"0:00:26\", \"iteration\": \"13\", \"goal\": \"accuracy_max\", \"run_name\": \"MaxAbsScaler, ExtremeRandomTrees\", \"run_properties\": \"copy=True\", \"primary_metric\": 0.7394617, \"best_metric\": 0.76407867}, {\"run_id\": \"AutoML_956c9abb-d368-4842-823b-1b9394d7303c_14\", \"run_number\": 1621681945, \"metric\": null, \"status\": \"Completed\", \"run_type\": null, \"training_percent\": \"100\", \"start_time\": \"2021-05-22T11:12:25.834846Z\", \"end_time\": \"2021-05-22T11:12:47.765508Z\", \"created_time\": \"2021-05-22T11:12:25.346774Z\", \"created_time_dt\": \"2021-05-22T11:12:25.346774Z\", \"duration\": \"0:00:22\", \"iteration\": \"14\", \"goal\": \"accuracy_max\", \"run_name\": \"MaxAbsScaler, LogisticRegression\", \"run_properties\": \"copy=True\", \"primary_metric\": 0.76834369, \"best_metric\": 0.76834369}, {\"run_id\": \"AutoML_956c9abb-d368-4842-823b-1b9394d7303c_15\", \"run_number\": 1621681969, \"metric\": null, \"status\": \"Completed\", \"run_type\": null, \"training_percent\": \"100\", \"start_time\": \"2021-05-22T11:12:49.228528Z\", \"end_time\": \"2021-05-22T11:13:11.510527Z\", \"created_time\": \"2021-05-22T11:12:49.080363Z\", \"created_time_dt\": \"2021-05-22T11:12:49.080363Z\", \"duration\": \"0:00:22\", \"iteration\": \"15\", \"goal\": \"accuracy_max\", \"run_name\": \"MaxAbsScaler, LightGBM\", \"run_properties\": \"copy=True\", \"primary_metric\": 0.75681159, \"best_metric\": 0.76834369}, {\"run_id\": \"AutoML_956c9abb-d368-4842-823b-1b9394d7303c_16\", \"run_number\": 1621681992, \"metric\": null, \"status\": \"Completed\", \"run_type\": null, \"training_percent\": \"100\", \"start_time\": \"2021-05-22T11:13:13.240613Z\", \"end_time\": \"2021-05-22T11:13:34.884357Z\", \"created_time\": \"2021-05-22T11:13:12.916291Z\", \"created_time_dt\": \"2021-05-22T11:13:12.916291Z\", \"duration\": \"0:00:21\", \"iteration\": \"16\", \"goal\": \"accuracy_max\", \"run_name\": \"MaxAbsScaler, LightGBM\", \"run_properties\": \"copy=True\", \"primary_metric\": 0.72360248, \"best_metric\": 0.76834369}, {\"run_id\": \"AutoML_956c9abb-d368-4842-823b-1b9394d7303c_17\", \"run_number\": 1621682016, \"metric\": null, \"status\": \"Completed\", \"run_type\": null, \"training_percent\": \"100\", \"start_time\": \"2021-05-22T11:13:36.276567Z\", \"end_time\": \"2021-05-22T11:13:58.630391Z\", \"created_time\": \"2021-05-22T11:13:36.136091Z\", \"created_time_dt\": \"2021-05-22T11:13:36.136091Z\", \"duration\": \"0:00:22\", \"iteration\": \"17\", \"goal\": \"accuracy_max\", \"run_name\": \"StandardScalerWrapper, ExtremeRandomTrees\", \"run_properties\": \"<azureml.automl.runtime.shared.model_wrappers.StandardScalerWrapper object at 0x7efea5102d68\", \"primary_metric\": 0.73801242, \"best_metric\": 0.76834369}, {\"run_id\": \"AutoML_956c9abb-d368-4842-823b-1b9394d7303c_18\", \"run_number\": 1621682039, \"metric\": null, \"status\": \"Completed\", \"run_type\": null, \"training_percent\": \"100\", \"start_time\": \"2021-05-22T11:13:59.983579Z\", \"end_time\": \"2021-05-22T11:14:21.493448Z\", \"created_time\": \"2021-05-22T11:13:59.832528Z\", \"created_time_dt\": \"2021-05-22T11:13:59.832528Z\", \"duration\": \"0:00:21\", \"iteration\": \"18\", \"goal\": \"accuracy_max\", \"run_name\": \"StandardScalerWrapper, LightGBM\", \"run_properties\": \"<azureml.automl.runtime.shared.model_wrappers.StandardScalerWrapper object at 0x7efde4da7f98\", \"primary_metric\": 0.74672878, \"best_metric\": 0.76834369}, {\"run_id\": \"AutoML_956c9abb-d368-4842-823b-1b9394d7303c_19\", \"run_number\": 1621682062, \"metric\": null, \"status\": \"Completed\", \"run_type\": null, \"training_percent\": \"100\", \"start_time\": \"2021-05-22T11:14:22.976078Z\", \"end_time\": \"2021-05-22T11:14:44.959804Z\", \"created_time\": \"2021-05-22T11:14:22.826533Z\", \"created_time_dt\": \"2021-05-22T11:14:22.826533Z\", \"duration\": \"0:00:22\", \"iteration\": \"19\", \"goal\": \"accuracy_max\", \"run_name\": \"SparseNormalizer, LightGBM\", \"run_properties\": \"<azureml.automl.runtime.shared.model_wrappers.SparseNormalizer object at 0x7efdec69c400\", \"primary_metric\": 0.67871636, \"best_metric\": 0.76834369}, {\"run_id\": \"AutoML_956c9abb-d368-4842-823b-1b9394d7303c_20\", \"run_number\": 1621682086, \"metric\": null, \"status\": \"Completed\", \"run_type\": null, \"training_percent\": \"100\", \"start_time\": \"2021-05-22T11:14:46.485496Z\", \"end_time\": \"2021-05-22T11:15:08.55977Z\", \"created_time\": \"2021-05-22T11:14:46.295614Z\", \"created_time_dt\": \"2021-05-22T11:14:46.295614Z\", \"duration\": \"0:00:22\", \"iteration\": \"20\", \"goal\": \"accuracy_max\", \"run_name\": \"MaxAbsScaler, LightGBM\", \"run_properties\": \"copy=True\", \"primary_metric\": 0.70768116, \"best_metric\": 0.76834369}, {\"run_id\": \"AutoML_956c9abb-d368-4842-823b-1b9394d7303c_21\", \"run_number\": 1621682109, \"metric\": null, \"status\": \"Completed\", \"run_type\": null, \"training_percent\": \"100\", \"start_time\": \"2021-05-22T11:15:10.003862Z\", \"end_time\": \"2021-05-22T11:15:31.933071Z\", \"created_time\": \"2021-05-22T11:15:09.819643Z\", \"created_time_dt\": \"2021-05-22T11:15:09.819643Z\", \"duration\": \"0:00:22\", \"iteration\": \"21\", \"goal\": \"accuracy_max\", \"run_name\": \"StandardScalerWrapper, LightGBM\", \"run_properties\": \"<azureml.automl.runtime.shared.model_wrappers.StandardScalerWrapper object at 0x7efdec633588\", \"primary_metric\": 0.74807453, \"best_metric\": 0.76834369}, {\"run_id\": \"AutoML_956c9abb-d368-4842-823b-1b9394d7303c_22\", \"run_number\": 1621682133, \"metric\": null, \"status\": \"Completed\", \"run_type\": null, \"training_percent\": \"100\", \"start_time\": \"2021-05-22T11:15:33.407031Z\", \"end_time\": \"2021-05-22T11:15:55.158338Z\", \"created_time\": \"2021-05-22T11:15:33.188937Z\", \"created_time_dt\": \"2021-05-22T11:15:33.188937Z\", \"duration\": \"0:00:21\", \"iteration\": \"22\", \"goal\": \"accuracy_max\", \"run_name\": \"SparseNormalizer, LightGBM\", \"run_properties\": \"<azureml.automl.runtime.shared.model_wrappers.SparseNormalizer object at 0x7efde4987a90\", \"primary_metric\": 0.66703934, \"best_metric\": 0.76834369}, {\"run_id\": \"AutoML_956c9abb-d368-4842-823b-1b9394d7303c_23\", \"run_number\": 1621682156, \"metric\": null, \"status\": \"Completed\", \"run_type\": null, \"training_percent\": \"100\", \"start_time\": \"2021-05-22T11:15:56.619579Z\", \"end_time\": \"2021-05-22T11:16:19.538577Z\", \"created_time\": \"2021-05-22T11:15:56.440132Z\", \"created_time_dt\": \"2021-05-22T11:15:56.440132Z\", \"duration\": \"0:00:23\", \"iteration\": \"23\", \"goal\": \"accuracy_max\", \"run_name\": \"MaxAbsScaler, ExtremeRandomTrees\", \"run_properties\": \"copy=True\", \"primary_metric\": 0.73362319, \"best_metric\": 0.76834369}, {\"run_id\": \"AutoML_956c9abb-d368-4842-823b-1b9394d7303c_24\", \"run_number\": 1621682181, \"metric\": null, \"status\": \"Completed\", \"run_type\": null, \"training_percent\": \"100\", \"start_time\": \"2021-05-22T11:16:21.747943Z\", \"end_time\": \"2021-05-22T11:16:48.245206Z\", \"created_time\": \"2021-05-22T11:16:21.608068Z\", \"created_time_dt\": \"2021-05-22T11:16:21.608068Z\", \"duration\": \"0:00:26\", \"iteration\": \"24\", \"goal\": \"accuracy_max\", \"run_name\": \"MaxAbsScaler, ExtremeRandomTrees\", \"run_properties\": \"copy=True\", \"primary_metric\": 0.7279089, \"best_metric\": 0.76834369}, {\"run_id\": \"AutoML_956c9abb-d368-4842-823b-1b9394d7303c_25\", \"run_number\": 1621682210, \"metric\": null, \"status\": \"Completed\", \"run_type\": null, \"training_percent\": \"100\", \"start_time\": \"2021-05-22T11:16:50.699227Z\", \"end_time\": \"2021-05-22T11:17:14.558529Z\", \"created_time\": \"2021-05-22T11:16:50.538975Z\", \"created_time_dt\": \"2021-05-22T11:16:50.538975Z\", \"duration\": \"0:00:24\", \"iteration\": \"25\", \"goal\": \"accuracy_max\", \"run_name\": \"StandardScalerWrapper, LogisticRegression\", \"run_properties\": \"<azureml.automl.runtime.shared.model_wrappers.StandardScalerWrapper object at 0x7efea5572e80\", \"primary_metric\": 0.67004141, \"best_metric\": 0.76834369}, {\"run_id\": \"AutoML_956c9abb-d368-4842-823b-1b9394d7303c_26\", \"run_number\": 1621682235, \"metric\": null, \"status\": \"Completed\", \"run_type\": null, \"training_percent\": \"100\", \"start_time\": \"2021-05-22T11:17:15.881531Z\", \"end_time\": \"2021-05-22T11:17:37.444708Z\", \"created_time\": \"2021-05-22T11:17:15.701328Z\", \"created_time_dt\": \"2021-05-22T11:17:15.701328Z\", \"duration\": \"0:00:21\", \"iteration\": \"26\", \"goal\": \"accuracy_max\", \"run_name\": \"StandardScalerWrapper, XGBoostClassifier\", \"run_properties\": \"<azureml.automl.runtime.shared.model_wrappers.StandardScalerWrapper object at 0x7efea5106ef0\", \"primary_metric\": 0.75391304, \"best_metric\": 0.76834369}, {\"run_id\": \"AutoML_956c9abb-d368-4842-823b-1b9394d7303c_27\", \"run_number\": 1621682258, \"metric\": null, \"status\": \"Completed\", \"run_type\": null, \"training_percent\": \"100\", \"start_time\": \"2021-05-22T11:17:38.831365Z\", \"end_time\": \"2021-05-22T11:18:11.78966Z\", \"created_time\": \"2021-05-22T11:17:38.658496Z\", \"created_time_dt\": \"2021-05-22T11:17:38.658496Z\", \"duration\": \"0:00:33\", \"iteration\": \"27\", \"goal\": \"accuracy_max\", \"run_name\": \"MaxAbsScaler, RandomForest\", \"run_properties\": \"copy=True\", \"primary_metric\": 0.76838509, \"best_metric\": 0.76838509}, {\"run_id\": \"AutoML_956c9abb-d368-4842-823b-1b9394d7303c_28\", \"run_number\": 1621682293, \"metric\": null, \"status\": \"Completed\", \"run_type\": null, \"training_percent\": \"100\", \"start_time\": \"2021-05-22T11:18:13.189678Z\", \"end_time\": \"2021-05-22T11:18:34.634081Z\", \"created_time\": \"2021-05-22T11:18:13.0481Z\", \"created_time_dt\": \"2021-05-22T11:18:13.0481Z\", \"duration\": \"0:00:21\", \"iteration\": \"28\", \"goal\": \"accuracy_max\", \"run_name\": \"SparseNormalizer, LightGBM\", \"run_properties\": \"<azureml.automl.runtime.shared.model_wrappers.SparseNormalizer object at 0x7efdec4335c0\", \"primary_metric\": 0.64687371, \"best_metric\": 0.76838509}, {\"run_id\": \"AutoML_956c9abb-d368-4842-823b-1b9394d7303c_29\", \"run_number\": 1621682315, \"metric\": null, \"status\": \"Completed\", \"run_type\": null, \"training_percent\": \"100\", \"start_time\": \"2021-05-22T11:18:36.054796Z\", \"end_time\": \"2021-05-22T11:19:09.620023Z\", \"created_time\": \"2021-05-22T11:18:35.902987Z\", \"created_time_dt\": \"2021-05-22T11:18:35.902987Z\", \"duration\": \"0:00:33\", \"iteration\": \"29\", \"goal\": \"accuracy_max\", \"run_name\": \"MaxAbsScaler, ExtremeRandomTrees\", \"run_properties\": \"copy=True\", \"primary_metric\": 0.71188406, \"best_metric\": 0.76838509}, {\"run_id\": \"AutoML_956c9abb-d368-4842-823b-1b9394d7303c_30\", \"run_number\": 1621682351, \"metric\": null, \"status\": \"Completed\", \"run_type\": null, \"training_percent\": \"100\", \"start_time\": \"2021-05-22T11:19:12.043606Z\", \"end_time\": \"2021-05-22T11:19:35.279765Z\", \"created_time\": \"2021-05-22T11:19:11.895266Z\", \"created_time_dt\": \"2021-05-22T11:19:11.895266Z\", \"duration\": \"0:00:23\", \"iteration\": \"30\", \"goal\": \"accuracy_max\", \"run_name\": \"StandardScalerWrapper, RandomForest\", \"run_properties\": \"<azureml.automl.runtime.shared.model_wrappers.StandardScalerWrapper object at 0x7efde48b7b00\", \"primary_metric\": 0.57296066, \"best_metric\": 0.76838509}, {\"run_id\": \"AutoML_956c9abb-d368-4842-823b-1b9394d7303c_31\", \"run_number\": 1621682376, \"metric\": null, \"status\": \"Completed\", \"run_type\": null, \"training_percent\": \"100\", \"start_time\": \"2021-05-22T11:19:36.71864Z\", \"end_time\": \"2021-05-22T11:19:58.571263Z\", \"created_time\": \"2021-05-22T11:19:36.581997Z\", \"created_time_dt\": \"2021-05-22T11:19:36.581997Z\", \"duration\": \"0:00:21\", \"iteration\": \"31\", \"goal\": \"accuracy_max\", \"run_name\": \"MaxAbsScaler, LightGBM\", \"run_properties\": \"copy=True\", \"primary_metric\": 0.76697723, \"best_metric\": 0.76838509}, {\"run_id\": \"AutoML_956c9abb-d368-4842-823b-1b9394d7303c_32\", \"run_number\": 1621682399, \"metric\": null, \"status\": \"Completed\", \"run_type\": null, \"training_percent\": \"100\", \"start_time\": \"2021-05-22T11:19:59.849943Z\", \"end_time\": \"2021-05-22T11:20:22.039596Z\", \"created_time\": \"2021-05-22T11:19:59.708362Z\", \"created_time_dt\": \"2021-05-22T11:19:59.708362Z\", \"duration\": \"0:00:22\", \"iteration\": \"32\", \"goal\": \"accuracy_max\", \"run_name\": \"SparseNormalizer, LightGBM\", \"run_properties\": \"<azureml.automl.runtime.shared.model_wrappers.SparseNormalizer object at 0x7efdd775f860\", \"primary_metric\": 0.69604555, \"best_metric\": 0.76838509}, {\"run_id\": \"AutoML_956c9abb-d368-4842-823b-1b9394d7303c_33\", \"run_number\": 1621682423, \"metric\": null, \"status\": \"Completed\", \"run_type\": null, \"training_percent\": \"100\", \"start_time\": \"2021-05-22T11:20:23.421376Z\", \"end_time\": \"2021-05-22T11:20:45.586985Z\", \"created_time\": \"2021-05-22T11:20:23.282431Z\", \"created_time_dt\": \"2021-05-22T11:20:23.282431Z\", \"duration\": \"0:00:22\", \"iteration\": \"33\", \"goal\": \"accuracy_max\", \"run_name\": \"MaxAbsScaler, LightGBM\", \"run_properties\": \"copy=True\", \"primary_metric\": 0.75240166, \"best_metric\": 0.76838509}, {\"run_id\": \"AutoML_956c9abb-d368-4842-823b-1b9394d7303c_34\", \"run_number\": 1621682446, \"metric\": null, \"status\": \"Completed\", \"run_type\": null, \"training_percent\": \"100\", \"start_time\": \"2021-05-22T11:20:46.919752Z\", \"end_time\": \"2021-05-22T11:21:08.776018Z\", \"created_time\": \"2021-05-22T11:20:46.772357Z\", \"created_time_dt\": \"2021-05-22T11:20:46.772357Z\", \"duration\": \"0:00:22\", \"iteration\": \"34\", \"goal\": \"accuracy_max\", \"run_name\": \"MaxAbsScaler, LightGBM\", \"run_properties\": \"copy=True\", \"primary_metric\": 0.75968944, \"best_metric\": 0.76838509}, {\"run_id\": \"AutoML_956c9abb-d368-4842-823b-1b9394d7303c_35\", \"run_number\": 1621682471, \"metric\": null, \"status\": \"Completed\", \"run_type\": null, \"training_percent\": \"100\", \"start_time\": \"2021-05-22T11:21:12.079235Z\", \"end_time\": \"2021-05-22T11:21:34.659147Z\", \"created_time\": \"2021-05-22T11:21:11.861975Z\", \"created_time_dt\": \"2021-05-22T11:21:11.861975Z\", \"duration\": \"0:00:22\", \"iteration\": \"35\", \"goal\": \"accuracy_max\", \"run_name\": \"MaxAbsScaler, RandomForest\", \"run_properties\": \"copy=True\", \"primary_metric\": 0.65267081, \"best_metric\": 0.76838509}, {\"run_id\": \"AutoML_956c9abb-d368-4842-823b-1b9394d7303c_36\", \"run_number\": 1621682494, \"metric\": null, \"status\": \"Completed\", \"run_type\": null, \"training_percent\": \"100\", \"start_time\": \"2021-05-22T11:21:35.048985Z\", \"end_time\": \"2021-05-22T11:22:15.795606Z\", \"created_time\": \"2021-05-22T11:21:34.918709Z\", \"created_time_dt\": \"2021-05-22T11:21:34.918709Z\", \"duration\": \"0:00:40\", \"iteration\": \"36\", \"goal\": \"accuracy_max\", \"run_name\": \"VotingEnsemble\", \"run_properties\": \"classification_labels=None,\\n                              estimators=[('27',\\n                                           Pipeline(memory=None,\\n                                                    steps=[('maxabsscaler',\\n                                                            MaxAbsScaler(copy=True\", \"primary_metric\": 0.77850932, \"best_metric\": 0.77850932}, {\"run_id\": \"AutoML_956c9abb-d368-4842-823b-1b9394d7303c_37\", \"run_number\": 1621682536, \"metric\": null, \"status\": \"Completed\", \"run_type\": null, \"training_percent\": \"100\", \"start_time\": \"2021-05-22T11:22:16.693017Z\", \"end_time\": \"2021-05-22T11:23:05.84952Z\", \"created_time\": \"2021-05-22T11:22:16.188175Z\", \"created_time_dt\": \"2021-05-22T11:22:16.188175Z\", \"duration\": \"0:00:49\", \"iteration\": \"37\", \"goal\": \"accuracy_max\", \"run_name\": \"StackEnsemble\", \"run_properties\": \"base_learners=[('27',\\n                                        Pipeline(memory=None,\\n                                                 steps=[('maxabsscaler',\\n                                                         MaxAbsScaler(copy=True\", \"primary_metric\": 0.76256729, \"best_metric\": 0.77850932}], \"children_metrics\": {\"categories\": [0], \"series\": {\"precision_score_weighted\": [{\"categories\": [\"0\", \"1\", \"2\", \"3\", \"4\", \"5\", \"6\", \"7\", \"8\", \"9\", \"10\", \"11\", \"12\", \"13\", \"14\", \"15\", \"16\", \"17\", \"18\", \"19\", \"20\", \"21\", \"22\", \"23\", \"24\", \"25\", \"26\", \"27\", \"28\", \"29\", \"30\", \"31\", \"32\", \"33\", \"34\", \"35\", \"36\", \"37\"], \"mode\": \"markers\", \"name\": \"precision_score_weighted\", \"stepped\": false, \"type\": \"scatter\", \"data\": [0.7420604573591019, 0.7659675294343337, 0.7421802529954948, 0.7301629185243003, 0.7628884117328474, 0.7350685713660223, 0.6724295602811274, 0.7267158524653657, 0.6592021178399715, 0.7575706974320359, 0.6568969351433827, 0.7511941903636614, 0.7474868572354106, 0.749044386333928, 0.7668830612178031, 0.7575850943822023, 0.7576091858837015, 0.7468345382162566, 0.7664549742569132, 0.6721307403725104, 0.7361331924937111, 0.7456106835276529, 0.6617600574991535, 0.7583102935571199, 0.7431039083487873, 0.6522899082400331, 0.755913470379017, 0.764224108530907, 0.5904737746442291, 0.7521792028813741, 0.34828764322364103, 0.7660367790580428, 0.6885654569845817, 0.749051187459271, 0.7658602474688212, 0.4279977881511773, 0.7771801578534658, 0.761165968384663]}, {\"categories\": [\"0\", \"1\", \"2\", \"3\", \"4\", \"5\", \"6\", \"7\", \"8\", \"9\", \"10\", \"11\", \"12\", \"13\", \"14\", \"15\", \"16\", \"17\", \"18\", \"19\", \"20\", \"21\", \"22\", \"23\", \"24\", \"25\", \"26\", \"27\", \"28\", \"29\", \"30\", \"31\", \"32\", \"33\", \"34\", \"35\", \"36\", \"37\"], \"mode\": \"lines\", \"name\": \"precision_score_weighted_max\", \"stepped\": true, \"type\": \"scatter\", \"data\": [0.7420604573591019, 0.7659675294343337, 0.7659675294343337, 0.7659675294343337, 0.7659675294343337, 0.7659675294343337, 0.7659675294343337, 0.7659675294343337, 0.7659675294343337, 0.7659675294343337, 0.7659675294343337, 0.7659675294343337, 0.7659675294343337, 0.7659675294343337, 0.7668830612178031, 0.7668830612178031, 0.7668830612178031, 0.7668830612178031, 0.7668830612178031, 0.7668830612178031, 0.7668830612178031, 0.7668830612178031, 0.7668830612178031, 0.7668830612178031, 0.7668830612178031, 0.7668830612178031, 0.7668830612178031, 0.7668830612178031, 0.7668830612178031, 0.7668830612178031, 0.7668830612178031, 0.7668830612178031, 0.7668830612178031, 0.7668830612178031, 0.7668830612178031, 0.7668830612178031, 0.7771801578534658, 0.7771801578534658]}], \"AUC_macro\": [{\"categories\": [\"0\", \"1\", \"2\", \"3\", \"4\", \"5\", \"6\", \"7\", \"8\", \"9\", \"10\", \"11\", \"12\", \"13\", \"14\", \"15\", \"16\", \"17\", \"18\", \"19\", \"20\", \"21\", \"22\", \"23\", \"24\", \"25\", \"26\", \"27\", \"28\", \"29\", \"30\", \"31\", \"32\", \"33\", \"34\", \"35\", \"36\", \"37\"], \"mode\": \"markers\", \"name\": \"AUC_macro\", \"stepped\": false, \"type\": \"scatter\", \"data\": [0.7978403756261219, 0.819231829152663, 0.8055339067159402, 0.8071835119039041, 0.8190594913008283, 0.7926862651997876, 0.7434249509097233, 0.812985228344397, 0.7192473013301776, 0.8030669387600439, 0.7086952130415224, 0.8100155547231566, 0.8263089286779648, 0.8173543301411247, 0.8135150788182963, 0.8202577351695656, 0.817567656900172, 0.8131329180861924, 0.8240848394246647, 0.7191823770385601, 0.8112204216462107, 0.823430453460469, 0.7127400155839924, 0.8194755508934353, 0.8194617108939646, 0.645399380603352, 0.8131580097917, 0.821882276623705, 0.661858645881885, 0.7931206775100371, 0.5, 0.8201867834440201, 0.7102847724042237, 0.8293379742005211, 0.8246057996386952, 0.5, 0.8298317573380043, 0.8261468843242337]}, {\"categories\": [\"0\", \"1\", \"2\", \"3\", \"4\", \"5\", \"6\", \"7\", \"8\", \"9\", \"10\", \"11\", \"12\", \"13\", \"14\", \"15\", \"16\", \"17\", \"18\", \"19\", \"20\", \"21\", \"22\", \"23\", \"24\", \"25\", \"26\", \"27\", \"28\", \"29\", \"30\", \"31\", \"32\", \"33\", \"34\", \"35\", \"36\", \"37\"], \"mode\": \"lines\", \"name\": \"AUC_macro_max\", \"stepped\": true, \"type\": \"scatter\", \"data\": [0.7978403756261219, 0.819231829152663, 0.819231829152663, 0.819231829152663, 0.819231829152663, 0.819231829152663, 0.819231829152663, 0.819231829152663, 0.819231829152663, 0.819231829152663, 0.819231829152663, 0.819231829152663, 0.8263089286779648, 0.8263089286779648, 0.8263089286779648, 0.8263089286779648, 0.8263089286779648, 0.8263089286779648, 0.8263089286779648, 0.8263089286779648, 0.8263089286779648, 0.8263089286779648, 0.8263089286779648, 0.8263089286779648, 0.8263089286779648, 0.8263089286779648, 0.8263089286779648, 0.8263089286779648, 0.8263089286779648, 0.8263089286779648, 0.8263089286779648, 0.8263089286779648, 0.8263089286779648, 0.8293379742005211, 0.8293379742005211, 0.8293379742005211, 0.8298317573380043, 0.8298317573380043]}], \"f1_score_weighted\": [{\"categories\": [\"0\", \"1\", \"2\", \"3\", \"4\", \"5\", \"6\", \"7\", \"8\", \"9\", \"10\", \"11\", \"12\", \"13\", \"14\", \"15\", \"16\", \"17\", \"18\", \"19\", \"20\", \"21\", \"22\", \"23\", \"24\", \"25\", \"26\", \"27\", \"28\", \"29\", \"30\", \"31\", \"32\", \"33\", \"34\", \"35\", \"36\", \"37\"], \"mode\": \"markers\", \"name\": \"f1_score_weighted\", \"stepped\": false, \"type\": \"scatter\", \"data\": [0.739715819507265, 0.7614311635655683, 0.7367902229072849, 0.7177575303385196, 0.7468440238940949, 0.712170386383573, 0.672214850136369, 0.5901226531731382, 0.6503187613386594, 0.7468594228371658, 0.6574249942504606, 0.7346213226516966, 0.7426890379539653, 0.7114150413206279, 0.7599859229650524, 0.7545601798445094, 0.6719022408518573, 0.7102173143549939, 0.7099786181033165, 0.6399598867007652, 0.6504888552015251, 0.7422238328302354, 0.6234599225518398, 0.7384346232239586, 0.6905601881217419, 0.6291276352411236, 0.7522508028765189, 0.7604149835417446, 0.5523579196781401, 0.7183217326291557, 0.42872303323236993, 0.7620569383567317, 0.6644952396692372, 0.739549379004372, 0.7383999668609753, 0.5163997982354024, 0.7725529346403062, 0.7566276009937941]}, {\"categories\": [\"0\", \"1\", \"2\", \"3\", \"4\", \"5\", \"6\", \"7\", \"8\", \"9\", \"10\", \"11\", \"12\", \"13\", \"14\", \"15\", \"16\", \"17\", \"18\", \"19\", \"20\", \"21\", \"22\", \"23\", \"24\", \"25\", \"26\", \"27\", \"28\", \"29\", \"30\", \"31\", \"32\", \"33\", \"34\", \"35\", \"36\", \"37\"], \"mode\": \"lines\", \"name\": \"f1_score_weighted_max\", \"stepped\": true, \"type\": \"scatter\", \"data\": [0.739715819507265, 0.7614311635655683, 0.7614311635655683, 0.7614311635655683, 0.7614311635655683, 0.7614311635655683, 0.7614311635655683, 0.7614311635655683, 0.7614311635655683, 0.7614311635655683, 0.7614311635655683, 0.7614311635655683, 0.7614311635655683, 0.7614311635655683, 0.7614311635655683, 0.7614311635655683, 0.7614311635655683, 0.7614311635655683, 0.7614311635655683, 0.7614311635655683, 0.7614311635655683, 0.7614311635655683, 0.7614311635655683, 0.7614311635655683, 0.7614311635655683, 0.7614311635655683, 0.7614311635655683, 0.7614311635655683, 0.7614311635655683, 0.7614311635655683, 0.7614311635655683, 0.7620569383567317, 0.7620569383567317, 0.7620569383567317, 0.7620569383567317, 0.7620569383567317, 0.7725529346403062, 0.7725529346403062]}], \"recall_score_micro\": [{\"categories\": [\"0\", \"1\", \"2\", \"3\", \"4\", \"5\", \"6\", \"7\", \"8\", \"9\", \"10\", \"11\", \"12\", \"13\", \"14\", \"15\", \"16\", \"17\", \"18\", \"19\", \"20\", \"21\", \"22\", \"23\", \"24\", \"25\", \"26\", \"27\", \"28\", \"29\", \"30\", \"31\", \"32\", \"33\", \"34\", \"35\", \"36\", \"37\"], \"mode\": \"markers\", \"name\": \"recall_score_micro\", \"stepped\": false, \"type\": \"scatter\", \"data\": [0.7423602484472049, 0.7640786749482402, 0.745175983436853, 0.735072463768116, 0.7423395445134575, 0.7061283643892339, 0.6859627329192546, 0.6816149068322982, 0.6714906832298136, 0.7596687370600413, 0.6700207039337475, 0.7510144927536231, 0.7524016563146998, 0.7394616977225673, 0.7683436853002069, 0.7568115942028986, 0.7236024844720498, 0.7380124223602484, 0.7467287784679089, 0.6787163561076605, 0.7076811594202899, 0.7480745341614907, 0.66703933747412, 0.7336231884057971, 0.7279089026915114, 0.670041407867495, 0.7539130434782608, 0.7683850931677019, 0.6468737060041407, 0.7118840579710145, 0.57296066252588, 0.766977225672878, 0.6960455486542443, 0.7524016563146998, 0.7596894409937887, 0.6526708074534161, 0.7785093167701864, 0.7625672877846792]}, {\"categories\": [\"0\", \"1\", \"2\", \"3\", \"4\", \"5\", \"6\", \"7\", \"8\", \"9\", \"10\", \"11\", \"12\", \"13\", \"14\", \"15\", \"16\", \"17\", \"18\", \"19\", \"20\", \"21\", \"22\", \"23\", \"24\", \"25\", \"26\", \"27\", \"28\", \"29\", \"30\", \"31\", \"32\", \"33\", \"34\", \"35\", \"36\", \"37\"], \"mode\": \"lines\", \"name\": \"recall_score_micro_max\", \"stepped\": true, \"type\": \"scatter\", \"data\": [0.7423602484472049, 0.7640786749482402, 0.7640786749482402, 0.7640786749482402, 0.7640786749482402, 0.7640786749482402, 0.7640786749482402, 0.7640786749482402, 0.7640786749482402, 0.7640786749482402, 0.7640786749482402, 0.7640786749482402, 0.7640786749482402, 0.7640786749482402, 0.7683436853002069, 0.7683436853002069, 0.7683436853002069, 0.7683436853002069, 0.7683436853002069, 0.7683436853002069, 0.7683436853002069, 0.7683436853002069, 0.7683436853002069, 0.7683436853002069, 0.7683436853002069, 0.7683436853002069, 0.7683436853002069, 0.7683850931677019, 0.7683850931677019, 0.7683850931677019, 0.7683850931677019, 0.7683850931677019, 0.7683850931677019, 0.7683850931677019, 0.7683850931677019, 0.7683850931677019, 0.7785093167701864, 0.7785093167701864]}], \"log_loss\": [{\"categories\": [\"0\", \"1\", \"2\", \"3\", \"4\", \"5\", \"6\", \"7\", \"8\", \"9\", \"10\", \"11\", \"12\", \"13\", \"14\", \"15\", \"16\", \"17\", \"18\", \"19\", \"20\", \"21\", \"22\", \"23\", \"24\", \"25\", \"26\", \"27\", \"28\", \"29\", \"30\", \"31\", \"32\", \"33\", \"34\", \"35\", \"36\", \"37\"], \"mode\": \"markers\", \"name\": \"log_loss\", \"stepped\": false, \"type\": \"scatter\", \"data\": [0.6267805458350069, 0.5029845317516006, 0.5080549409796452, 0.5158280785553526, 0.5082761816088065, 0.5709880706732161, 0.5598182996774121, 0.5619322641400923, 0.5811777640754239, 0.5091128112807228, 0.6403114140315265, 0.5270631166430851, 0.48210774447262306, 0.5256449518891394, 0.4982805420439025, 0.49513080371860585, 0.553408823659341, 0.5274842072230403, 0.5377779435240194, 0.5778395674235715, 0.5537365144376243, 0.47928777632187225, 0.5841386884794569, 0.5562172969177809, 0.5403172790677442, 0.6317101895820814, 0.5315282109106403, 0.4877520115843502, 0.6199933476641333, 0.6303624699280764, 0.6925845005112574, 0.4891509470629797, 0.5815299628539016, 0.4975389211013207, 0.5220177396949417, 0.6467021935508233, 0.5285992866378709, 0.48512064883514255]}, {\"categories\": [\"0\", \"1\", \"2\", \"3\", \"4\", \"5\", \"6\", \"7\", \"8\", \"9\", \"10\", \"11\", \"12\", \"13\", \"14\", \"15\", \"16\", \"17\", \"18\", \"19\", \"20\", \"21\", \"22\", \"23\", \"24\", \"25\", \"26\", \"27\", \"28\", \"29\", \"30\", \"31\", \"32\", \"33\", \"34\", \"35\", \"36\", \"37\"], \"mode\": \"lines\", \"name\": \"log_loss_min\", \"stepped\": true, \"type\": \"scatter\", \"data\": [0.6267805458350069, 0.5029845317516006, 0.5029845317516006, 0.5029845317516006, 0.5029845317516006, 0.5029845317516006, 0.5029845317516006, 0.5029845317516006, 0.5029845317516006, 0.5029845317516006, 0.5029845317516006, 0.5029845317516006, 0.48210774447262306, 0.48210774447262306, 0.48210774447262306, 0.48210774447262306, 0.48210774447262306, 0.48210774447262306, 0.48210774447262306, 0.48210774447262306, 0.48210774447262306, 0.47928777632187225, 0.47928777632187225, 0.47928777632187225, 0.47928777632187225, 0.47928777632187225, 0.47928777632187225, 0.47928777632187225, 0.47928777632187225, 0.47928777632187225, 0.47928777632187225, 0.47928777632187225, 0.47928777632187225, 0.47928777632187225, 0.47928777632187225, 0.47928777632187225, 0.47928777632187225, 0.47928777632187225]}], \"recall_score_weighted\": [{\"categories\": [\"0\", \"1\", \"2\", \"3\", \"4\", \"5\", \"6\", \"7\", \"8\", \"9\", \"10\", \"11\", \"12\", \"13\", \"14\", \"15\", \"16\", \"17\", \"18\", \"19\", \"20\", \"21\", \"22\", \"23\", \"24\", \"25\", \"26\", \"27\", \"28\", \"29\", \"30\", \"31\", \"32\", \"33\", \"34\", \"35\", \"36\", \"37\"], \"mode\": \"markers\", \"name\": \"recall_score_weighted\", \"stepped\": false, \"type\": \"scatter\", \"data\": [0.7423602484472049, 0.7640786749482402, 0.745175983436853, 0.735072463768116, 0.7423395445134575, 0.7061283643892339, 0.6859627329192546, 0.6816149068322982, 0.6714906832298136, 0.7596687370600413, 0.6700207039337475, 0.7510144927536231, 0.7524016563146998, 0.7394616977225673, 0.7683436853002069, 0.7568115942028986, 0.7236024844720498, 0.7380124223602484, 0.7467287784679089, 0.6787163561076605, 0.7076811594202899, 0.7480745341614907, 0.66703933747412, 0.7336231884057971, 0.7279089026915114, 0.670041407867495, 0.7539130434782608, 0.7683850931677019, 0.6468737060041407, 0.7118840579710145, 0.57296066252588, 0.766977225672878, 0.6960455486542443, 0.7524016563146998, 0.7596894409937887, 0.6526708074534161, 0.7785093167701864, 0.7625672877846792]}, {\"categories\": [\"0\", \"1\", \"2\", \"3\", \"4\", \"5\", \"6\", \"7\", \"8\", \"9\", \"10\", \"11\", \"12\", \"13\", \"14\", \"15\", \"16\", \"17\", \"18\", \"19\", \"20\", \"21\", \"22\", \"23\", \"24\", \"25\", \"26\", \"27\", \"28\", \"29\", \"30\", \"31\", \"32\", \"33\", \"34\", \"35\", \"36\", \"37\"], \"mode\": \"lines\", \"name\": \"recall_score_weighted_max\", \"stepped\": true, \"type\": \"scatter\", \"data\": [0.7423602484472049, 0.7640786749482402, 0.7640786749482402, 0.7640786749482402, 0.7640786749482402, 0.7640786749482402, 0.7640786749482402, 0.7640786749482402, 0.7640786749482402, 0.7640786749482402, 0.7640786749482402, 0.7640786749482402, 0.7640786749482402, 0.7640786749482402, 0.7683436853002069, 0.7683436853002069, 0.7683436853002069, 0.7683436853002069, 0.7683436853002069, 0.7683436853002069, 0.7683436853002069, 0.7683436853002069, 0.7683436853002069, 0.7683436853002069, 0.7683436853002069, 0.7683436853002069, 0.7683436853002069, 0.7683850931677019, 0.7683850931677019, 0.7683850931677019, 0.7683850931677019, 0.7683850931677019, 0.7683850931677019, 0.7683850931677019, 0.7683850931677019, 0.7683850931677019, 0.7785093167701864, 0.7785093167701864]}], \"average_precision_score_micro\": [{\"categories\": [\"0\", \"1\", \"2\", \"3\", \"4\", \"5\", \"6\", \"7\", \"8\", \"9\", \"10\", \"11\", \"12\", \"13\", \"14\", \"15\", \"16\", \"17\", \"18\", \"19\", \"20\", \"21\", \"22\", \"23\", \"24\", \"25\", \"26\", \"27\", \"28\", \"29\", \"30\", \"31\", \"32\", \"33\", \"34\", \"35\", \"36\", \"37\"], \"mode\": \"markers\", \"name\": \"average_precision_score_micro\", \"stepped\": false, \"type\": \"scatter\", \"data\": [0.8248679162396536, 0.8411449387515997, 0.8305458162562639, 0.8300949791079931, 0.8346668393635245, 0.803597005700578, 0.7885321996657882, 0.8106146125213801, 0.7610327836040434, 0.8275908504804261, 0.7586915088036047, 0.8325438406840538, 0.8511185658731689, 0.8338796210152484, 0.8345464978112125, 0.8437478991168538, 0.8157749731425523, 0.8294554102807916, 0.8297105862693485, 0.7640987001272139, 0.8175485513026203, 0.8487145414704301, 0.7588141605481171, 0.8189059806553309, 0.8257659029055112, 0.6818953114149485, 0.8367553162377235, 0.8479595495182591, 0.7307095250013729, 0.7986668042000507, 0.5618073119607011, 0.8410682796744015, 0.7603181524527589, 0.8477034425338903, 0.8368430283193978, 0.6016623844244693, 0.8546021135599033, 0.8511058196877489]}, {\"categories\": [\"0\", \"1\", \"2\", \"3\", \"4\", \"5\", \"6\", \"7\", \"8\", \"9\", \"10\", \"11\", \"12\", \"13\", \"14\", \"15\", \"16\", \"17\", \"18\", \"19\", \"20\", \"21\", \"22\", \"23\", \"24\", \"25\", \"26\", \"27\", \"28\", \"29\", \"30\", \"31\", \"32\", \"33\", \"34\", \"35\", \"36\", \"37\"], \"mode\": \"lines\", \"name\": \"average_precision_score_micro_max\", \"stepped\": true, \"type\": \"scatter\", \"data\": [0.8248679162396536, 0.8411449387515997, 0.8411449387515997, 0.8411449387515997, 0.8411449387515997, 0.8411449387515997, 0.8411449387515997, 0.8411449387515997, 0.8411449387515997, 0.8411449387515997, 0.8411449387515997, 0.8411449387515997, 0.8511185658731689, 0.8511185658731689, 0.8511185658731689, 0.8511185658731689, 0.8511185658731689, 0.8511185658731689, 0.8511185658731689, 0.8511185658731689, 0.8511185658731689, 0.8511185658731689, 0.8511185658731689, 0.8511185658731689, 0.8511185658731689, 0.8511185658731689, 0.8511185658731689, 0.8511185658731689, 0.8511185658731689, 0.8511185658731689, 0.8511185658731689, 0.8511185658731689, 0.8511185658731689, 0.8511185658731689, 0.8511185658731689, 0.8511185658731689, 0.8546021135599033, 0.8546021135599033]}], \"AUC_micro\": [{\"categories\": [\"0\", \"1\", \"2\", \"3\", \"4\", \"5\", \"6\", \"7\", \"8\", \"9\", \"10\", \"11\", \"12\", \"13\", \"14\", \"15\", \"16\", \"17\", \"18\", \"19\", \"20\", \"21\", \"22\", \"23\", \"24\", \"25\", \"26\", \"27\", \"28\", \"29\", \"30\", \"31\", \"32\", \"33\", \"34\", \"35\", \"36\", \"37\"], \"mode\": \"markers\", \"name\": \"AUC_micro\", \"stepped\": false, \"type\": \"scatter\", \"data\": [0.8221191140602429, 0.8411938711212275, 0.8302619626300427, 0.8262858043028174, 0.8292798417413595, 0.7960606158027168, 0.7794576169472198, 0.7971735229693642, 0.756697186751197, 0.830641976261204, 0.751139916584151, 0.8257097591399507, 0.8458665903664553, 0.8262928042042275, 0.8390802180985816, 0.8397606831012178, 0.8100815940743026, 0.8226337889913369, 0.8222473755727874, 0.7604639052848612, 0.8063405004093636, 0.8450325390395603, 0.7517281826404159, 0.8202344216829769, 0.8152721131300662, 0.7082968292547013, 0.8373367325506132, 0.8452963534500126, 0.724143675869844, 0.7892586019915212, 0.57296066252588, 0.8401111968416857, 0.7564084933280182, 0.8446149925628725, 0.8322473627132012, 0.6526708074534161, 0.8518445361761591, 0.8474895601592873]}, {\"categories\": [\"0\", \"1\", \"2\", \"3\", \"4\", \"5\", \"6\", \"7\", \"8\", \"9\", \"10\", \"11\", \"12\", \"13\", \"14\", \"15\", \"16\", \"17\", \"18\", \"19\", \"20\", \"21\", \"22\", \"23\", \"24\", \"25\", \"26\", \"27\", \"28\", \"29\", \"30\", \"31\", \"32\", \"33\", \"34\", \"35\", \"36\", \"37\"], \"mode\": \"lines\", \"name\": \"AUC_micro_max\", \"stepped\": true, \"type\": \"scatter\", \"data\": [0.8221191140602429, 0.8411938711212275, 0.8411938711212275, 0.8411938711212275, 0.8411938711212275, 0.8411938711212275, 0.8411938711212275, 0.8411938711212275, 0.8411938711212275, 0.8411938711212275, 0.8411938711212275, 0.8411938711212275, 0.8458665903664553, 0.8458665903664553, 0.8458665903664553, 0.8458665903664553, 0.8458665903664553, 0.8458665903664553, 0.8458665903664553, 0.8458665903664553, 0.8458665903664553, 0.8458665903664553, 0.8458665903664553, 0.8458665903664553, 0.8458665903664553, 0.8458665903664553, 0.8458665903664553, 0.8458665903664553, 0.8458665903664553, 0.8458665903664553, 0.8458665903664553, 0.8458665903664553, 0.8458665903664553, 0.8458665903664553, 0.8458665903664553, 0.8458665903664553, 0.8518445361761591, 0.8518445361761591]}], \"accuracy\": [{\"categories\": [\"0\", \"1\", \"2\", \"3\", \"4\", \"5\", \"6\", \"7\", \"8\", \"9\", \"10\", \"11\", \"12\", \"13\", \"14\", \"15\", \"16\", \"17\", \"18\", \"19\", \"20\", \"21\", \"22\", \"23\", \"24\", \"25\", \"26\", \"27\", \"28\", \"29\", \"30\", \"31\", \"32\", \"33\", \"34\", \"35\", \"36\", \"37\"], \"mode\": \"markers\", \"name\": \"accuracy\", \"stepped\": false, \"type\": \"scatter\", \"data\": [0.7423602484472049, 0.7640786749482402, 0.745175983436853, 0.735072463768116, 0.7423395445134575, 0.7061283643892339, 0.6859627329192546, 0.6816149068322982, 0.6714906832298136, 0.7596687370600413, 0.6700207039337475, 0.7510144927536231, 0.7524016563146998, 0.7394616977225673, 0.7683436853002069, 0.7568115942028986, 0.7236024844720498, 0.7380124223602484, 0.7467287784679089, 0.6787163561076605, 0.7076811594202899, 0.7480745341614907, 0.66703933747412, 0.7336231884057971, 0.7279089026915114, 0.670041407867495, 0.7539130434782608, 0.7683850931677019, 0.6468737060041407, 0.7118840579710145, 0.57296066252588, 0.766977225672878, 0.6960455486542443, 0.7524016563146998, 0.7596894409937887, 0.6526708074534161, 0.7785093167701864, 0.7625672877846792]}, {\"categories\": [\"0\", \"1\", \"2\", \"3\", \"4\", \"5\", \"6\", \"7\", \"8\", \"9\", \"10\", \"11\", \"12\", \"13\", \"14\", \"15\", \"16\", \"17\", \"18\", \"19\", \"20\", \"21\", \"22\", \"23\", \"24\", \"25\", \"26\", \"27\", \"28\", \"29\", \"30\", \"31\", \"32\", \"33\", \"34\", \"35\", \"36\", \"37\"], \"mode\": \"lines\", \"name\": \"accuracy_max\", \"stepped\": true, \"type\": \"scatter\", \"data\": [0.7423602484472049, 0.7640786749482402, 0.7640786749482402, 0.7640786749482402, 0.7640786749482402, 0.7640786749482402, 0.7640786749482402, 0.7640786749482402, 0.7640786749482402, 0.7640786749482402, 0.7640786749482402, 0.7640786749482402, 0.7640786749482402, 0.7640786749482402, 0.7683436853002069, 0.7683436853002069, 0.7683436853002069, 0.7683436853002069, 0.7683436853002069, 0.7683436853002069, 0.7683436853002069, 0.7683436853002069, 0.7683436853002069, 0.7683436853002069, 0.7683436853002069, 0.7683436853002069, 0.7683436853002069, 0.7683850931677019, 0.7683850931677019, 0.7683850931677019, 0.7683850931677019, 0.7683850931677019, 0.7683850931677019, 0.7683850931677019, 0.7683850931677019, 0.7683850931677019, 0.7785093167701864, 0.7785093167701864]}], \"average_precision_score_macro\": [{\"categories\": [\"0\", \"1\", \"2\", \"3\", \"4\", \"5\", \"6\", \"7\", \"8\", \"9\", \"10\", \"11\", \"12\", \"13\", \"14\", \"15\", \"16\", \"17\", \"18\", \"19\", \"20\", \"21\", \"22\", \"23\", \"24\", \"25\", \"26\", \"27\", \"28\", \"29\", \"30\", \"31\", \"32\", \"33\", \"34\", \"35\", \"36\", \"37\"], \"mode\": \"markers\", \"name\": \"average_precision_score_macro\", \"stepped\": false, \"type\": \"scatter\", \"data\": [0.7750119586914483, 0.8007137625678183, 0.7860435949915525, 0.7870292489181395, 0.8019796017575874, 0.7771474994673196, 0.7266965879397596, 0.7910624831112922, 0.7027233920120715, 0.7851328652698025, 0.6980729265686199, 0.7849603277311253, 0.8025226608266518, 0.7993640130150591, 0.7946083861841438, 0.7943117035730717, 0.7984091538692665, 0.7922814216557585, 0.8057069606850943, 0.7084624506661445, 0.7902626602651097, 0.802694092204692, 0.6970193593477682, 0.8053963466748048, 0.8028147581374266, 0.6374170034351272, 0.7927293219842515, 0.801758634493057, 0.6468498396774373, 0.7815025862623795, 0.5, 0.7955671076239172, 0.6988573700187912, 0.8064021344958101, 0.8069001238563264, 0.5, 0.8120172275410107, 0.8112273581125029]}, {\"categories\": [\"0\", \"1\", \"2\", \"3\", \"4\", \"5\", \"6\", \"7\", \"8\", \"9\", \"10\", \"11\", \"12\", \"13\", \"14\", \"15\", \"16\", \"17\", \"18\", \"19\", \"20\", \"21\", \"22\", \"23\", \"24\", \"25\", \"26\", \"27\", \"28\", \"29\", \"30\", \"31\", \"32\", \"33\", \"34\", \"35\", \"36\", \"37\"], \"mode\": \"lines\", \"name\": \"average_precision_score_macro_max\", \"stepped\": true, \"type\": \"scatter\", \"data\": [0.7750119586914483, 0.8007137625678183, 0.8007137625678183, 0.8007137625678183, 0.8019796017575874, 0.8019796017575874, 0.8019796017575874, 0.8019796017575874, 0.8019796017575874, 0.8019796017575874, 0.8019796017575874, 0.8019796017575874, 0.8025226608266518, 0.8025226608266518, 0.8025226608266518, 0.8025226608266518, 0.8025226608266518, 0.8025226608266518, 0.8057069606850943, 0.8057069606850943, 0.8057069606850943, 0.8057069606850943, 0.8057069606850943, 0.8057069606850943, 0.8057069606850943, 0.8057069606850943, 0.8057069606850943, 0.8057069606850943, 0.8057069606850943, 0.8057069606850943, 0.8057069606850943, 0.8057069606850943, 0.8057069606850943, 0.8064021344958101, 0.8069001238563264, 0.8069001238563264, 0.8120172275410107, 0.8120172275410107]}], \"weighted_accuracy\": [{\"categories\": [\"0\", \"1\", \"2\", \"3\", \"4\", \"5\", \"6\", \"7\", \"8\", \"9\", \"10\", \"11\", \"12\", \"13\", \"14\", \"15\", \"16\", \"17\", \"18\", \"19\", \"20\", \"21\", \"22\", \"23\", \"24\", \"25\", \"26\", \"27\", \"28\", \"29\", \"30\", \"31\", \"32\", \"33\", \"34\", \"35\", \"36\", \"37\"], \"mode\": \"markers\", \"name\": \"weighted_accuracy\", \"stepped\": false, \"type\": \"scatter\", \"data\": [0.770412609569891, 0.7916023286418112, 0.7869151779261401, 0.7906482186729199, 0.745066175776411, 0.7030805775437153, 0.7357528900961251, 0.7881752792131006, 0.7300666820054766, 0.8091966062453851, 0.7183176332795405, 0.8059308039125647, 0.7973484291580879, 0.8078407363176886, 0.8088237664272551, 0.7841103954657771, 0.8101284519931928, 0.8055519196496531, 0.8233605765005031, 0.7539972778302828, 0.7976013757262003, 0.7851548663213255, 0.7444121021299913, 0.7341275750974262, 0.8035564033229617, 0.7469629111491684, 0.780377946169857, 0.8098353526351131, 0.7528699331298387, 0.7025987894848326, 0.6298581419258458, 0.7996530934302004, 0.7635552739186012, 0.8009982869476076, 0.8207212579977758, 0.7739069732910521, 0.8132369456723924, 0.7984736124688981]}, {\"categories\": [\"0\", \"1\", \"2\", \"3\", \"4\", \"5\", \"6\", \"7\", \"8\", \"9\", \"10\", \"11\", \"12\", \"13\", \"14\", \"15\", \"16\", \"17\", \"18\", \"19\", \"20\", \"21\", \"22\", \"23\", \"24\", \"25\", \"26\", \"27\", \"28\", \"29\", \"30\", \"31\", \"32\", \"33\", \"34\", \"35\", \"36\", \"37\"], \"mode\": \"lines\", \"name\": \"weighted_accuracy_max\", \"stepped\": true, \"type\": \"scatter\", \"data\": [0.770412609569891, 0.7916023286418112, 0.7916023286418112, 0.7916023286418112, 0.7916023286418112, 0.7916023286418112, 0.7916023286418112, 0.7916023286418112, 0.7916023286418112, 0.8091966062453851, 0.8091966062453851, 0.8091966062453851, 0.8091966062453851, 0.8091966062453851, 0.8091966062453851, 0.8091966062453851, 0.8101284519931928, 0.8101284519931928, 0.8233605765005031, 0.8233605765005031, 0.8233605765005031, 0.8233605765005031, 0.8233605765005031, 0.8233605765005031, 0.8233605765005031, 0.8233605765005031, 0.8233605765005031, 0.8233605765005031, 0.8233605765005031, 0.8233605765005031, 0.8233605765005031, 0.8233605765005031, 0.8233605765005031, 0.8233605765005031, 0.8233605765005031, 0.8233605765005031, 0.8233605765005031, 0.8233605765005031]}], \"f1_score_micro\": [{\"categories\": [\"0\", \"1\", \"2\", \"3\", \"4\", \"5\", \"6\", \"7\", \"8\", \"9\", \"10\", \"11\", \"12\", \"13\", \"14\", \"15\", \"16\", \"17\", \"18\", \"19\", \"20\", \"21\", \"22\", \"23\", \"24\", \"25\", \"26\", \"27\", \"28\", \"29\", \"30\", \"31\", \"32\", \"33\", \"34\", \"35\", \"36\", \"37\"], \"mode\": \"markers\", \"name\": \"f1_score_micro\", \"stepped\": false, \"type\": \"scatter\", \"data\": [0.7423602484472049, 0.7640786749482402, 0.745175983436853, 0.7350724637681159, 0.7423395445134575, 0.7061283643892339, 0.6859627329192546, 0.6816149068322982, 0.6714906832298136, 0.7596687370600413, 0.6700207039337474, 0.7510144927536231, 0.7524016563146998, 0.7394616977225673, 0.7683436853002069, 0.7568115942028986, 0.7236024844720496, 0.7380124223602484, 0.7467287784679089, 0.6787163561076605, 0.7076811594202899, 0.7480745341614907, 0.66703933747412, 0.7336231884057971, 0.7279089026915114, 0.670041407867495, 0.7539130434782609, 0.7683850931677019, 0.6468737060041407, 0.7118840579710145, 0.57296066252588, 0.7669772256728777, 0.6960455486542443, 0.7524016563146998, 0.7596894409937887, 0.6526708074534161, 0.7785093167701864, 0.7625672877846792]}, {\"categories\": [\"0\", \"1\", \"2\", \"3\", \"4\", \"5\", \"6\", \"7\", \"8\", \"9\", \"10\", \"11\", \"12\", \"13\", \"14\", \"15\", \"16\", \"17\", \"18\", \"19\", \"20\", \"21\", \"22\", \"23\", \"24\", \"25\", \"26\", \"27\", \"28\", \"29\", \"30\", \"31\", \"32\", \"33\", \"34\", \"35\", \"36\", \"37\"], \"mode\": \"lines\", \"name\": \"f1_score_micro_max\", \"stepped\": true, \"type\": \"scatter\", \"data\": [0.7423602484472049, 0.7640786749482402, 0.7640786749482402, 0.7640786749482402, 0.7640786749482402, 0.7640786749482402, 0.7640786749482402, 0.7640786749482402, 0.7640786749482402, 0.7640786749482402, 0.7640786749482402, 0.7640786749482402, 0.7640786749482402, 0.7640786749482402, 0.7683436853002069, 0.7683436853002069, 0.7683436853002069, 0.7683436853002069, 0.7683436853002069, 0.7683436853002069, 0.7683436853002069, 0.7683436853002069, 0.7683436853002069, 0.7683436853002069, 0.7683436853002069, 0.7683436853002069, 0.7683436853002069, 0.7683850931677019, 0.7683850931677019, 0.7683850931677019, 0.7683850931677019, 0.7683850931677019, 0.7683850931677019, 0.7683850931677019, 0.7683850931677019, 0.7683850931677019, 0.7785093167701864, 0.7785093167701864]}], \"matthews_correlation\": [{\"categories\": [\"0\", \"1\", \"2\", \"3\", \"4\", \"5\", \"6\", \"7\", \"8\", \"9\", \"10\", \"11\", \"12\", \"13\", \"14\", \"15\", \"16\", \"17\", \"18\", \"19\", \"20\", \"21\", \"22\", \"23\", \"24\", \"25\", \"26\", \"27\", \"28\", \"29\", \"30\", \"31\", \"32\", \"33\", \"34\", \"35\", \"36\", \"37\"], \"mode\": \"markers\", \"name\": \"matthews_correlation\", \"stepped\": false, \"type\": \"scatter\", \"data\": [0.4222277564016664, 0.47141250793177647, 0.4122089311653454, 0.3762770977148261, 0.46402194474381453, 0.4007550444563285, 0.2632922606680378, 0.21268915733070673, 0.22574856773273436, 0.4402113563883642, 0.230429372359636, 0.41972149135352926, 0.42440425829934164, 0.3899965289988064, 0.46818367033947006, 0.4555901305517649, 0.34939622841200474, 0.3874425358902979, 0.4039763209631636, 0.22415816495021587, 0.3003157102657338, 0.4253506027282775, 0.19912420267604877, 0.4483417817048938, 0.35930777770678446, 0.19040676456514893, 0.4500193466946292, 0.4631530356325878, 0.05166045366924493, 0.4283164515919139, 0.0, 0.4716666555794383, 0.2712632448667574, 0.42392274387248524, 0.4398131090384668, 0.0, 0.49501294207019625, 0.4598328284573639]}, {\"categories\": [\"0\", \"1\", \"2\", \"3\", \"4\", \"5\", \"6\", \"7\", \"8\", \"9\", \"10\", \"11\", \"12\", \"13\", \"14\", \"15\", \"16\", \"17\", \"18\", \"19\", \"20\", \"21\", \"22\", \"23\", \"24\", \"25\", \"26\", \"27\", \"28\", \"29\", \"30\", \"31\", \"32\", \"33\", \"34\", \"35\", \"36\", \"37\"], \"mode\": \"lines\", \"name\": \"matthews_correlation_max\", \"stepped\": true, \"type\": \"scatter\", \"data\": [0.4222277564016664, 0.47141250793177647, 0.47141250793177647, 0.47141250793177647, 0.47141250793177647, 0.47141250793177647, 0.47141250793177647, 0.47141250793177647, 0.47141250793177647, 0.47141250793177647, 0.47141250793177647, 0.47141250793177647, 0.47141250793177647, 0.47141250793177647, 0.47141250793177647, 0.47141250793177647, 0.47141250793177647, 0.47141250793177647, 0.47141250793177647, 0.47141250793177647, 0.47141250793177647, 0.47141250793177647, 0.47141250793177647, 0.47141250793177647, 0.47141250793177647, 0.47141250793177647, 0.47141250793177647, 0.47141250793177647, 0.47141250793177647, 0.47141250793177647, 0.47141250793177647, 0.4716666555794383, 0.4716666555794383, 0.4716666555794383, 0.4716666555794383, 0.4716666555794383, 0.49501294207019625, 0.49501294207019625]}], \"average_precision_score_weighted\": [{\"categories\": [\"0\", \"1\", \"2\", \"3\", \"4\", \"5\", \"6\", \"7\", \"8\", \"9\", \"10\", \"11\", \"12\", \"13\", \"14\", \"15\", \"16\", \"17\", \"18\", \"19\", \"20\", \"21\", \"22\", \"23\", \"24\", \"25\", \"26\", \"27\", \"28\", \"29\", \"30\", \"31\", \"32\", \"33\", \"34\", \"35\", \"36\", \"37\"], \"mode\": \"markers\", \"name\": \"average_precision_score_weighted\", \"stepped\": false, \"type\": \"scatter\", \"data\": [0.8115719741493773, 0.8322769716007231, 0.8197841348604596, 0.8213027638598211, 0.834456751082679, 0.813482638982151, 0.7696040250616949, 0.8260398615937854, 0.7451811062281016, 0.8171368353502034, 0.7434569933010831, 0.8223814539303846, 0.8375532213430162, 0.8333568823084423, 0.8259259424822929, 0.8304802661409181, 0.8303920920007168, 0.8273047695978102, 0.8380397551420117, 0.7481811757226062, 0.826112304642194, 0.8364826946324646, 0.7406344151424366, 0.8363886179134725, 0.8358700979435589, 0.6773559376074796, 0.8253836648114736, 0.8347791738342607, 0.6977102252957257, 0.8162669528322082, 0.5506539613955224, 0.829106508545084, 0.7415797140949951, 0.8390452887517628, 0.8376879080941206, 0.5506539613955224, 0.8431563520090235, 0.8415622451719098]}, {\"categories\": [\"0\", \"1\", \"2\", \"3\", \"4\", \"5\", \"6\", \"7\", \"8\", \"9\", \"10\", \"11\", \"12\", \"13\", \"14\", \"15\", \"16\", \"17\", \"18\", \"19\", \"20\", \"21\", \"22\", \"23\", \"24\", \"25\", \"26\", \"27\", \"28\", \"29\", \"30\", \"31\", \"32\", \"33\", \"34\", \"35\", \"36\", \"37\"], \"mode\": \"lines\", \"name\": \"average_precision_score_weighted_max\", \"stepped\": true, \"type\": \"scatter\", \"data\": [0.8115719741493773, 0.8322769716007231, 0.8322769716007231, 0.8322769716007231, 0.834456751082679, 0.834456751082679, 0.834456751082679, 0.834456751082679, 0.834456751082679, 0.834456751082679, 0.834456751082679, 0.834456751082679, 0.8375532213430162, 0.8375532213430162, 0.8375532213430162, 0.8375532213430162, 0.8375532213430162, 0.8375532213430162, 0.8380397551420117, 0.8380397551420117, 0.8380397551420117, 0.8380397551420117, 0.8380397551420117, 0.8380397551420117, 0.8380397551420117, 0.8380397551420117, 0.8380397551420117, 0.8380397551420117, 0.8380397551420117, 0.8380397551420117, 0.8380397551420117, 0.8380397551420117, 0.8380397551420117, 0.8390452887517628, 0.8390452887517628, 0.8390452887517628, 0.8431563520090235, 0.8431563520090235]}], \"norm_macro_recall\": [{\"categories\": [\"0\", \"1\", \"2\", \"3\", \"4\", \"5\", \"6\", \"7\", \"8\", \"9\", \"10\", \"11\", \"12\", \"13\", \"14\", \"15\", \"16\", \"17\", \"18\", \"19\", \"20\", \"21\", \"22\", \"23\", \"24\", \"25\", \"26\", \"27\", \"28\", \"29\", \"30\", \"31\", \"32\", \"33\", \"34\", \"35\", \"36\", \"37\"], \"mode\": \"markers\", \"name\": \"norm_macro_recall\", \"stepped\": false, \"type\": \"scatter\", \"data\": [0.4130028523558836, 0.45906851903961743, 0.3847919680609316, 0.3283783694061155, 0.47897065652186016, 0.4183563440341821, 0.24527371949615145, 0.09464776604919156, 0.1954479760949076, 0.393426410331965, 0.219968287424605, 0.3634008803193355, 0.3905325685884742, 0.3065244304980915, 0.43338727847852854, 0.4450375134517449, 0.22902230148337574, 0.30578352260736563, 0.298798965349245, 0.16837538023365373, 0.18881428605100822, 0.4026600544553071, 0.15147795998438787, 0.4630529005614303, 0.26547180488346117, 0.1464600423330942, 0.4416112440881202, 0.43093595006982166, 0.03450006059788795, 0.44610722491576915, 0.0, 0.45219935486663837, 0.22252583824752065, 0.3817720820516972, 0.3648349699932505, 0.0, 0.4701475495879082, 0.43489227756405635]}, {\"categories\": [\"0\", \"1\", \"2\", \"3\", \"4\", \"5\", \"6\", \"7\", \"8\", \"9\", \"10\", \"11\", \"12\", \"13\", \"14\", \"15\", \"16\", \"17\", \"18\", \"19\", \"20\", \"21\", \"22\", \"23\", \"24\", \"25\", \"26\", \"27\", \"28\", \"29\", \"30\", \"31\", \"32\", \"33\", \"34\", \"35\", \"36\", \"37\"], \"mode\": \"lines\", \"name\": \"norm_macro_recall_max\", \"stepped\": true, \"type\": \"scatter\", \"data\": [0.4130028523558836, 0.45906851903961743, 0.45906851903961743, 0.45906851903961743, 0.47897065652186016, 0.47897065652186016, 0.47897065652186016, 0.47897065652186016, 0.47897065652186016, 0.47897065652186016, 0.47897065652186016, 0.47897065652186016, 0.47897065652186016, 0.47897065652186016, 0.47897065652186016, 0.47897065652186016, 0.47897065652186016, 0.47897065652186016, 0.47897065652186016, 0.47897065652186016, 0.47897065652186016, 0.47897065652186016, 0.47897065652186016, 0.47897065652186016, 0.47897065652186016, 0.47897065652186016, 0.47897065652186016, 0.47897065652186016, 0.47897065652186016, 0.47897065652186016, 0.47897065652186016, 0.47897065652186016, 0.47897065652186016, 0.47897065652186016, 0.47897065652186016, 0.47897065652186016, 0.47897065652186016, 0.47897065652186016]}], \"balanced_accuracy\": [{\"categories\": [\"0\", \"1\", \"2\", \"3\", \"4\", \"5\", \"6\", \"7\", \"8\", \"9\", \"10\", \"11\", \"12\", \"13\", \"14\", \"15\", \"16\", \"17\", \"18\", \"19\", \"20\", \"21\", \"22\", \"23\", \"24\", \"25\", \"26\", \"27\", \"28\", \"29\", \"30\", \"31\", \"32\", \"33\", \"34\", \"35\", \"36\", \"37\"], \"mode\": \"markers\", \"name\": \"balanced_accuracy\", \"stepped\": false, \"type\": \"scatter\", \"data\": [0.7065014261779419, 0.7295342595198088, 0.6923959840304658, 0.6641891847030578, 0.73948532826093, 0.709178172017091, 0.6226368597480758, 0.5473238830245958, 0.5977239880474537, 0.6967132051659825, 0.6087596539163841, 0.6817004401596678, 0.695266284294237, 0.6532622152490457, 0.7166936392392642, 0.7225187567258725, 0.6145111507416878, 0.6528917613036829, 0.6493994826746224, 0.5841876901168268, 0.594407143025504, 0.7013300272276537, 0.57060194816797, 0.7315264502807151, 0.6327359024417306, 0.5732300211665471, 0.7208056220440601, 0.7154679750349107, 0.5138571731560869, 0.7230536124578846, 0.5, 0.7260996774333192, 0.6112629191237604, 0.6908860410258486, 0.6824174849966252, 0.5, 0.7350737747939541, 0.7174461387820281]}, {\"categories\": [\"0\", \"1\", \"2\", \"3\", \"4\", \"5\", \"6\", \"7\", \"8\", \"9\", \"10\", \"11\", \"12\", \"13\", \"14\", \"15\", \"16\", \"17\", \"18\", \"19\", \"20\", \"21\", \"22\", \"23\", \"24\", \"25\", \"26\", \"27\", \"28\", \"29\", \"30\", \"31\", \"32\", \"33\", \"34\", \"35\", \"36\", \"37\"], \"mode\": \"lines\", \"name\": \"balanced_accuracy_max\", \"stepped\": true, \"type\": \"scatter\", \"data\": [0.7065014261779419, 0.7295342595198088, 0.7295342595198088, 0.7295342595198088, 0.73948532826093, 0.73948532826093, 0.73948532826093, 0.73948532826093, 0.73948532826093, 0.73948532826093, 0.73948532826093, 0.73948532826093, 0.73948532826093, 0.73948532826093, 0.73948532826093, 0.73948532826093, 0.73948532826093, 0.73948532826093, 0.73948532826093, 0.73948532826093, 0.73948532826093, 0.73948532826093, 0.73948532826093, 0.73948532826093, 0.73948532826093, 0.73948532826093, 0.73948532826093, 0.73948532826093, 0.73948532826093, 0.73948532826093, 0.73948532826093, 0.73948532826093, 0.73948532826093, 0.73948532826093, 0.73948532826093, 0.73948532826093, 0.73948532826093, 0.73948532826093]}], \"recall_score_macro\": [{\"categories\": [\"0\", \"1\", \"2\", \"3\", \"4\", \"5\", \"6\", \"7\", \"8\", \"9\", \"10\", \"11\", \"12\", \"13\", \"14\", \"15\", \"16\", \"17\", \"18\", \"19\", \"20\", \"21\", \"22\", \"23\", \"24\", \"25\", \"26\", \"27\", \"28\", \"29\", \"30\", \"31\", \"32\", \"33\", \"34\", \"35\", \"36\", \"37\"], \"mode\": \"markers\", \"name\": \"recall_score_macro\", \"stepped\": false, \"type\": \"scatter\", \"data\": [0.7065014261779419, 0.7295342595198088, 0.6923959840304658, 0.6641891847030578, 0.73948532826093, 0.709178172017091, 0.6226368597480758, 0.5473238830245958, 0.5977239880474537, 0.6967132051659825, 0.6087596539163841, 0.6817004401596678, 0.695266284294237, 0.6532622152490457, 0.7166936392392642, 0.7225187567258725, 0.6145111507416878, 0.6528917613036829, 0.6493994826746224, 0.5841876901168268, 0.594407143025504, 0.7013300272276537, 0.57060194816797, 0.7315264502807151, 0.6327359024417306, 0.5732300211665471, 0.7208056220440601, 0.7154679750349107, 0.5138571731560869, 0.7230536124578846, 0.5, 0.7260996774333192, 0.6112629191237604, 0.6908860410258486, 0.6824174849966252, 0.5, 0.7350737747939541, 0.7174461387820281]}, {\"categories\": [\"0\", \"1\", \"2\", \"3\", \"4\", \"5\", \"6\", \"7\", \"8\", \"9\", \"10\", \"11\", \"12\", \"13\", \"14\", \"15\", \"16\", \"17\", \"18\", \"19\", \"20\", \"21\", \"22\", \"23\", \"24\", \"25\", \"26\", \"27\", \"28\", \"29\", \"30\", \"31\", \"32\", \"33\", \"34\", \"35\", \"36\", \"37\"], \"mode\": \"lines\", \"name\": \"recall_score_macro_max\", \"stepped\": true, \"type\": \"scatter\", \"data\": [0.7065014261779419, 0.7295342595198088, 0.7295342595198088, 0.7295342595198088, 0.73948532826093, 0.73948532826093, 0.73948532826093, 0.73948532826093, 0.73948532826093, 0.73948532826093, 0.73948532826093, 0.73948532826093, 0.73948532826093, 0.73948532826093, 0.73948532826093, 0.73948532826093, 0.73948532826093, 0.73948532826093, 0.73948532826093, 0.73948532826093, 0.73948532826093, 0.73948532826093, 0.73948532826093, 0.73948532826093, 0.73948532826093, 0.73948532826093, 0.73948532826093, 0.73948532826093, 0.73948532826093, 0.73948532826093, 0.73948532826093, 0.73948532826093, 0.73948532826093, 0.73948532826093, 0.73948532826093, 0.73948532826093, 0.73948532826093, 0.73948532826093]}], \"AUC_weighted\": [{\"categories\": [\"0\", \"1\", \"2\", \"3\", \"4\", \"5\", \"6\", \"7\", \"8\", \"9\", \"10\", \"11\", \"12\", \"13\", \"14\", \"15\", \"16\", \"17\", \"18\", \"19\", \"20\", \"21\", \"22\", \"23\", \"24\", \"25\", \"26\", \"27\", \"28\", \"29\", \"30\", \"31\", \"32\", \"33\", \"34\", \"35\", \"36\", \"37\"], \"mode\": \"markers\", \"name\": \"AUC_weighted\", \"stepped\": false, \"type\": \"scatter\", \"data\": [0.7978403756261219, 0.819231829152663, 0.8055339067159402, 0.8071835119039041, 0.8190594913008283, 0.7926862651997876, 0.7434249509097233, 0.812985228344397, 0.7192473013301776, 0.8030669387600439, 0.7086952130415224, 0.8100155547231566, 0.8263089286779648, 0.8173543301411247, 0.8135150788182963, 0.8202577351695656, 0.8175676569001717, 0.8131329180861924, 0.8240848394246649, 0.7191823770385601, 0.8112204216462107, 0.823430453460469, 0.7127400155839924, 0.8194755508934353, 0.8194617108939646, 0.6453993806033521, 0.8131580097916998, 0.821882276623705, 0.661858645881885, 0.793120677510037, 0.5, 0.8201867834440201, 0.7102847724042237, 0.8293379742005211, 0.8246057996386951, 0.5, 0.8298317573380043, 0.8261468843242337]}, {\"categories\": [\"0\", \"1\", \"2\", \"3\", \"4\", \"5\", \"6\", \"7\", \"8\", \"9\", \"10\", \"11\", \"12\", \"13\", \"14\", \"15\", \"16\", \"17\", \"18\", \"19\", \"20\", \"21\", \"22\", \"23\", \"24\", \"25\", \"26\", \"27\", \"28\", \"29\", \"30\", \"31\", \"32\", \"33\", \"34\", \"35\", \"36\", \"37\"], \"mode\": \"lines\", \"name\": \"AUC_weighted_max\", \"stepped\": true, \"type\": \"scatter\", \"data\": [0.7978403756261219, 0.819231829152663, 0.819231829152663, 0.819231829152663, 0.819231829152663, 0.819231829152663, 0.819231829152663, 0.819231829152663, 0.819231829152663, 0.819231829152663, 0.819231829152663, 0.819231829152663, 0.8263089286779648, 0.8263089286779648, 0.8263089286779648, 0.8263089286779648, 0.8263089286779648, 0.8263089286779648, 0.8263089286779648, 0.8263089286779648, 0.8263089286779648, 0.8263089286779648, 0.8263089286779648, 0.8263089286779648, 0.8263089286779648, 0.8263089286779648, 0.8263089286779648, 0.8263089286779648, 0.8263089286779648, 0.8263089286779648, 0.8263089286779648, 0.8263089286779648, 0.8263089286779648, 0.8293379742005211, 0.8293379742005211, 0.8293379742005211, 0.8298317573380043, 0.8298317573380043]}], \"f1_score_macro\": [{\"categories\": [\"0\", \"1\", \"2\", \"3\", \"4\", \"5\", \"6\", \"7\", \"8\", \"9\", \"10\", \"11\", \"12\", \"13\", \"14\", \"15\", \"16\", \"17\", \"18\", \"19\", \"20\", \"21\", \"22\", \"23\", \"24\", \"25\", \"26\", \"27\", \"28\", \"29\", \"30\", \"31\", \"32\", \"33\", \"34\", \"35\", \"36\", \"37\"], \"mode\": \"markers\", \"name\": \"f1_score_macro\", \"stepped\": false, \"type\": \"scatter\", \"data\": [0.7083524066428412, 0.7318231583951856, 0.6986738665717509, 0.6719145663818282, 0.7255258247366501, 0.6912531423763417, 0.6237861908875973, 0.4949439246082372, 0.5963073019467064, 0.7071294910947942, 0.6083877981538507, 0.6919414320095713, 0.7043017889889678, 0.6595391225647309, 0.7255505111244903, 0.7249477824534388, 0.603856544048951, 0.6590015178450397, 0.652019008256324, 0.574940554631862, 0.5768977205046937, 0.7076840904326632, 0.5570371243536579, 0.7161442572268879, 0.6320402616733738, 0.5603952973311619, 0.7221279597146717, 0.7251115973985006, 0.45168970812222103, 0.6994632732288378, 0.358599145909695, 0.731017013902756, 0.6058310350836493, 0.6998489799167223, 0.6934346500331536, 0.3944709083357149, 0.7417906743731609, 0.724204603347407]}, {\"categories\": [\"0\", \"1\", \"2\", \"3\", \"4\", \"5\", \"6\", \"7\", \"8\", \"9\", \"10\", \"11\", \"12\", \"13\", \"14\", \"15\", \"16\", \"17\", \"18\", \"19\", \"20\", \"21\", \"22\", \"23\", \"24\", \"25\", \"26\", \"27\", \"28\", \"29\", \"30\", \"31\", \"32\", \"33\", \"34\", \"35\", \"36\", \"37\"], \"mode\": \"lines\", \"name\": \"f1_score_macro_max\", \"stepped\": true, \"type\": \"scatter\", \"data\": [0.7083524066428412, 0.7318231583951856, 0.7318231583951856, 0.7318231583951856, 0.7318231583951856, 0.7318231583951856, 0.7318231583951856, 0.7318231583951856, 0.7318231583951856, 0.7318231583951856, 0.7318231583951856, 0.7318231583951856, 0.7318231583951856, 0.7318231583951856, 0.7318231583951856, 0.7318231583951856, 0.7318231583951856, 0.7318231583951856, 0.7318231583951856, 0.7318231583951856, 0.7318231583951856, 0.7318231583951856, 0.7318231583951856, 0.7318231583951856, 0.7318231583951856, 0.7318231583951856, 0.7318231583951856, 0.7318231583951856, 0.7318231583951856, 0.7318231583951856, 0.7318231583951856, 0.7318231583951856, 0.7318231583951856, 0.7318231583951856, 0.7318231583951856, 0.7318231583951856, 0.7417906743731609, 0.7417906743731609]}], \"precision_score_micro\": [{\"categories\": [\"0\", \"1\", \"2\", \"3\", \"4\", \"5\", \"6\", \"7\", \"8\", \"9\", \"10\", \"11\", \"12\", \"13\", \"14\", \"15\", \"16\", \"17\", \"18\", \"19\", \"20\", \"21\", \"22\", \"23\", \"24\", \"25\", \"26\", \"27\", \"28\", \"29\", \"30\", \"31\", \"32\", \"33\", \"34\", \"35\", \"36\", \"37\"], \"mode\": \"markers\", \"name\": \"precision_score_micro\", \"stepped\": false, \"type\": \"scatter\", \"data\": [0.7423602484472049, 0.7640786749482402, 0.745175983436853, 0.735072463768116, 0.7423395445134575, 0.7061283643892339, 0.6859627329192546, 0.6816149068322982, 0.6714906832298136, 0.7596687370600413, 0.6700207039337475, 0.7510144927536231, 0.7524016563146998, 0.7394616977225673, 0.7683436853002069, 0.7568115942028986, 0.7236024844720498, 0.7380124223602484, 0.7467287784679089, 0.6787163561076605, 0.7076811594202899, 0.7480745341614907, 0.66703933747412, 0.7336231884057971, 0.7279089026915114, 0.670041407867495, 0.7539130434782608, 0.7683850931677019, 0.6468737060041407, 0.7118840579710145, 0.57296066252588, 0.766977225672878, 0.6960455486542443, 0.7524016563146998, 0.7596894409937887, 0.6526708074534161, 0.7785093167701864, 0.7625672877846792]}, {\"categories\": [\"0\", \"1\", \"2\", \"3\", \"4\", \"5\", \"6\", \"7\", \"8\", \"9\", \"10\", \"11\", \"12\", \"13\", \"14\", \"15\", \"16\", \"17\", \"18\", \"19\", \"20\", \"21\", \"22\", \"23\", \"24\", \"25\", \"26\", \"27\", \"28\", \"29\", \"30\", \"31\", \"32\", \"33\", \"34\", \"35\", \"36\", \"37\"], \"mode\": \"lines\", \"name\": \"precision_score_micro_max\", \"stepped\": true, \"type\": \"scatter\", \"data\": [0.7423602484472049, 0.7640786749482402, 0.7640786749482402, 0.7640786749482402, 0.7640786749482402, 0.7640786749482402, 0.7640786749482402, 0.7640786749482402, 0.7640786749482402, 0.7640786749482402, 0.7640786749482402, 0.7640786749482402, 0.7640786749482402, 0.7640786749482402, 0.7683436853002069, 0.7683436853002069, 0.7683436853002069, 0.7683436853002069, 0.7683436853002069, 0.7683436853002069, 0.7683436853002069, 0.7683436853002069, 0.7683436853002069, 0.7683436853002069, 0.7683436853002069, 0.7683436853002069, 0.7683436853002069, 0.7683850931677019, 0.7683850931677019, 0.7683850931677019, 0.7683850931677019, 0.7683850931677019, 0.7683850931677019, 0.7683850931677019, 0.7683850931677019, 0.7683850931677019, 0.7785093167701864, 0.7785093167701864]}], \"precision_score_macro\": [{\"categories\": [\"0\", \"1\", \"2\", \"3\", \"4\", \"5\", \"6\", \"7\", \"8\", \"9\", \"10\", \"11\", \"12\", \"13\", \"14\", \"15\", \"16\", \"17\", \"18\", \"19\", \"20\", \"21\", \"22\", \"23\", \"24\", \"25\", \"26\", \"27\", \"28\", \"29\", \"30\", \"31\", \"32\", \"33\", \"34\", \"35\", \"36\", \"37\"], \"mode\": \"markers\", \"name\": \"precision_score_macro\", \"stepped\": false, \"type\": \"scatter\", \"data\": [0.7162605107994905, 0.7427278130063069, 0.7212555023007645, 0.7160956186759149, 0.7250816238884171, 0.6920645185481831, 0.641844775145443, 0.7417645165779494, 0.6314822970775188, 0.7468423362993111, 0.6225460389394047, 0.7428565703159358, 0.7306873273490554, 0.7499602087667084, 0.7538895439958319, 0.7335612879032976, 0.7698638743922422, 0.7471412201714703, 0.7761090213064111, 0.6567996682163811, 0.7424933532556814, 0.7250142830360102, 0.6457656496298712, 0.717132968013059, 0.7461034513223324, 0.6268406133999218, 0.7296284388791587, 0.7490344616388254, 0.5516527423663131, 0.7057636783054948, 0.28648033126294, 0.7466188431419232, 0.6701055428408557, 0.7358081349375745, 0.7658291672791643, 0.32633540372670805, 0.7611854605784083, 0.7437645251307465]}, {\"categories\": [\"0\", \"1\", \"2\", \"3\", \"4\", \"5\", \"6\", \"7\", \"8\", \"9\", \"10\", \"11\", \"12\", \"13\", \"14\", \"15\", \"16\", \"17\", \"18\", \"19\", \"20\", \"21\", \"22\", \"23\", \"24\", \"25\", \"26\", \"27\", \"28\", \"29\", \"30\", \"31\", \"32\", \"33\", \"34\", \"35\", \"36\", \"37\"], \"mode\": \"lines\", \"name\": \"precision_score_macro_max\", \"stepped\": true, \"type\": \"scatter\", \"data\": [0.7162605107994905, 0.7427278130063069, 0.7427278130063069, 0.7427278130063069, 0.7427278130063069, 0.7427278130063069, 0.7427278130063069, 0.7427278130063069, 0.7427278130063069, 0.7468423362993111, 0.7468423362993111, 0.7468423362993111, 0.7468423362993111, 0.7499602087667084, 0.7538895439958319, 0.7538895439958319, 0.7698638743922422, 0.7698638743922422, 0.7761090213064111, 0.7761090213064111, 0.7761090213064111, 0.7761090213064111, 0.7761090213064111, 0.7761090213064111, 0.7761090213064111, 0.7761090213064111, 0.7761090213064111, 0.7761090213064111, 0.7761090213064111, 0.7761090213064111, 0.7761090213064111, 0.7761090213064111, 0.7761090213064111, 0.7761090213064111, 0.7761090213064111, 0.7761090213064111, 0.7761090213064111, 0.7761090213064111]}]}, \"metricName\": null, \"primaryMetricName\": \"accuracy\", \"showLegend\": false}, \"run_metrics\": [{\"name\": \"precision_score_micro\", \"run_id\": \"AutoML_956c9abb-d368-4842-823b-1b9394d7303c\", \"categories\": [0], \"series\": [{\"data\": [0.7785093167701864]}]}, {\"name\": \"matthews_correlation\", \"run_id\": \"AutoML_956c9abb-d368-4842-823b-1b9394d7303c\", \"categories\": [0], \"series\": [{\"data\": [0.49501294207019625]}]}, {\"name\": \"f1_score_weighted\", \"run_id\": \"AutoML_956c9abb-d368-4842-823b-1b9394d7303c\", \"categories\": [0], \"series\": [{\"data\": [0.7725529346403062]}]}, {\"name\": \"norm_macro_recall\", \"run_id\": \"AutoML_956c9abb-d368-4842-823b-1b9394d7303c\", \"categories\": [0], \"series\": [{\"data\": [0.4701475495879082]}]}, {\"name\": \"recall_score_micro\", \"run_id\": \"AutoML_956c9abb-d368-4842-823b-1b9394d7303c\", \"categories\": [0], \"series\": [{\"data\": [0.7785093167701864]}]}, {\"name\": \"average_precision_score_macro\", \"run_id\": \"AutoML_956c9abb-d368-4842-823b-1b9394d7303c\", \"categories\": [0], \"series\": [{\"data\": [0.8120172275410107]}]}, {\"name\": \"average_precision_score_micro\", \"run_id\": \"AutoML_956c9abb-d368-4842-823b-1b9394d7303c\", \"categories\": [0], \"series\": [{\"data\": [0.8546021135599033]}]}, {\"name\": \"recall_score_weighted\", \"run_id\": \"AutoML_956c9abb-d368-4842-823b-1b9394d7303c\", \"categories\": [0], \"series\": [{\"data\": [0.7785093167701864]}]}, {\"name\": \"accuracy\", \"run_id\": \"AutoML_956c9abb-d368-4842-823b-1b9394d7303c\", \"categories\": [0], \"series\": [{\"data\": [0.7785093167701864]}]}, {\"name\": \"f1_score_macro\", \"run_id\": \"AutoML_956c9abb-d368-4842-823b-1b9394d7303c\", \"categories\": [0], \"series\": [{\"data\": [0.7417906743731609]}]}, {\"name\": \"precision_score_macro\", \"run_id\": \"AutoML_956c9abb-d368-4842-823b-1b9394d7303c\", \"categories\": [0], \"series\": [{\"data\": [0.7611854605784083]}]}, {\"name\": \"weighted_accuracy\", \"run_id\": \"AutoML_956c9abb-d368-4842-823b-1b9394d7303c\", \"categories\": [0], \"series\": [{\"data\": [0.8132369456723924]}]}, {\"name\": \"log_loss\", \"run_id\": \"AutoML_956c9abb-d368-4842-823b-1b9394d7303c\", \"categories\": [0], \"series\": [{\"data\": [0.5285992866378709]}]}, {\"name\": \"AUC_micro\", \"run_id\": \"AutoML_956c9abb-d368-4842-823b-1b9394d7303c\", \"categories\": [0], \"series\": [{\"data\": [0.8518445361761591]}]}, {\"name\": \"balanced_accuracy\", \"run_id\": \"AutoML_956c9abb-d368-4842-823b-1b9394d7303c\", \"categories\": [0], \"series\": [{\"data\": [0.7350737747939541]}]}, {\"name\": \"f1_score_micro\", \"run_id\": \"AutoML_956c9abb-d368-4842-823b-1b9394d7303c\", \"categories\": [0], \"series\": [{\"data\": [0.7785093167701864]}]}, {\"name\": \"AUC_macro\", \"run_id\": \"AutoML_956c9abb-d368-4842-823b-1b9394d7303c\", \"categories\": [0], \"series\": [{\"data\": [0.8298317573380043]}]}, {\"name\": \"recall_score_macro\", \"run_id\": \"AutoML_956c9abb-d368-4842-823b-1b9394d7303c\", \"categories\": [0], \"series\": [{\"data\": [0.7350737747939541]}]}, {\"name\": \"average_precision_score_weighted\", \"run_id\": \"AutoML_956c9abb-d368-4842-823b-1b9394d7303c\", \"categories\": [0], \"series\": [{\"data\": [0.8431563520090235]}]}, {\"name\": \"AUC_weighted\", \"run_id\": \"AutoML_956c9abb-d368-4842-823b-1b9394d7303c\", \"categories\": [0], \"series\": [{\"data\": [0.8298317573380043]}]}, {\"name\": \"precision_score_weighted\", \"run_id\": \"AutoML_956c9abb-d368-4842-823b-1b9394d7303c\", \"categories\": [0], \"series\": [{\"data\": [0.7771801578534658]}]}], \"run_logs\": \"\\nRun is completed.\", \"graph\": {}, \"widget_settings\": {\"childWidgetDisplay\": \"popup\", \"send_telemetry\": false, \"log_level\": \"INFO\", \"sdk_version\": \"1.27.0\"}, \"loading\": false}"
     },
     "metadata": {},
     "output_type": "display_data"
    }
   ],
   "source": [
    "RunDetailstails(run).show()"
   ]
  },
  {
   "cell_type": "code",
   "execution_count": 28,
   "metadata": {},
   "outputs": [
    {
     "name": "stderr",
     "output_type": "stream",
     "text": [
      "WARNING:root:Received unrecognized parameter n_cross_validation\n",
      "WARNING:root:Received unrecognized parameter n_cross_validation\n",
      "WARNING:root:Received unrecognized parameter n_cross_validation\n"
     ]
    }
   ],
   "source": [
    "best_run,fitted_model=run.get_output()"
   ]
  },
  {
   "cell_type": "code",
   "execution_count": 29,
   "metadata": {},
   "outputs": [
    {
     "name": "stdout",
     "output_type": "stream",
     "text": [
      "Run(Experiment: diabetec_experiment,\n",
      "Id: AutoML_956c9abb-d368-4842-823b-1b9394d7303c_36,\n",
      "Type: None,\n",
      "Status: Completed)\n"
     ]
    }
   ],
   "source": [
    "print(best_run)"
   ]
  },
  {
   "cell_type": "code",
   "execution_count": 30,
   "metadata": {},
   "outputs": [
    {
     "name": "stdout",
     "output_type": "stream",
     "text": [
      "Pipeline(memory=None,\n",
      "         steps=[('datatransformer',\n",
      "                 DataTransformer(enable_dnn=None, enable_feature_sweeping=None,\n",
      "                                 feature_sweeping_config=None,\n",
      "                                 feature_sweeping_timeout=None,\n",
      "                                 featurization_config=None, force_text_dnn=None,\n",
      "                                 is_cross_validation=None,\n",
      "                                 is_onnx_compatible=None, logger=None,\n",
      "                                 observer=None, task=None, working_dir=None)),\n",
      "                ('prefittedsoftvotingclassifier',...\n",
      "                                                                                                reg_lambda=0.42105263157894735,\n",
      "                                                                                                silent=True,\n",
      "                                                                                                subsample=0.8910526315789474,\n",
      "                                                                                                subsample_for_bin=200000,\n",
      "                                                                                                subsample_freq=0,\n",
      "                                                                                                verbose=-10))],\n",
      "                                                                     verbose=False))],\n",
      "                                               flatten_transform=None,\n",
      "                                               weights=[0.07692307692307693,\n",
      "                                                        0.07692307692307693,\n",
      "                                                        0.15384615384615385,\n",
      "                                                        0.15384615384615385,\n",
      "                                                        0.07692307692307693,\n",
      "                                                        0.3076923076923077,\n",
      "                                                        0.07692307692307693,\n",
      "                                                        0.07692307692307693]))],\n",
      "         verbose=False)\n"
     ]
    }
   ],
   "source": [
    "print(fitted_model)"
   ]
  },
  {
   "cell_type": "code",
   "execution_count": 35,
   "metadata": {},
   "outputs": [
    {
     "ename": "KeyError",
     "evalue": "\"['Outcome'] not found in axis\"",
     "output_type": "error",
     "traceback": [
      "\u001b[0;31m---------------------------------------------------------------------------\u001b[0m",
      "\u001b[0;31mKeyError\u001b[0m                                  Traceback (most recent call last)",
      "\u001b[0;32m<ipython-input-35-42baea1433d5>\u001b[0m in \u001b[0;36m<module>\u001b[0;34m\u001b[0m\n\u001b[0;32m----> 1\u001b[0;31m \u001b[0mx_test\u001b[0m\u001b[0;34m=\u001b[0m\u001b[0mx_test\u001b[0m\u001b[0;34m.\u001b[0m\u001b[0mdrop\u001b[0m\u001b[0;34m(\u001b[0m\u001b[0;34m\"Outcome\"\u001b[0m\u001b[0;34m)\u001b[0m\u001b[0;34m\u001b[0m\u001b[0;34m\u001b[0m\u001b[0m\n\u001b[0m",
      "\u001b[0;32m/anaconda/envs/azureml_py36/lib/python3.6/site-packages/pandas/core/frame.py\u001b[0m in \u001b[0;36mdrop\u001b[0;34m(self, labels, axis, index, columns, level, inplace, errors)\u001b[0m\n\u001b[1;32m   4115\u001b[0m             \u001b[0mlevel\u001b[0m\u001b[0;34m=\u001b[0m\u001b[0mlevel\u001b[0m\u001b[0;34m,\u001b[0m\u001b[0;34m\u001b[0m\u001b[0;34m\u001b[0m\u001b[0m\n\u001b[1;32m   4116\u001b[0m             \u001b[0minplace\u001b[0m\u001b[0;34m=\u001b[0m\u001b[0minplace\u001b[0m\u001b[0;34m,\u001b[0m\u001b[0;34m\u001b[0m\u001b[0;34m\u001b[0m\u001b[0m\n\u001b[0;32m-> 4117\u001b[0;31m             \u001b[0merrors\u001b[0m\u001b[0;34m=\u001b[0m\u001b[0merrors\u001b[0m\u001b[0;34m,\u001b[0m\u001b[0;34m\u001b[0m\u001b[0;34m\u001b[0m\u001b[0m\n\u001b[0m\u001b[1;32m   4118\u001b[0m         )\n\u001b[1;32m   4119\u001b[0m \u001b[0;34m\u001b[0m\u001b[0m\n",
      "\u001b[0;32m/anaconda/envs/azureml_py36/lib/python3.6/site-packages/pandas/core/generic.py\u001b[0m in \u001b[0;36mdrop\u001b[0;34m(self, labels, axis, index, columns, level, inplace, errors)\u001b[0m\n\u001b[1;32m   3912\u001b[0m         \u001b[0;32mfor\u001b[0m \u001b[0maxis\u001b[0m\u001b[0;34m,\u001b[0m \u001b[0mlabels\u001b[0m \u001b[0;32min\u001b[0m \u001b[0maxes\u001b[0m\u001b[0;34m.\u001b[0m\u001b[0mitems\u001b[0m\u001b[0;34m(\u001b[0m\u001b[0;34m)\u001b[0m\u001b[0;34m:\u001b[0m\u001b[0;34m\u001b[0m\u001b[0;34m\u001b[0m\u001b[0m\n\u001b[1;32m   3913\u001b[0m             \u001b[0;32mif\u001b[0m \u001b[0mlabels\u001b[0m \u001b[0;32mis\u001b[0m \u001b[0;32mnot\u001b[0m \u001b[0;32mNone\u001b[0m\u001b[0;34m:\u001b[0m\u001b[0;34m\u001b[0m\u001b[0;34m\u001b[0m\u001b[0m\n\u001b[0;32m-> 3914\u001b[0;31m                 \u001b[0mobj\u001b[0m \u001b[0;34m=\u001b[0m \u001b[0mobj\u001b[0m\u001b[0;34m.\u001b[0m\u001b[0m_drop_axis\u001b[0m\u001b[0;34m(\u001b[0m\u001b[0mlabels\u001b[0m\u001b[0;34m,\u001b[0m \u001b[0maxis\u001b[0m\u001b[0;34m,\u001b[0m \u001b[0mlevel\u001b[0m\u001b[0;34m=\u001b[0m\u001b[0mlevel\u001b[0m\u001b[0;34m,\u001b[0m \u001b[0merrors\u001b[0m\u001b[0;34m=\u001b[0m\u001b[0merrors\u001b[0m\u001b[0;34m)\u001b[0m\u001b[0;34m\u001b[0m\u001b[0;34m\u001b[0m\u001b[0m\n\u001b[0m\u001b[1;32m   3915\u001b[0m \u001b[0;34m\u001b[0m\u001b[0m\n\u001b[1;32m   3916\u001b[0m         \u001b[0;32mif\u001b[0m \u001b[0minplace\u001b[0m\u001b[0;34m:\u001b[0m\u001b[0;34m\u001b[0m\u001b[0;34m\u001b[0m\u001b[0m\n",
      "\u001b[0;32m/anaconda/envs/azureml_py36/lib/python3.6/site-packages/pandas/core/generic.py\u001b[0m in \u001b[0;36m_drop_axis\u001b[0;34m(self, labels, axis, level, errors)\u001b[0m\n\u001b[1;32m   3944\u001b[0m                 \u001b[0mnew_axis\u001b[0m \u001b[0;34m=\u001b[0m \u001b[0maxis\u001b[0m\u001b[0;34m.\u001b[0m\u001b[0mdrop\u001b[0m\u001b[0;34m(\u001b[0m\u001b[0mlabels\u001b[0m\u001b[0;34m,\u001b[0m \u001b[0mlevel\u001b[0m\u001b[0;34m=\u001b[0m\u001b[0mlevel\u001b[0m\u001b[0;34m,\u001b[0m \u001b[0merrors\u001b[0m\u001b[0;34m=\u001b[0m\u001b[0merrors\u001b[0m\u001b[0;34m)\u001b[0m\u001b[0;34m\u001b[0m\u001b[0;34m\u001b[0m\u001b[0m\n\u001b[1;32m   3945\u001b[0m             \u001b[0;32melse\u001b[0m\u001b[0;34m:\u001b[0m\u001b[0;34m\u001b[0m\u001b[0;34m\u001b[0m\u001b[0m\n\u001b[0;32m-> 3946\u001b[0;31m                 \u001b[0mnew_axis\u001b[0m \u001b[0;34m=\u001b[0m \u001b[0maxis\u001b[0m\u001b[0;34m.\u001b[0m\u001b[0mdrop\u001b[0m\u001b[0;34m(\u001b[0m\u001b[0mlabels\u001b[0m\u001b[0;34m,\u001b[0m \u001b[0merrors\u001b[0m\u001b[0;34m=\u001b[0m\u001b[0merrors\u001b[0m\u001b[0;34m)\u001b[0m\u001b[0;34m\u001b[0m\u001b[0;34m\u001b[0m\u001b[0m\n\u001b[0m\u001b[1;32m   3947\u001b[0m             \u001b[0mresult\u001b[0m \u001b[0;34m=\u001b[0m \u001b[0mself\u001b[0m\u001b[0;34m.\u001b[0m\u001b[0mreindex\u001b[0m\u001b[0;34m(\u001b[0m\u001b[0;34m**\u001b[0m\u001b[0;34m{\u001b[0m\u001b[0maxis_name\u001b[0m\u001b[0;34m:\u001b[0m \u001b[0mnew_axis\u001b[0m\u001b[0;34m}\u001b[0m\u001b[0;34m)\u001b[0m\u001b[0;34m\u001b[0m\u001b[0;34m\u001b[0m\u001b[0m\n\u001b[1;32m   3948\u001b[0m \u001b[0;34m\u001b[0m\u001b[0m\n",
      "\u001b[0;32m/anaconda/envs/azureml_py36/lib/python3.6/site-packages/pandas/core/indexes/base.py\u001b[0m in \u001b[0;36mdrop\u001b[0;34m(self, labels, errors)\u001b[0m\n\u001b[1;32m   5338\u001b[0m         \u001b[0;32mif\u001b[0m \u001b[0mmask\u001b[0m\u001b[0;34m.\u001b[0m\u001b[0many\u001b[0m\u001b[0;34m(\u001b[0m\u001b[0;34m)\u001b[0m\u001b[0;34m:\u001b[0m\u001b[0;34m\u001b[0m\u001b[0;34m\u001b[0m\u001b[0m\n\u001b[1;32m   5339\u001b[0m             \u001b[0;32mif\u001b[0m \u001b[0merrors\u001b[0m \u001b[0;34m!=\u001b[0m \u001b[0;34m\"ignore\"\u001b[0m\u001b[0;34m:\u001b[0m\u001b[0;34m\u001b[0m\u001b[0;34m\u001b[0m\u001b[0m\n\u001b[0;32m-> 5340\u001b[0;31m                 \u001b[0;32mraise\u001b[0m \u001b[0mKeyError\u001b[0m\u001b[0;34m(\u001b[0m\u001b[0;34m\"{} not found in axis\"\u001b[0m\u001b[0;34m.\u001b[0m\u001b[0mformat\u001b[0m\u001b[0;34m(\u001b[0m\u001b[0mlabels\u001b[0m\u001b[0;34m[\u001b[0m\u001b[0mmask\u001b[0m\u001b[0;34m]\u001b[0m\u001b[0;34m)\u001b[0m\u001b[0;34m)\u001b[0m\u001b[0;34m\u001b[0m\u001b[0;34m\u001b[0m\u001b[0m\n\u001b[0m\u001b[1;32m   5341\u001b[0m             \u001b[0mindexer\u001b[0m \u001b[0;34m=\u001b[0m \u001b[0mindexer\u001b[0m\u001b[0;34m[\u001b[0m\u001b[0;34m~\u001b[0m\u001b[0mmask\u001b[0m\u001b[0;34m]\u001b[0m\u001b[0;34m\u001b[0m\u001b[0;34m\u001b[0m\u001b[0m\n\u001b[1;32m   5342\u001b[0m         \u001b[0;32mreturn\u001b[0m \u001b[0mself\u001b[0m\u001b[0;34m.\u001b[0m\u001b[0mdelete\u001b[0m\u001b[0;34m(\u001b[0m\u001b[0mindexer\u001b[0m\u001b[0;34m)\u001b[0m\u001b[0;34m\u001b[0m\u001b[0;34m\u001b[0m\u001b[0m\n",
      "\u001b[0;31mKeyError\u001b[0m: \"['Outcome'] not found in axis\""
     ]
    }
   ],
   "source": [
    "x_test=x_test.drop(\"Outcome\")"
   ]
  },
  {
   "cell_type": "code",
   "execution_count": 36,
   "metadata": {},
   "outputs": [],
   "source": [
    "y_predict=fitted_model.predict(x_test)"
   ]
  },
  {
   "cell_type": "code",
   "execution_count": 39,
   "metadata": {},
   "outputs": [
    {
     "data": {
      "text/plain": [
       "array([0, 1, 1, 0, 1, 0, 0, 0, 0, 0, 0, 1, 0, 0, 0, 0, 1, 1, 0, 0, 0, 1,\n",
       "       1, 0, 1, 0, 0, 0, 0, 0, 1, 1, 1, 0, 0, 1, 0, 1, 1, 1, 0, 1, 1, 0,\n",
       "       0, 0, 0, 0, 0, 1, 0, 1, 1, 0, 0, 0, 1, 0, 0, 0, 1, 0, 1, 1, 1, 0,\n",
       "       1, 1, 0, 0, 0, 0, 1, 1, 0, 0, 0])"
      ]
     },
     "execution_count": 39,
     "metadata": {},
     "output_type": "execute_result"
    }
   ],
   "source": [
    "y_predict"
   ]
  },
  {
   "cell_type": "code",
   "execution_count": null,
   "metadata": {},
   "outputs": [],
   "source": []
  }
 ],
 "metadata": {
  "kernel_info": {
   "name": "python3-azureml"
  },
  "kernelspec": {
   "display_name": "Python 3",
   "language": "python",
   "name": "python3"
  },
  "language_info": {
   "codemirror_mode": {
    "name": "ipython",
    "version": 3
   },
   "file_extension": ".py",
   "mimetype": "text/x-python",
   "name": "python",
   "nbconvert_exporter": "python",
   "pygments_lexer": "ipython3",
   "version": "3.7.10"
  },
  "nteract": {
   "version": "nteract-front-end@1.0.0"
  }
 },
 "nbformat": 4,
 "nbformat_minor": 4
}
