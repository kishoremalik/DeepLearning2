{
 "cells": [
  {
   "cell_type": "code",
   "execution_count": 1,
   "id": "09bbfd90",
   "metadata": {},
   "outputs": [
    {
     "name": "stderr",
     "output_type": "stream",
     "text": [
      "c:\\users\\user\\anaconda3\\envs\\myenv\\lib\\importlib\\_bootstrap.py:219: RuntimeWarning: numpy.ufunc size changed, may indicate binary incompatibility. Expected 192 from C header, got 216 from PyObject\n",
      "  return f(*args, **kwds)\n",
      "c:\\users\\user\\anaconda3\\envs\\myenv\\lib\\importlib\\_bootstrap.py:219: RuntimeWarning: numpy.ufunc size changed, may indicate binary incompatibility. Expected 192 from C header, got 216 from PyObject\n",
      "  return f(*args, **kwds)\n"
     ]
    }
   ],
   "source": [
    "import numpy as np\n",
    "import pandas as pd\n",
    "from tensorflow.keras.models import load_model\n",
    "from azureml.core.model import Model\n",
    "from azureml.core import workspace\n",
    "from azureml.core import Run\n",
    "import os\n",
    "import json\n",
    "import joblib\n",
    "from PIL import Image\n",
    "\n",
    "def init():\n",
    "    global model\n",
    "    model_path=os.path.join(os.getenv('AZUREML_MODEL_DIR'),'document.h5')\n",
    "    model = load_model(model_path)\n",
    "def run(raw_data):\n",
    "    value=None\n",
    "    new_image = Image.fromarray(np.array(json.loads(raw_data), dtype='uint8'))\n",
    "    imgv=tf.keras.preprocessing.image.img_to_array(new_image, data_format=None, dtype=None)\n",
    "    imn=tf.image.resize(imgv,(224, 224))\n",
    "    img = np.expand_dims(imn, axis=0)\n",
    "    prediction = modelx.predict(img, batch_size=None,steps=1)\n",
    "    if(prediction[:,:]>0.5):\n",
    "        value =\"straightImage\"\n",
    "    else:\n",
    "        value =\"tiltedImage\"\n",
    "    return value"
   ]
  },
  {
   "cell_type": "code",
   "execution_count": null,
   "id": "0ce118bb",
   "metadata": {},
   "outputs": [],
   "source": []
  }
 ],
 "metadata": {
  "kernelspec": {
   "display_name": "Python 3",
   "language": "python",
   "name": "python3"
  },
  "language_info": {
   "codemirror_mode": {
    "name": "ipython",
    "version": 3
   },
   "file_extension": ".py",
   "mimetype": "text/x-python",
   "name": "python",
   "nbconvert_exporter": "python",
   "pygments_lexer": "ipython3",
   "version": "3.7.10"
  }
 },
 "nbformat": 4,
 "nbformat_minor": 5
}
