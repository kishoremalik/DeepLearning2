{
 "cells": [
  {
   "cell_type": "code",
   "execution_count": 4,
   "id": "03e3dcf6",
   "metadata": {},
   "outputs": [],
   "source": [
    "import azure.core\n",
    "from azureml.core import Workspace, Environment,Experiment,ScriptRunConfig"
   ]
  },
  {
   "cell_type": "code",
   "execution_count": 5,
   "id": "66fcb979",
   "metadata": {},
   "outputs": [],
   "source": [
    "from azureml.core.compute import AmlCompute,ComputeTarget\n",
    "from azureml.core.authentication import InteractiveLoginAuthentication"
   ]
  },
  {
   "cell_type": "code",
   "execution_count": null,
   "id": "93dee557",
   "metadata": {},
   "outputs": [],
   "source": [
    "## Creating new work space\n",
    "try:\n",
    "    ws=Workspace.from_config()\n",
    "except Exception as e:\n",
    "    ws=WorkSpace.create(\"myworkspace2\",\n",
    "                       resource_group=\"analytics\",\n",
    "                       subscription_id=\"\",\n",
    "                       create_resource_group=True,\n",
    "                       location=\"eastus2\")\n",
    "    ws.write_config(\".azureml\")"
   ]
  },
  {
   "cell_type": "markdown",
   "id": "bf2a60c0",
   "metadata": {},
   "source": [
    "## accessing the workspace"
   ]
  },
  {
   "cell_type": "code",
   "execution_count": 9,
   "id": "8e5856f8",
   "metadata": {},
   "outputs": [
    {
     "name": "stdout",
     "output_type": "stream",
     "text": [
      "Performing interactive authentication. Please follow the instructions on the terminal.\n"
     ]
    },
    {
     "name": "stderr",
     "output_type": "stream",
     "text": [
      "Note, we have launched a browser for you to login. For old experience with device code, use \"az login --use-device-code\"\n"
     ]
    },
    {
     "name": "stdout",
     "output_type": "stream",
     "text": [
      "You have logged in. Now let us find all the subscriptions to which you have access...\n",
      "Interactive authentication successfully completed.\n"
     ]
    }
   ],
   "source": [
    "try:\n",
    "    ws=Workspace.list('cfa28f36-8345-475f-aa77-126e68d22b1e')\n",
    "except Exception as e:\n",
    "    print(\"work space issue\",e)"
   ]
  },
  {
   "cell_type": "code",
   "execution_count": 10,
   "id": "5b9bc1fb",
   "metadata": {},
   "outputs": [
    {
     "data": {
      "text/plain": [
       "{'modelTest': [Workspace.create(name='modelTest', subscription_id='cfa28f36-8345-475f-aa77-126e68d22b1e', resource_group='rgx')],\n",
       " 'myworkspace': [Workspace.create(name='myworkspace', subscription_id='cfa28f36-8345-475f-aa77-126e68d22b1e', resource_group='rgx')]}"
      ]
     },
     "execution_count": 10,
     "metadata": {},
     "output_type": "execute_result"
    }
   ],
   "source": [
    "ws"
   ]
  },
  {
   "cell_type": "markdown",
   "id": "366c2b3e",
   "metadata": {},
   "source": [
    "## Creating Compute Resource"
   ]
  },
  {
   "cell_type": "code",
   "execution_count": 11,
   "id": "21536e5d",
   "metadata": {},
   "outputs": [
    {
     "ename": "SyntaxError",
     "evalue": "invalid syntax (<ipython-input-11-7b8c1f8d1ac8>, line 4)",
     "output_type": "error",
     "traceback": [
      "\u001b[1;36m  File \u001b[1;32m\"<ipython-input-11-7b8c1f8d1ac8>\"\u001b[1;36m, line \u001b[1;32m4\u001b[0m\n\u001b[1;33m    config=AmlCompute.provisioning_configuration(vm_size='STANDARD_D3_V2',min_nodes=0.max_nodes=2,idle_seconds_before_scaledown=2000)\u001b[0m\n\u001b[1;37m                                                                                              ^\u001b[0m\n\u001b[1;31mSyntaxError\u001b[0m\u001b[1;31m:\u001b[0m invalid syntax\n"
     ]
    }
   ],
   "source": [
    "try:\n",
    "    cluster=ComputeTarget(ws,'myworkspace')\n",
    "except:\n",
    "    config=AmlCompute.provisioning_configuration(vm_size='STANDARD_D3_V2',min_nodes=0.max_nodes=2,idle_seconds_before_scaledown=2000)\n",
    "    cluster=ComputeTarget.create(ws,\"myworkspace\",config)"
   ]
  },
  {
   "cell_type": "code",
   "execution_count": null,
   "id": "8ffc7775",
   "metadata": {},
   "outputs": [],
   "source": []
  }
 ],
 "metadata": {
  "kernelspec": {
   "display_name": "Python 3",
   "language": "python",
   "name": "python3"
  },
  "language_info": {
   "codemirror_mode": {
    "name": "ipython",
    "version": 3
   },
   "file_extension": ".py",
   "mimetype": "text/x-python",
   "name": "python",
   "nbconvert_exporter": "python",
   "pygments_lexer": "ipython3",
   "version": "3.7.10"
  }
 },
 "nbformat": 4,
 "nbformat_minor": 5
}
