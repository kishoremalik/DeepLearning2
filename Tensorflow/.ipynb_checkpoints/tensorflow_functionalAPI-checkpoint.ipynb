{
 "cells": [
  {
   "cell_type": "code",
   "execution_count": 1,
   "id": "a03a0dfa",
   "metadata": {},
   "outputs": [],
   "source": [
    "import numpy as np\n",
    "import pandas as pd"
   ]
  },
  {
   "cell_type": "code",
   "execution_count": 2,
   "id": "ab39266c",
   "metadata": {},
   "outputs": [],
   "source": [
    "data=pd.read_csv('E:\\Datasets\\diabetes.csv')"
   ]
  },
  {
   "cell_type": "code",
   "execution_count": 3,
   "id": "b9c9f139",
   "metadata": {},
   "outputs": [
    {
     "data": {
      "text/html": [
       "<div>\n",
       "<style scoped>\n",
       "    .dataframe tbody tr th:only-of-type {\n",
       "        vertical-align: middle;\n",
       "    }\n",
       "\n",
       "    .dataframe tbody tr th {\n",
       "        vertical-align: top;\n",
       "    }\n",
       "\n",
       "    .dataframe thead th {\n",
       "        text-align: right;\n",
       "    }\n",
       "</style>\n",
       "<table border=\"1\" class=\"dataframe\">\n",
       "  <thead>\n",
       "    <tr style=\"text-align: right;\">\n",
       "      <th></th>\n",
       "      <th>Pregnancies</th>\n",
       "      <th>Glucose</th>\n",
       "      <th>BloodPressure</th>\n",
       "      <th>SkinThickness</th>\n",
       "      <th>Insulin</th>\n",
       "      <th>BMI</th>\n",
       "      <th>DiabetesPedigreeFunction</th>\n",
       "      <th>Age</th>\n",
       "      <th>Outcome</th>\n",
       "    </tr>\n",
       "  </thead>\n",
       "  <tbody>\n",
       "    <tr>\n",
       "      <th>0</th>\n",
       "      <td>6</td>\n",
       "      <td>148</td>\n",
       "      <td>72</td>\n",
       "      <td>35</td>\n",
       "      <td>0</td>\n",
       "      <td>33.6</td>\n",
       "      <td>0.627</td>\n",
       "      <td>50</td>\n",
       "      <td>1</td>\n",
       "    </tr>\n",
       "    <tr>\n",
       "      <th>1</th>\n",
       "      <td>1</td>\n",
       "      <td>85</td>\n",
       "      <td>66</td>\n",
       "      <td>29</td>\n",
       "      <td>0</td>\n",
       "      <td>26.6</td>\n",
       "      <td>0.351</td>\n",
       "      <td>31</td>\n",
       "      <td>0</td>\n",
       "    </tr>\n",
       "    <tr>\n",
       "      <th>2</th>\n",
       "      <td>8</td>\n",
       "      <td>183</td>\n",
       "      <td>64</td>\n",
       "      <td>0</td>\n",
       "      <td>0</td>\n",
       "      <td>23.3</td>\n",
       "      <td>0.672</td>\n",
       "      <td>32</td>\n",
       "      <td>1</td>\n",
       "    </tr>\n",
       "    <tr>\n",
       "      <th>3</th>\n",
       "      <td>1</td>\n",
       "      <td>89</td>\n",
       "      <td>66</td>\n",
       "      <td>23</td>\n",
       "      <td>94</td>\n",
       "      <td>28.1</td>\n",
       "      <td>0.167</td>\n",
       "      <td>21</td>\n",
       "      <td>0</td>\n",
       "    </tr>\n",
       "    <tr>\n",
       "      <th>4</th>\n",
       "      <td>0</td>\n",
       "      <td>137</td>\n",
       "      <td>40</td>\n",
       "      <td>35</td>\n",
       "      <td>168</td>\n",
       "      <td>43.1</td>\n",
       "      <td>2.288</td>\n",
       "      <td>33</td>\n",
       "      <td>1</td>\n",
       "    </tr>\n",
       "  </tbody>\n",
       "</table>\n",
       "</div>"
      ],
      "text/plain": [
       "   Pregnancies  Glucose  BloodPressure  SkinThickness  Insulin   BMI  \\\n",
       "0            6      148             72             35        0  33.6   \n",
       "1            1       85             66             29        0  26.6   \n",
       "2            8      183             64              0        0  23.3   \n",
       "3            1       89             66             23       94  28.1   \n",
       "4            0      137             40             35      168  43.1   \n",
       "\n",
       "   DiabetesPedigreeFunction  Age  Outcome  \n",
       "0                     0.627   50        1  \n",
       "1                     0.351   31        0  \n",
       "2                     0.672   32        1  \n",
       "3                     0.167   21        0  \n",
       "4                     2.288   33        1  "
      ]
     },
     "execution_count": 3,
     "metadata": {},
     "output_type": "execute_result"
    }
   ],
   "source": [
    "data.head()"
   ]
  },
  {
   "cell_type": "code",
   "execution_count": 4,
   "id": "4839d8c6",
   "metadata": {},
   "outputs": [
    {
     "data": {
      "text/plain": [
       "0    500\n",
       "1    268\n",
       "Name: Outcome, dtype: int64"
      ]
     },
     "execution_count": 4,
     "metadata": {},
     "output_type": "execute_result"
    }
   ],
   "source": [
    "data['Outcome'].value_counts()"
   ]
  },
  {
   "cell_type": "code",
   "execution_count": 5,
   "id": "442c9c93",
   "metadata": {},
   "outputs": [],
   "source": [
    "target=data['Outcome']\n",
    "feature=data.drop('Outcome',axis=1)"
   ]
  },
  {
   "cell_type": "code",
   "execution_count": 6,
   "id": "2cff9ed2",
   "metadata": {},
   "outputs": [],
   "source": [
    "## blanced data set\n",
    "from imblearn.over_sampling import SMOTE\n",
    "smot=SMOTE(random_state=0, n_jobs=8)\n",
    "x,y=smot.fit_resample(feature,target)"
   ]
  },
  {
   "cell_type": "code",
   "execution_count": 7,
   "id": "38452db4",
   "metadata": {},
   "outputs": [],
   "source": [
    "from sklearn.preprocessing import StandardScaler\n",
    "scl=StandardScaler()\n",
    "scl.fit(x)\n",
    "scl_data=scl.transform(x)"
   ]
  },
  {
   "cell_type": "code",
   "execution_count": 8,
   "id": "7711dbfb",
   "metadata": {},
   "outputs": [],
   "source": [
    "from sklearn.model_selection import train_test_split\n",
    "\n",
    "x_train,x_test,y_train,y_test=train_test_split(scl_data,y,test_size=0.2,random_state=2)"
   ]
  },
  {
   "cell_type": "code",
   "execution_count": 9,
   "id": "a2e232c2",
   "metadata": {},
   "outputs": [],
   "source": [
    "import tensorflow as tf\n",
    "from tensorflow.keras import layers,Model,Input"
   ]
  },
  {
   "cell_type": "code",
   "execution_count": 10,
   "id": "30eff3d1",
   "metadata": {},
   "outputs": [],
   "source": [
    "inputs=Input(shape=(8,))\n",
    "x=layers.Dense(64,activation='relu',activity_regularizer=tf.keras.regularizers.L2(0.01))(inputs)\n",
    "x=layers.BatchNormalization()(x)\n",
    "x=layers.Dropout(0.4)(x)\n",
    "x=layers.Dense(32,activation='relu',activity_regularizer=tf.keras.regularizers.L2(0.01))(x)\n",
    "x=layers.BatchNormalization()(x)\n",
    "x=layers.Dropout(0.4)(x)\n",
    "x=layers.Dense(1,activation='sigmoid')(x)\n",
    "model=Model(inputs=inputs,outputs=x)"
   ]
  },
  {
   "cell_type": "code",
   "execution_count": 11,
   "id": "1af47251",
   "metadata": {},
   "outputs": [],
   "source": [
    "model.compile(optimizer='Adam',loss='binary_crossentropy',metrics=['accuracy'])"
   ]
  },
  {
   "cell_type": "code",
   "execution_count": 12,
   "id": "bb0c6d5b",
   "metadata": {},
   "outputs": [
    {
     "name": "stdout",
     "output_type": "stream",
     "text": [
      "Model: \"model\"\n",
      "_________________________________________________________________\n",
      "Layer (type)                 Output Shape              Param #   \n",
      "=================================================================\n",
      "input_1 (InputLayer)         [(None, 8)]               0         \n",
      "_________________________________________________________________\n",
      "dense (Dense)                (None, 64)                576       \n",
      "_________________________________________________________________\n",
      "batch_normalization (BatchNo (None, 64)                256       \n",
      "_________________________________________________________________\n",
      "dropout (Dropout)            (None, 64)                0         \n",
      "_________________________________________________________________\n",
      "dense_1 (Dense)              (None, 32)                2080      \n",
      "_________________________________________________________________\n",
      "batch_normalization_1 (Batch (None, 32)                128       \n",
      "_________________________________________________________________\n",
      "dropout_1 (Dropout)          (None, 32)                0         \n",
      "_________________________________________________________________\n",
      "dense_2 (Dense)              (None, 1)                 33        \n",
      "=================================================================\n",
      "Total params: 3,073\n",
      "Trainable params: 2,881\n",
      "Non-trainable params: 192\n",
      "_________________________________________________________________\n"
     ]
    }
   ],
   "source": [
    "model.summary()"
   ]
  },
  {
   "cell_type": "code",
   "execution_count": 13,
   "id": "c1e89d1d",
   "metadata": {},
   "outputs": [
    {
     "name": "stdout",
     "output_type": "stream",
     "text": [
      "Epoch 1/100\n",
      "80/80 - 2s - loss: 1.1752 - accuracy: 0.6150 - val_loss: 0.6959 - val_accuracy: 0.6300\n",
      "Epoch 2/100\n",
      "80/80 - 0s - loss: 1.0307 - accuracy: 0.6625 - val_loss: 0.6597 - val_accuracy: 0.7050\n",
      "Epoch 3/100\n",
      "80/80 - 0s - loss: 0.9146 - accuracy: 0.6888 - val_loss: 0.6389 - val_accuracy: 0.7100\n",
      "Epoch 4/100\n",
      "80/80 - 0s - loss: 0.9136 - accuracy: 0.6825 - val_loss: 0.6397 - val_accuracy: 0.7250\n",
      "Epoch 5/100\n",
      "80/80 - 0s - loss: 0.8317 - accuracy: 0.7100 - val_loss: 0.6342 - val_accuracy: 0.7350\n",
      "Epoch 6/100\n",
      "80/80 - 0s - loss: 0.8305 - accuracy: 0.7163 - val_loss: 0.6377 - val_accuracy: 0.7350\n",
      "Epoch 7/100\n",
      "80/80 - 0s - loss: 0.7815 - accuracy: 0.6888 - val_loss: 0.6377 - val_accuracy: 0.7350\n",
      "Epoch 8/100\n",
      "80/80 - 0s - loss: 0.7619 - accuracy: 0.7025 - val_loss: 0.6192 - val_accuracy: 0.7350\n",
      "Epoch 9/100\n",
      "80/80 - 0s - loss: 0.7421 - accuracy: 0.7150 - val_loss: 0.6112 - val_accuracy: 0.7400\n",
      "Epoch 10/100\n",
      "80/80 - 0s - loss: 0.7110 - accuracy: 0.7150 - val_loss: 0.6105 - val_accuracy: 0.7400\n",
      "Epoch 11/100\n",
      "80/80 - 0s - loss: 0.6783 - accuracy: 0.7275 - val_loss: 0.5907 - val_accuracy: 0.7700\n",
      "Epoch 12/100\n",
      "80/80 - 0s - loss: 0.6782 - accuracy: 0.7387 - val_loss: 0.5878 - val_accuracy: 0.7600\n",
      "Epoch 13/100\n",
      "80/80 - 0s - loss: 0.6519 - accuracy: 0.7487 - val_loss: 0.5802 - val_accuracy: 0.7700\n",
      "Epoch 14/100\n",
      "80/80 - 0s - loss: 0.6688 - accuracy: 0.7225 - val_loss: 0.5759 - val_accuracy: 0.7650\n",
      "Epoch 15/100\n",
      "80/80 - 0s - loss: 0.6665 - accuracy: 0.7337 - val_loss: 0.5724 - val_accuracy: 0.7750\n",
      "Epoch 16/100\n",
      "80/80 - 0s - loss: 0.6311 - accuracy: 0.7387 - val_loss: 0.5744 - val_accuracy: 0.7600\n",
      "Epoch 17/100\n",
      "80/80 - 0s - loss: 0.6289 - accuracy: 0.7412 - val_loss: 0.5813 - val_accuracy: 0.7650\n",
      "Epoch 18/100\n",
      "80/80 - 0s - loss: 0.6171 - accuracy: 0.7425 - val_loss: 0.5757 - val_accuracy: 0.7850\n",
      "Epoch 19/100\n",
      "80/80 - 0s - loss: 0.6154 - accuracy: 0.7287 - val_loss: 0.5667 - val_accuracy: 0.7800\n",
      "Epoch 20/100\n",
      "80/80 - 0s - loss: 0.6017 - accuracy: 0.7613 - val_loss: 0.5622 - val_accuracy: 0.7750\n",
      "Epoch 21/100\n",
      "80/80 - 0s - loss: 0.6076 - accuracy: 0.7325 - val_loss: 0.5632 - val_accuracy: 0.7800\n",
      "Epoch 22/100\n",
      "80/80 - 0s - loss: 0.6130 - accuracy: 0.7337 - val_loss: 0.5680 - val_accuracy: 0.7900\n",
      "Epoch 23/100\n",
      "80/80 - 0s - loss: 0.6078 - accuracy: 0.7425 - val_loss: 0.5654 - val_accuracy: 0.7850\n",
      "Epoch 24/100\n",
      "80/80 - 0s - loss: 0.5964 - accuracy: 0.7312 - val_loss: 0.5559 - val_accuracy: 0.7800\n",
      "Epoch 25/100\n",
      "80/80 - 0s - loss: 0.6061 - accuracy: 0.7362 - val_loss: 0.5683 - val_accuracy: 0.7650\n",
      "Epoch 26/100\n",
      "80/80 - 0s - loss: 0.5826 - accuracy: 0.7387 - val_loss: 0.5710 - val_accuracy: 0.7900\n",
      "Epoch 27/100\n",
      "80/80 - 0s - loss: 0.5765 - accuracy: 0.7513 - val_loss: 0.5620 - val_accuracy: 0.7750\n",
      "Epoch 28/100\n",
      "80/80 - 0s - loss: 0.5842 - accuracy: 0.7437 - val_loss: 0.5622 - val_accuracy: 0.7900\n",
      "Epoch 29/100\n",
      "80/80 - 0s - loss: 0.5722 - accuracy: 0.7437 - val_loss: 0.5647 - val_accuracy: 0.7750\n",
      "Epoch 30/100\n",
      "80/80 - 0s - loss: 0.5836 - accuracy: 0.7525 - val_loss: 0.5610 - val_accuracy: 0.7750\n",
      "Epoch 31/100\n",
      "80/80 - 0s - loss: 0.5724 - accuracy: 0.7625 - val_loss: 0.5568 - val_accuracy: 0.7800\n",
      "Epoch 32/100\n",
      "80/80 - 0s - loss: 0.5621 - accuracy: 0.7650 - val_loss: 0.5548 - val_accuracy: 0.7950\n",
      "Epoch 33/100\n",
      "80/80 - 0s - loss: 0.5784 - accuracy: 0.7450 - val_loss: 0.5476 - val_accuracy: 0.8050\n",
      "Epoch 34/100\n",
      "80/80 - 0s - loss: 0.5761 - accuracy: 0.7425 - val_loss: 0.5467 - val_accuracy: 0.8200\n",
      "Epoch 35/100\n",
      "80/80 - 0s - loss: 0.5875 - accuracy: 0.7475 - val_loss: 0.5423 - val_accuracy: 0.8200\n",
      "Epoch 36/100\n",
      "80/80 - 0s - loss: 0.5356 - accuracy: 0.7663 - val_loss: 0.5448 - val_accuracy: 0.8000\n",
      "Epoch 37/100\n",
      "80/80 - 0s - loss: 0.5488 - accuracy: 0.7675 - val_loss: 0.5522 - val_accuracy: 0.7700\n",
      "Epoch 38/100\n",
      "80/80 - 0s - loss: 0.5323 - accuracy: 0.7738 - val_loss: 0.5396 - val_accuracy: 0.7800\n",
      "Epoch 39/100\n",
      "80/80 - 0s - loss: 0.5316 - accuracy: 0.7663 - val_loss: 0.5319 - val_accuracy: 0.7900\n",
      "Epoch 40/100\n",
      "80/80 - 0s - loss: 0.5530 - accuracy: 0.7638 - val_loss: 0.5390 - val_accuracy: 0.7750\n",
      "Epoch 41/100\n",
      "80/80 - 0s - loss: 0.5498 - accuracy: 0.7613 - val_loss: 0.5305 - val_accuracy: 0.7650\n",
      "Epoch 42/100\n",
      "80/80 - 0s - loss: 0.5557 - accuracy: 0.7538 - val_loss: 0.5393 - val_accuracy: 0.7650\n",
      "Epoch 43/100\n",
      "80/80 - 0s - loss: 0.5655 - accuracy: 0.7763 - val_loss: 0.5469 - val_accuracy: 0.7650\n",
      "Epoch 44/100\n",
      "80/80 - 0s - loss: 0.5305 - accuracy: 0.7638 - val_loss: 0.5493 - val_accuracy: 0.7550\n",
      "Epoch 45/100\n",
      "80/80 - 0s - loss: 0.5621 - accuracy: 0.7513 - val_loss: 0.5374 - val_accuracy: 0.7800\n",
      "Epoch 46/100\n",
      "80/80 - 0s - loss: 0.5599 - accuracy: 0.7625 - val_loss: 0.5353 - val_accuracy: 0.7750\n",
      "Epoch 47/100\n",
      "80/80 - 0s - loss: 0.5354 - accuracy: 0.7800 - val_loss: 0.5475 - val_accuracy: 0.7700\n",
      "Epoch 48/100\n",
      "80/80 - 0s - loss: 0.5346 - accuracy: 0.7700 - val_loss: 0.5466 - val_accuracy: 0.7500\n",
      "Epoch 49/100\n",
      "80/80 - 0s - loss: 0.5239 - accuracy: 0.7688 - val_loss: 0.5490 - val_accuracy: 0.7300\n",
      "Epoch 50/100\n",
      "80/80 - 0s - loss: 0.5401 - accuracy: 0.7788 - val_loss: 0.5402 - val_accuracy: 0.7350\n",
      "Epoch 51/100\n",
      "80/80 - 0s - loss: 0.5294 - accuracy: 0.7650 - val_loss: 0.5391 - val_accuracy: 0.7500\n",
      "Epoch 52/100\n",
      "80/80 - 0s - loss: 0.5103 - accuracy: 0.7713 - val_loss: 0.5340 - val_accuracy: 0.7450\n",
      "Epoch 53/100\n",
      "80/80 - 0s - loss: 0.5014 - accuracy: 0.7825 - val_loss: 0.5259 - val_accuracy: 0.7500\n",
      "Epoch 54/100\n",
      "80/80 - 0s - loss: 0.5138 - accuracy: 0.7825 - val_loss: 0.5354 - val_accuracy: 0.7650\n",
      "Epoch 55/100\n",
      "80/80 - 0s - loss: 0.5459 - accuracy: 0.7837 - val_loss: 0.5349 - val_accuracy: 0.7700\n",
      "Epoch 56/100\n",
      "80/80 - 0s - loss: 0.5035 - accuracy: 0.7837 - val_loss: 0.5370 - val_accuracy: 0.7700\n",
      "Epoch 57/100\n",
      "80/80 - 0s - loss: 0.5071 - accuracy: 0.7825 - val_loss: 0.5355 - val_accuracy: 0.7400\n",
      "Epoch 58/100\n",
      "80/80 - 0s - loss: 0.5183 - accuracy: 0.7663 - val_loss: 0.5224 - val_accuracy: 0.7750\n",
      "Epoch 59/100\n",
      "80/80 - 0s - loss: 0.4999 - accuracy: 0.7962 - val_loss: 0.5316 - val_accuracy: 0.7500\n",
      "Epoch 60/100\n",
      "80/80 - 0s - loss: 0.5110 - accuracy: 0.7800 - val_loss: 0.5352 - val_accuracy: 0.7700\n",
      "Epoch 61/100\n",
      "80/80 - 0s - loss: 0.5340 - accuracy: 0.7600 - val_loss: 0.5332 - val_accuracy: 0.7750\n",
      "Epoch 62/100\n",
      "80/80 - 0s - loss: 0.4948 - accuracy: 0.7862 - val_loss: 0.5376 - val_accuracy: 0.7450\n",
      "Epoch 63/100\n",
      "80/80 - 0s - loss: 0.4922 - accuracy: 0.7825 - val_loss: 0.5280 - val_accuracy: 0.7550\n",
      "Epoch 64/100\n",
      "80/80 - 0s - loss: 0.5336 - accuracy: 0.7725 - val_loss: 0.5308 - val_accuracy: 0.7650\n",
      "Epoch 65/100\n",
      "80/80 - 0s - loss: 0.5224 - accuracy: 0.7725 - val_loss: 0.5297 - val_accuracy: 0.7600\n",
      "Epoch 66/100\n",
      "80/80 - 0s - loss: 0.4829 - accuracy: 0.7725 - val_loss: 0.5374 - val_accuracy: 0.7500\n",
      "Epoch 67/100\n",
      "80/80 - 0s - loss: 0.4968 - accuracy: 0.7862 - val_loss: 0.5350 - val_accuracy: 0.7250\n",
      "Epoch 68/100\n",
      "80/80 - 0s - loss: 0.5176 - accuracy: 0.7700 - val_loss: 0.5404 - val_accuracy: 0.7300\n",
      "Epoch 69/100\n",
      "80/80 - 0s - loss: 0.5009 - accuracy: 0.7887 - val_loss: 0.5193 - val_accuracy: 0.7450\n",
      "Epoch 70/100\n",
      "80/80 - 0s - loss: 0.5068 - accuracy: 0.7713 - val_loss: 0.5096 - val_accuracy: 0.7700\n",
      "Epoch 71/100\n",
      "80/80 - 0s - loss: 0.4992 - accuracy: 0.7862 - val_loss: 0.5148 - val_accuracy: 0.7850\n",
      "Epoch 72/100\n",
      "80/80 - 0s - loss: 0.5043 - accuracy: 0.7825 - val_loss: 0.5261 - val_accuracy: 0.7550\n",
      "Epoch 73/100\n",
      "80/80 - 0s - loss: 0.4869 - accuracy: 0.7812 - val_loss: 0.5232 - val_accuracy: 0.7600\n",
      "Epoch 74/100\n",
      "80/80 - 0s - loss: 0.5230 - accuracy: 0.7738 - val_loss: 0.5267 - val_accuracy: 0.7350\n",
      "Epoch 75/100\n",
      "80/80 - 0s - loss: 0.4863 - accuracy: 0.8012 - val_loss: 0.5267 - val_accuracy: 0.7450\n",
      "Epoch 76/100\n",
      "80/80 - 0s - loss: 0.4898 - accuracy: 0.7887 - val_loss: 0.5173 - val_accuracy: 0.7450\n",
      "Epoch 77/100\n",
      "80/80 - 0s - loss: 0.4751 - accuracy: 0.8125 - val_loss: 0.5063 - val_accuracy: 0.7700\n",
      "Epoch 78/100\n",
      "80/80 - 0s - loss: 0.4612 - accuracy: 0.8125 - val_loss: 0.5088 - val_accuracy: 0.7700\n",
      "Epoch 79/100\n",
      "80/80 - 0s - loss: 0.5017 - accuracy: 0.7788 - val_loss: 0.5253 - val_accuracy: 0.7550\n",
      "Epoch 80/100\n",
      "80/80 - 0s - loss: 0.4815 - accuracy: 0.7887 - val_loss: 0.5265 - val_accuracy: 0.7500\n",
      "Epoch 81/100\n",
      "80/80 - 0s - loss: 0.5109 - accuracy: 0.7825 - val_loss: 0.5199 - val_accuracy: 0.7750\n",
      "Epoch 82/100\n",
      "80/80 - 0s - loss: 0.4927 - accuracy: 0.7850 - val_loss: 0.5153 - val_accuracy: 0.7600\n",
      "Epoch 83/100\n"
     ]
    },
    {
     "name": "stdout",
     "output_type": "stream",
     "text": [
      "80/80 - 0s - loss: 0.4856 - accuracy: 0.7862 - val_loss: 0.5028 - val_accuracy: 0.7750\n",
      "Epoch 84/100\n",
      "80/80 - 0s - loss: 0.4953 - accuracy: 0.7850 - val_loss: 0.5129 - val_accuracy: 0.7550\n",
      "Epoch 85/100\n",
      "80/80 - 0s - loss: 0.4777 - accuracy: 0.7887 - val_loss: 0.5053 - val_accuracy: 0.7650\n",
      "Epoch 86/100\n",
      "80/80 - 0s - loss: 0.4838 - accuracy: 0.7800 - val_loss: 0.5017 - val_accuracy: 0.7650\n",
      "Epoch 87/100\n",
      "80/80 - 0s - loss: 0.4986 - accuracy: 0.7850 - val_loss: 0.5048 - val_accuracy: 0.7700\n",
      "Epoch 88/100\n",
      "80/80 - 0s - loss: 0.4886 - accuracy: 0.7912 - val_loss: 0.4934 - val_accuracy: 0.7750\n",
      "Epoch 89/100\n",
      "80/80 - 0s - loss: 0.4798 - accuracy: 0.8025 - val_loss: 0.5088 - val_accuracy: 0.7600\n",
      "Epoch 90/100\n",
      "80/80 - 0s - loss: 0.4777 - accuracy: 0.8087 - val_loss: 0.5180 - val_accuracy: 0.7600\n",
      "Epoch 91/100\n",
      "80/80 - 0s - loss: 0.4758 - accuracy: 0.8000 - val_loss: 0.5099 - val_accuracy: 0.7550\n",
      "Epoch 92/100\n",
      "80/80 - 0s - loss: 0.4820 - accuracy: 0.7850 - val_loss: 0.5058 - val_accuracy: 0.7850\n",
      "Epoch 93/100\n",
      "80/80 - 0s - loss: 0.4961 - accuracy: 0.7900 - val_loss: 0.5159 - val_accuracy: 0.7650\n",
      "Epoch 94/100\n",
      "80/80 - 0s - loss: 0.4699 - accuracy: 0.8075 - val_loss: 0.5309 - val_accuracy: 0.7600\n",
      "Epoch 95/100\n",
      "80/80 - 0s - loss: 0.4849 - accuracy: 0.7875 - val_loss: 0.5201 - val_accuracy: 0.7800\n",
      "Epoch 96/100\n",
      "80/80 - 0s - loss: 0.4678 - accuracy: 0.8025 - val_loss: 0.5030 - val_accuracy: 0.7950\n",
      "Epoch 97/100\n",
      "80/80 - 0s - loss: 0.4999 - accuracy: 0.7825 - val_loss: 0.5287 - val_accuracy: 0.7600\n",
      "Epoch 98/100\n",
      "80/80 - 0s - loss: 0.4843 - accuracy: 0.7800 - val_loss: 0.5153 - val_accuracy: 0.7700\n",
      "Epoch 99/100\n",
      "80/80 - 0s - loss: 0.4979 - accuracy: 0.7812 - val_loss: 0.5153 - val_accuracy: 0.7950\n",
      "Epoch 100/100\n",
      "80/80 - 0s - loss: 0.4770 - accuracy: 0.7763 - val_loss: 0.5253 - val_accuracy: 0.7900\n"
     ]
    },
    {
     "data": {
      "text/plain": [
       "<tensorflow.python.keras.callbacks.History at 0x285f4b3d8c8>"
      ]
     },
     "execution_count": 13,
     "metadata": {},
     "output_type": "execute_result"
    }
   ],
   "source": [
    "model.fit(x_train,y_train,epochs=100,validation_data=(x_test, y_test),batch_size=10,verbose=2)"
   ]
  },
  {
   "cell_type": "code",
   "execution_count": 14,
   "id": "c14d4101",
   "metadata": {},
   "outputs": [],
   "source": [
    "#history.history"
   ]
  },
  {
   "cell_type": "code",
   "execution_count": 15,
   "id": "45946b54",
   "metadata": {},
   "outputs": [
    {
     "name": "stdout",
     "output_type": "stream",
     "text": [
      "7/7 [==============================] - 0s 2ms/step - loss: 0.5253 - accuracy: 0.7900\n"
     ]
    }
   ],
   "source": [
    "val,acc=model.evaluate(x_test,y_test)"
   ]
  },
  {
   "cell_type": "code",
   "execution_count": 16,
   "id": "a26ed4b5",
   "metadata": {},
   "outputs": [],
   "source": [
    "pred=model.predict(x_test)\n",
    "res=[round(x[0]) for x in pred]"
   ]
  },
  {
   "cell_type": "code",
   "execution_count": 17,
   "id": "d30567d9",
   "metadata": {},
   "outputs": [],
   "source": [
    "from sklearn.metrics import classification_report,accuracy_score,confusion_matrix"
   ]
  },
  {
   "cell_type": "code",
   "execution_count": 18,
   "id": "707b9d56",
   "metadata": {},
   "outputs": [
    {
     "name": "stdout",
     "output_type": "stream",
     "text": [
      "              precision    recall  f1-score   support\n",
      "\n",
      "           0       0.76      0.78      0.77        91\n",
      "           1       0.81      0.80      0.81       109\n",
      "\n",
      "    accuracy                           0.79       200\n",
      "   macro avg       0.79      0.79      0.79       200\n",
      "weighted avg       0.79      0.79      0.79       200\n",
      "\n"
     ]
    }
   ],
   "source": [
    "print(classification_report(y_test,res))"
   ]
  },
  {
   "cell_type": "code",
   "execution_count": 19,
   "id": "ee0e892d",
   "metadata": {},
   "outputs": [
    {
     "data": {
      "text/plain": [
       "0.79"
      ]
     },
     "execution_count": 19,
     "metadata": {},
     "output_type": "execute_result"
    }
   ],
   "source": [
    "accuracy_score(y_test,res)"
   ]
  },
  {
   "cell_type": "code",
   "execution_count": 20,
   "id": "93d57018",
   "metadata": {},
   "outputs": [
    {
     "data": {
      "text/plain": [
       "array([[71, 20],\n",
       "       [22, 87]], dtype=int64)"
      ]
     },
     "execution_count": 20,
     "metadata": {},
     "output_type": "execute_result"
    }
   ],
   "source": [
    "confusion_matrix(y_test,res)"
   ]
  }
 ],
 "metadata": {
  "kernelspec": {
   "display_name": "Python 3",
   "language": "python",
   "name": "python3"
  },
  "language_info": {
   "codemirror_mode": {
    "name": "ipython",
    "version": 3
   },
   "file_extension": ".py",
   "mimetype": "text/x-python",
   "name": "python",
   "nbconvert_exporter": "python",
   "pygments_lexer": "ipython3",
   "version": "3.7.10"
  }
 },
 "nbformat": 4,
 "nbformat_minor": 5
}
